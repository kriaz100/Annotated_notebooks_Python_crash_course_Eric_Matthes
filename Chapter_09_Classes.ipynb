{
  "nbformat": 4,
  "nbformat_minor": 0,
  "metadata": {
    "colab": {
      "name": "Chapter_09_Classes.ipynb",
      "provenance": [],
      "authorship_tag": "ABX9TyPP83xqol5NaNH4SQib1TB4",
      "include_colab_link": true
    },
    "kernelspec": {
      "name": "python3",
      "display_name": "Python 3"
    },
    "language_info": {
      "name": "python"
    }
  },
  "cells": [
    {
      "cell_type": "markdown",
      "metadata": {
        "id": "view-in-github",
        "colab_type": "text"
      },
      "source": [
        "<a href=\"https://colab.research.google.com/github/kriaz100/Python_crash_course_notebooks/blob/main/Chapter_09_Classes.ipynb\" target=\"_parent\"><img src=\"https://colab.research.google.com/assets/colab-badge.svg\" alt=\"Open In Colab\"/></a>"
      ]
    },
    {
      "cell_type": "markdown",
      "source": [
        "# **Chapter 9: Classes**\n",
        "\n",
        "The following .py files have been included\n",
        "- `dog.py` ==> creating and using a class\n",
        "- `car.py`      ==> working with classes and instances\n",
        "- `electric_car.py`  ==> Importing classes\n"
      ],
      "metadata": {
        "id": "buqO7fP7xeT4"
      }
    },
    {
      "cell_type": "markdown",
      "source": [
        "## dog.py\n",
        "### Creates Dog class"
      ],
      "metadata": {
        "id": "Egnoo9ABx-M8"
      }
    },
    {
      "cell_type": "markdown",
      "source": [
        "##**Creating and Using a Class**\n",
        "\n",
        "Object oriented programming (OOP) is one of the most effective approaches for creating software. In OOP you write Classes that represent real world things and situations. \n",
        "\n",
        "A class named \"**Dog**\" can define \"objects\" that can be created with this class. No prizes for guessing that these \"objects\" would be dogs!  As a convention, the first letter of the class name is capitalized. \n",
        "\n",
        "- *Classes are blueprints of objects to be created:* The class can define what general charateristics the objects have. For example, the Dog class could define the characteristics that dogs (in general) have, such as name and age. \n",
        "\n",
        "- *Instentiation:* Each dog is different, however. They have different names and ages. So when we talk about a particular dog, we are talking about a particular set of characteristics: dog named Willie whose age is 6 years. We say, that this is a particular **instance** of the Dog class (ie, the dog Willie, aged 6 years).\n",
        "\n",
        "- *Each instance of the class is a different object.* The dog willie is one object, and the dog Lucy, which is 3 years old, is another object. So we can use the Dog class blueprint to create several dog objects which have the same general characteristics: name and age. But they have unique traits i.e. their names and ages are different.   \n",
        "\n"
      ],
      "metadata": {
        "id": "-0yOdlWLnq5d"
      }
    },
    {
      "cell_type": "code",
      "execution_count": null,
      "metadata": {
        "colab": {
          "base_uri": "https://localhost:8080/"
        },
        "id": "YYk7WCAKxVi6",
        "outputId": "15cd858c-3da8-4a6d-fe5b-397ccbbb48b7"
      },
      "outputs": [
        {
          "output_type": "stream",
          "name": "stdout",
          "text": [
            "My dog's name is Willie.\n",
            "My dog is 6 years old.\n",
            "Willie is now sitting.\n",
            "\n",
            "Your dog's name is Lucy.\n",
            "Your dog is 3 years old.\n",
            "Lucy is now sitting.\n"
          ]
        }
      ],
      "source": [
        "class Dog:\n",
        "    \"\"\"A simple attempt to model a dog.\"\"\"  \n",
        "  \n",
        "    def __init__(self, name, age):\n",
        "        \"\"\"Initialize name and age attributes.\"\"\"\n",
        "        self.name = name\n",
        "        self.age = age\n",
        "        \n",
        "    def sit(self):\n",
        "        \"\"\"Simulate a dog sitting in response to a command.\"\"\"\n",
        "        print(f\"{self.name} is now sitting.\")\n",
        "\n",
        "    def roll_over(self):\n",
        "        \"\"\"Simulate rolling over in response to a command.\"\"\"\n",
        "        print(f\"{self.name} rolled over!\")\n",
        "\n",
        "my_dog = Dog('Willie', 6)\n",
        "your_dog = Dog('Lucy', 3)\n",
        "\n",
        "print(f\"My dog's name is {my_dog.name}.\")\n",
        "print(f\"My dog is {my_dog.age} years old.\")\n",
        "my_dog.sit()\n",
        "\n",
        "print(f\"\\nYour dog's name is {your_dog.name}.\")\n",
        "print(f\"Your dog is {your_dog.age} years old.\")\n",
        "your_dog.sit()"
      ]
    },
    {
      "cell_type": "markdown",
      "source": [
        "## car.py\n",
        "### creates Car class"
      ],
      "metadata": {
        "id": "TgLzk7OPyeNv"
      }
    },
    {
      "cell_type": "code",
      "source": [
        "class Car:\n",
        "    \"\"\"A simple attempt to represent a car.\"\"\"\n",
        "\n",
        "    def __init__(self, make, model, year):\n",
        "        \"\"\"Initialize attributes to describe a car.\"\"\"\n",
        "        self.make = make\n",
        "        self.model = model\n",
        "        self.year = year\n",
        "        self.odometer_reading = 0\n",
        "        \n",
        "    def get_descriptive_name(self):\n",
        "        \"\"\"Return a neatly formatted descriptive name.\"\"\"\n",
        "        long_name = f\"{self.year} {self.make} {self.model}\"\n",
        "        return long_name.title()\n",
        "\n",
        "    def read_odometer(self):\n",
        "        \"\"\"Print a statement showing the car's mileage.\"\"\"\n",
        "        print(f\"This car has {self.odometer_reading} miles on it.\")\n",
        "\n",
        "    def update_odometer(self, mileage):\n",
        "        \"\"\"\n",
        "        Set the odometer reading to the given value.\n",
        "        Reject the change if it attempts to roll the odometer back.\n",
        "        \"\"\"\n",
        "        if mileage >= self.odometer_reading:\n",
        "            self.odometer_reading = mileage\n",
        "        else:\n",
        "            print(\"You can't roll back an odometer!\")\n",
        "\n",
        "    def increment_odometer(self, miles):\n",
        "        \"\"\"Add the given amount to the odometer reading.\"\"\"\n",
        "        self.odometer_reading += miles\n",
        "    \n",
        "my_used_car = Car('subaru', 'outback', 2015)\n",
        "print(my_used_car.get_descriptive_name())\n",
        "\n",
        "my_used_car.update_odometer(23_500)\n",
        "my_used_car.read_odometer()\n",
        "\n",
        "my_used_car.increment_odometer(100)\n",
        "my_used_car.read_odometer()\n"
      ],
      "metadata": {
        "colab": {
          "base_uri": "https://localhost:8080/"
        },
        "id": "Ht9fvXXZyk7u",
        "outputId": "9621b04b-80a6-45e0-bd02-4bc45cf28e70"
      },
      "execution_count": null,
      "outputs": [
        {
          "output_type": "stream",
          "name": "stdout",
          "text": [
            "2015 Subaru Outback\n",
            "This car has 23500 miles on it.\n",
            "This car has 23600 miles on it.\n"
          ]
        }
      ]
    },
    {
      "cell_type": "markdown",
      "source": [
        "## Electric_car.py"
      ],
      "metadata": {
        "id": "G5t3oA3rKyqw"
      }
    },
    {
      "cell_type": "code",
      "source": [
        "\n",
        "class ElectricCar(Car):\n",
        "    \"\"\"Represent aspects of a car, specific to electric vehicles.\"\"\"\n",
        "    \n",
        "    def __init__(self, make, model, year):\n",
        "        \"\"\"\n",
        "        Initialize attributes of the parent class.\n",
        "        Then initialize attributes specific to an electric car.\n",
        "        \"\"\"\n",
        "        super().__init__(make, model, year)\n",
        "        self.battery_size = 75\n",
        "\n",
        "    def describe_battery(self):\n",
        "        \"\"\"Print a statement describing the battery size.\"\"\"\n",
        "        print(f\"This car has a {self.battery_size}-kWh battery.\")\n",
        "\n",
        "my_tesla = ElectricCar('tesla', 'model s', 2019)\n",
        "print(my_tesla.get_descriptive_name())\n",
        "my_tesla.describe_battery()\n"
      ],
      "metadata": {
        "colab": {
          "base_uri": "https://localhost:8080/"
        },
        "id": "bDu-0DvXK3rJ",
        "outputId": "290e3b23-a973-4278-8454-b769256f340a"
      },
      "execution_count": null,
      "outputs": [
        {
          "output_type": "stream",
          "name": "stdout",
          "text": [
            "2019 Tesla Model S\n",
            "This car has a 75-kWh battery.\n"
          ]
        }
      ]
    }
  ]
}