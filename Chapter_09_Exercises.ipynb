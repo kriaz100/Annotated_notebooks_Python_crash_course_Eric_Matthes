{
  "nbformat": 4,
  "nbformat_minor": 0,
  "metadata": {
    "colab": {
      "name": "Chapter_09_Exercises.ipynb",
      "provenance": [],
      "authorship_tag": "ABX9TyPHuabKlxR4T/YkeKJoqVS5",
      "include_colab_link": true
    },
    "kernelspec": {
      "name": "python3",
      "display_name": "Python 3"
    },
    "language_info": {
      "name": "python"
    }
  },
  "cells": [
    {
      "cell_type": "markdown",
      "metadata": {
        "id": "view-in-github",
        "colab_type": "text"
      },
      "source": [
        "<a href=\"https://colab.research.google.com/github/kriaz100/Python_crash_course_notebooks/blob/main/Chapter_09_Exercises.ipynb\" target=\"_parent\"><img src=\"https://colab.research.google.com/assets/colab-badge.svg\" alt=\"Open In Colab\"/></a>"
      ]
    },
    {
      "cell_type": "code",
      "execution_count": 1,
      "metadata": {
        "colab": {
          "base_uri": "https://localhost:8080/"
        },
        "id": "ycB3M7VwSL7V",
        "outputId": "aeb9af1b-c4e7-4cc1-d7c5-4b9f09339917"
      },
      "outputs": [
        {
          "output_type": "stream",
          "name": "stdout",
          "text": [
            "Secret Sky is a great place for coffee & sandwiches\n"
          ]
        }
      ],
      "source": [
        "class Restaurant:\n",
        "  \"\"\"creating Restaurant class\"\"\"\n",
        "  def __init__(self, name, cuisine_type):\n",
        "    self.name = name\n",
        "    self.cuisine_type = cuisine_type\n",
        "\n",
        "  def describe_restaurant(self):\n",
        "    print(f\"{self.name} is a great place for {self.cuisine_type}\")\n",
        "\n",
        "\"\"\"creating an instance of the Restaurant class\"\"\"\n",
        "my_favorite_joint = Restaurant('Secret Sky', 'coffee & sandwiches')\n",
        "\n",
        "\"\"\"Calling a method on the instance of the Restaurant class\"\"\"\n",
        "my_favorite_joint.describe_restaurant()\n",
        " "
      ]
    },
    {
      "cell_type": "code",
      "source": [
        "your_favorite_joint = Restaurant('Asian Wok', 'authentic Asian food')\n",
        "your_favorite_joint.describe_restaurant()\n",
        "\n",
        "tourist_favorite_joint = Restaurant('Monal', 'BBQ')\n",
        "tourist_favorite_joint.describe_restaurant()"
      ],
      "metadata": {
        "colab": {
          "base_uri": "https://localhost:8080/"
        },
        "id": "RjxrBR-x2z-A",
        "outputId": "244378ff-0edf-44b8-cbb3-80a51d6df2e8"
      },
      "execution_count": 2,
      "outputs": [
        {
          "output_type": "stream",
          "name": "stdout",
          "text": [
            "Asian Wok is a great place for authentic Asian food\n",
            "Monal is a great place for BBQ\n"
          ]
        }
      ]
    },
    {
      "cell_type": "code",
      "source": [
        "class User:\n",
        "  def __init__(self, first_name, last_name, age, gender):\n",
        "    self.first_name= first_name\n",
        "    self.last_name = last_name\n",
        "    self.age = age\n",
        "    self.gender = gender\n",
        "  \n",
        "  def describe_user(self):\n",
        "    print(f\"{self.first_name} {self.last_name} is a {self.age} year old {self.gender}\")\n",
        "\n",
        "  def greet_user(self):\n",
        "    print(f\"Hello {self.first_name} {self.last_name}! how are you doing today?\")\n",
        "\n",
        "\"\"\"Instentiating User class to create an user1 object\"\"\"\n",
        "user1 = User('Tom', 'Wahl', 22, 'Male')\n",
        "\n",
        "\"\"\"Summary of user information \"\"\"\n",
        "user1.describe_user()\n",
        "\n",
        "\"\"\"Greet user \"\"\"\n",
        "user1.greet_user()\n",
        "\n"
      ],
      "metadata": {
        "colab": {
          "base_uri": "https://localhost:8080/"
        },
        "id": "-FVcDymt_EJb",
        "outputId": "535c6eaf-5b21-42d2-e697-723ce45cb7bd"
      },
      "execution_count": 16,
      "outputs": [
        {
          "output_type": "stream",
          "name": "stdout",
          "text": [
            "Tom Wahl is a 22 year old Male\n",
            "Hello Tom Wahl! how are you doing today?\n"
          ]
        }
      ]
    }
  ]
}