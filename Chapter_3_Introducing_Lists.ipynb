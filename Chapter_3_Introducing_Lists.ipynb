{
  "nbformat": 4,
  "nbformat_minor": 0,
  "metadata": {
    "colab": {
      "provenance": [],
      "authorship_tag": "ABX9TyMDXEE6sV2E8dZljt+vv5nz",
      "include_colab_link": true
    },
    "kernelspec": {
      "name": "python3",
      "display_name": "Python 3"
    },
    "language_info": {
      "name": "python"
    }
  },
  "cells": [
    {
      "cell_type": "markdown",
      "metadata": {
        "id": "view-in-github",
        "colab_type": "text"
      },
      "source": [
        "<a href=\"https://colab.research.google.com/github/kriaz100/Python_crash_course_notebooks/blob/main/Chapter_3_Introducing_Lists.ipynb\" target=\"_parent\"><img src=\"https://colab.research.google.com/assets/colab-badge.svg\" alt=\"Open In Colab\"/></a>"
      ]
    },
    {
      "cell_type": "markdown",
      "source": [
        "---\n",
        "<font color='blue'>*Crash Course in Python*</font>\n",
        ">  # <font color='darkblue'>**Chapter 3: Introducing Lists**</font>\n",
        "\n",
        "\n",
        "\n",
        "---"
      ],
      "metadata": {
        "id": "g_RJeipRbDqj"
      }
    },
    {
      "cell_type": "markdown",
      "source": [
        "<font color='blue'>**bicycles.py**</font>"
      ],
      "metadata": {
        "id": "MaKcaNAxc9lQ"
      }
    },
    {
      "cell_type": "markdown",
      "source": [
        "### **What is a List?**"
      ],
      "metadata": {
        "id": "FXiPIAIdrDfp"
      }
    },
    {
      "cell_type": "code",
      "source": [
        "# Accessing Elements in a List\n",
        "bicycles = ['trek', 'cannondale', 'redline', 'specialized']\n",
        "print(bicycles[0])\n",
        "print(bicycles[0].title())"
      ],
      "metadata": {
        "colab": {
          "base_uri": "https://localhost:8080/"
        },
        "id": "dNwxvVF8dSdz",
        "outputId": "90453e3a-13a7-4845-da56-65f50eff2478"
      },
      "execution_count": null,
      "outputs": [
        {
          "output_type": "stream",
          "name": "stdout",
          "text": [
            "trek\n",
            "Trek\n"
          ]
        }
      ]
    },
    {
      "cell_type": "code",
      "source": [
        "# Index position starts at 0, not 1\n",
        "#   code returns 2nd and 4rth bicycles in the list\n",
        "print(bicycles[1])\n",
        "print(bicycles[3])"
      ],
      "metadata": {
        "colab": {
          "base_uri": "https://localhost:8080/"
        },
        "id": "VzylrxzQkucR",
        "outputId": "f4536dc3-9f7f-466f-883b-6dc6672ec28e"
      },
      "execution_count": null,
      "outputs": [
        {
          "output_type": "stream",
          "name": "stdout",
          "text": [
            "cannondale\n",
            "specialized\n"
          ]
        }
      ]
    },
    {
      "cell_type": "code",
      "source": [
        "# Index -1 returns the last item in the bicycles list\n",
        "print(bicycles[-1])"
      ],
      "metadata": {
        "colab": {
          "base_uri": "https://localhost:8080/"
        },
        "id": "DeODdmT5k0tq",
        "outputId": "0cbf76cd-029e-48f1-d853-45047a2a933e"
      },
      "execution_count": null,
      "outputs": [
        {
          "output_type": "stream",
          "name": "stdout",
          "text": [
            "specialized\n"
          ]
        }
      ]
    },
    {
      "cell_type": "code",
      "source": [
        "# Using Individual Values from a List\n",
        "message = f\"My first bicycle was a {bicycles[0].title()}.\"\n",
        "print(message)"
      ],
      "metadata": {
        "colab": {
          "base_uri": "https://localhost:8080/"
        },
        "id": "Ba-wW-RzleJO",
        "outputId": "ccbce2bb-b856-4a90-e120-b256dd17b186"
      },
      "execution_count": null,
      "outputs": [
        {
          "output_type": "stream",
          "name": "stdout",
          "text": [
            "My first bicycle was a Trek.\n"
          ]
        }
      ]
    },
    {
      "cell_type": "markdown",
      "source": [
        "<font color='blue'>**motorcycles.py**</font>"
      ],
      "metadata": {
        "id": "j_eEtA4pdTbt"
      }
    },
    {
      "cell_type": "markdown",
      "source": [
        "##### **Changing, Adding, and Removing Elements**"
      ],
      "metadata": {
        "id": "5TQsBcfhpUfN"
      }
    },
    {
      "cell_type": "code",
      "source": [
        "# Modifying elements of a list \n",
        "motorcycles = ['honda', 'yamaha', 'suzuki'] \n",
        "print(motorcycles)\n",
        "\n",
        "motorcycles[0]= 'ducati'    # will replace first item\n",
        "print(motorcycles)"
      ],
      "metadata": {
        "colab": {
          "base_uri": "https://localhost:8080/"
        },
        "id": "gUDkQBjDa8Zv",
        "outputId": "b867f852-3a64-4f9e-a216-1f95bbecc8dc"
      },
      "execution_count": null,
      "outputs": [
        {
          "output_type": "stream",
          "name": "stdout",
          "text": [
            "['honda', 'yamaha', 'suzuki']\n",
            "['ducati', 'yamaha', 'suzuki']\n"
          ]
        }
      ]
    },
    {
      "cell_type": "code",
      "source": [
        "# Adding Elements to a List - append()\n",
        "motorcycles.append('ductai')\n",
        "print(motorcycles)"
      ],
      "metadata": {
        "colab": {
          "base_uri": "https://localhost:8080/"
        },
        "id": "tCHsYnXHwj6G",
        "outputId": "ec2de938-68ba-47d4-8233-6d4cee741c11"
      },
      "execution_count": null,
      "outputs": [
        {
          "output_type": "stream",
          "name": "stdout",
          "text": [
            "['ducati', 'yamaha', 'suzuki', 'ductai']\n"
          ]
        }
      ]
    },
    {
      "cell_type": "code",
      "source": [
        "# Adding Elements to a List -- starting from an empty list\n",
        "motorcycles =[]\n",
        "\n",
        "motorcycles.append('honda')\n",
        "motorcycles.append('yamaha')\n",
        "motorcycles.append('suzuki')\n",
        "\n",
        "print(motorcycles)"
      ],
      "metadata": {
        "colab": {
          "base_uri": "https://localhost:8080/"
        },
        "id": "UAwMHDX0x-wb",
        "outputId": "547cf533-d437-4f13-da10-c957ef1b716f"
      },
      "execution_count": null,
      "outputs": [
        {
          "output_type": "stream",
          "name": "stdout",
          "text": [
            "['honda', 'yamaha', 'suzuki']\n"
          ]
        }
      ]
    },
    {
      "cell_type": "code",
      "source": [
        "# inserting an element into the list\n",
        "\n",
        "motorcycles.insert(0, 'ductai')\n",
        "print(motorcycles)"
      ],
      "metadata": {
        "colab": {
          "base_uri": "https://localhost:8080/"
        },
        "id": "i6tJtWEWzF8k",
        "outputId": "f678ec26-0e4d-45c0-ca4f-6b210f7404f9"
      },
      "execution_count": null,
      "outputs": [
        {
          "output_type": "stream",
          "name": "stdout",
          "text": [
            "['ductai', 'honda', 'yamaha', 'suzuki']\n"
          ]
        }
      ]
    },
    {
      "cell_type": "code",
      "source": [
        "# Removing an element from the list\n",
        "motorcycles = ['honda', 'yamaha', 'suzuki']\n",
        "del(motorcycles[0])\n",
        "\n",
        "print(f\"Sirst item removed from list: {motorcycles}\")\n",
        "\n",
        "motorcycles = ['honda', 'yamaha', 'suzuki']\n",
        "del(motorcycles[1])\n",
        "print(f\"\\nSecond item removed from list: {motorcycles}\")"
      ],
      "metadata": {
        "colab": {
          "base_uri": "https://localhost:8080/"
        },
        "id": "TW5ZOh4dzFm3",
        "outputId": "9ede79db-d12e-4120-ed5c-e59f3ef558f2"
      },
      "execution_count": null,
      "outputs": [
        {
          "output_type": "stream",
          "name": "stdout",
          "text": [
            "Sirst item removed from list: ['yamaha', 'suzuki']\n",
            "\n",
            "Second item removed from list: ['honda', 'suzuki']\n"
          ]
        }
      ]
    },
    {
      "cell_type": "markdown",
      "source": [
        "*Removing items with pop() Method*\n",
        "\n",
        "- Consider the list a stack of items where items are stacked one on the other, so that the top-item is the last item in the list.\n",
        "- Unlike the other methods of removing items from the list, <font color='darkblue'>*the popped item remains available for programming*</font>\n"
      ],
      "metadata": {
        "id": "r7kQsXpC9qLo"
      }
    },
    {
      "cell_type": "code",
      "source": [
        "# pop an item from list\n",
        "motorcycles = ['honda', 'yamaha', 'suzuki']\n",
        "print(f\"Original list: {motorcycles}\")\n",
        "\n",
        "# The popped item remains available\n",
        "poped_motorcycle =motorcycles.pop()\n",
        "print(f\"List after item popped: {motorcycles}\")\n",
        "print(f\"The popped item: {poped_motorcycle}\")"
      ],
      "metadata": {
        "colab": {
          "base_uri": "https://localhost:8080/"
        },
        "id": "v6O7kLBXzFV7",
        "outputId": "60b20986-edee-4b8a-cc4e-56e72776b98c"
      },
      "execution_count": null,
      "outputs": [
        {
          "output_type": "stream",
          "name": "stdout",
          "text": [
            "Original list: ['honda', 'yamaha', 'suzuki']\n",
            "List after item popped: ['honda', 'yamaha']\n",
            "The popped item: suzuki\n"
          ]
        }
      ]
    },
    {
      "cell_type": "code",
      "source": [
        "# Popping an item from any position on the list\n",
        "motorcycles = ['honda', 'yamaha', 'suzuki']\n",
        "\n",
        "last_owned = motorcycles.pop()\n",
        "print(f\"My last bought motorcycle was {last_owned.title()}\")\n",
        "\n",
        "first_owned = motorcycles.pop(0)\n",
        "print(f\"My first owned motorcycle was {first_owned.title()}\")"
      ],
      "metadata": {
        "colab": {
          "base_uri": "https://localhost:8080/"
        },
        "id": "G58JlYAfzFFb",
        "outputId": "ea8cacfc-d9b1-4259-c5f3-17b5732e1596"
      },
      "execution_count": null,
      "outputs": [
        {
          "output_type": "stream",
          "name": "stdout",
          "text": [
            "My last bought motorcycle was Suzuki\n",
            "My first owned motorcycle was Honda\n"
          ]
        }
      ]
    },
    {
      "cell_type": "code",
      "source": [
        "# Removing an item by Value\n",
        "motorcycles = ['honda', 'yamaha', 'suzuki', 'ductai']\n",
        "print(motorcycles)\n",
        "\n",
        "motorcycles.remove('ductai')\n",
        "print(motorcycles)"
      ],
      "metadata": {
        "colab": {
          "base_uri": "https://localhost:8080/"
        },
        "id": "gFofj--kZEsc",
        "outputId": "5edb0266-0d67-4cdf-9b29-fac30cc2dc9a"
      },
      "execution_count": null,
      "outputs": [
        {
          "output_type": "stream",
          "name": "stdout",
          "text": [
            "['honda', 'yamaha', 'suzuki', 'ductai']\n",
            "['honda', 'yamaha', 'suzuki']\n"
          ]
        }
      ]
    },
    {
      "cell_type": "code",
      "source": [
        "# Removing an item\n",
        "motorcycles = ['honda', 'yamaha', 'suzuki', 'ductai']\n",
        "print(motorcycles)\n",
        "\n",
        "too_expensive = 'ductai'\n",
        "motorcycles.remove(too_expensive)\n",
        "\n",
        "print(motorcycles)\n",
        "print(f\"\\nA {too_expensive} is too expensive for me.\")"
      ],
      "metadata": {
        "colab": {
          "base_uri": "https://localhost:8080/"
        },
        "id": "wC09gIz5zEqj",
        "outputId": "fff5b0f7-ecbf-4ade-da6f-32a23f9cf148"
      },
      "execution_count": null,
      "outputs": [
        {
          "output_type": "stream",
          "name": "stdout",
          "text": [
            "['honda', 'yamaha', 'suzuki', 'ductai']\n",
            "['honda', 'yamaha', 'suzuki']\n",
            "\n",
            "A ductai is too expensive for me.\n"
          ]
        }
      ]
    },
    {
      "cell_type": "markdown",
      "source": [
        "***`remove()`*** removes only the first occurence of an item. If there are multiple items with teyh same value, you have to loop through"
      ],
      "metadata": {
        "id": "5mD97SpYbaG-"
      }
    },
    {
      "cell_type": "markdown",
      "source": [
        "### **Organizing a list**"
      ],
      "metadata": {
        "id": "mjpF3u_AcI42"
      }
    },
    {
      "cell_type": "markdown",
      "source": [
        "<font color='blue'>**cars.py**</font>\n"
      ],
      "metadata": {
        "id": "7TPnV8ZedeG_"
      }
    },
    {
      "cell_type": "markdown",
      "source": [
        "*Sorting list Permanently*"
      ],
      "metadata": {
        "id": "aqpQGRh7maG3"
      }
    },
    {
      "cell_type": "code",
      "source": [
        "# Sorting a list Pemanently with sort() Method\n",
        "\n",
        "cars = ['bmw', 'audi', 'toyota', 'subaru']\n",
        "print(f\"Original list:\")\n",
        "print(cars)\n",
        "\n",
        "cars.sort()\n",
        "print(f\"\\nSorted list:\")\n",
        "print(cars)\n",
        "\n",
        "# reverse sorting\n",
        "cars.sort(reverse = True)\n",
        "print(f\"\\nReverse sorted list:\")\n",
        "print(cars)"
      ],
      "metadata": {
        "colab": {
          "base_uri": "https://localhost:8080/"
        },
        "id": "nXlE5YLtdi9h",
        "outputId": "2de36a1c-2558-4922-c5ce-9d36a96730ff"
      },
      "execution_count": null,
      "outputs": [
        {
          "output_type": "stream",
          "name": "stdout",
          "text": [
            "Original list:\n",
            "['bmw', 'audi', 'toyota', 'subaru']\n",
            "\n",
            "Sorted list:\n",
            "['audi', 'bmw', 'subaru', 'toyota']\n",
            "\n",
            "Reverse sorted list:\n",
            "['toyota', 'subaru', 'bmw', 'audi']\n"
          ]
        }
      ]
    },
    {
      "cell_type": "markdown",
      "source": [
        "*Sorting a list temporarily with **`sorted()`** Function* \n"
      ],
      "metadata": {
        "id": "ohGKXXUkn0lp"
      }
    },
    {
      "cell_type": "code",
      "source": [
        "cars = ['bmw', 'audi', 'toyota', 'subaru']\n",
        "print(f\"Original list:\")\n",
        "print(cars)\n",
        "\n",
        "print(f\"\\nHere is the sorted list:\")\n",
        "print(sorted(cars))\n",
        "\n",
        "print(f\"\\nThe original list remains intact\")\n",
        "print(cars)"
      ],
      "metadata": {
        "colab": {
          "base_uri": "https://localhost:8080/"
        },
        "id": "yHuQ8u_Sj96n",
        "outputId": "f7dd4179-7312-45a4-b8e5-3fbe7c9b5540"
      },
      "execution_count": null,
      "outputs": [
        {
          "output_type": "stream",
          "name": "stdout",
          "text": [
            "Original list:\n",
            "['bmw', 'audi', 'toyota', 'subaru']\n",
            "\n",
            "Here is the sorted list:\n",
            "['audi', 'bmw', 'subaru', 'toyota']\n",
            "\n",
            "The original list remains intact\n",
            "['bmw', 'audi', 'toyota', 'subaru']\n"
          ]
        }
      ]
    },
    {
      "cell_type": "markdown",
      "source": [
        "**<font color='blue'>\n",
        "NOTE: \n",
        "</font>**\n",
        "\n",
        "<font color='darkblue'>*Sorting a list alphabetically is more complicated when all the values are not in lowercase. There are several ways to interpret capital letters when determining a sort order. Discussion of those ways is beyond the scope of this exercise.*</font>"
      ],
      "metadata": {
        "id": "hX7oRzij4e-h"
      }
    },
    {
      "cell_type": "markdown",
      "source": [
        "*Finding the <font color='darkblue'>length</font> of the list*"
      ],
      "metadata": {
        "id": "VkG3GiI725SH"
      }
    },
    {
      "cell_type": "code",
      "source": [],
      "metadata": {
        "id": "3pXYsJvu5B55"
      },
      "execution_count": null,
      "outputs": []
    },
    {
      "cell_type": "code",
      "source": [
        "cars = ['bmw', 'audi', 'toyota', 'subaru']\n",
        "len(cars)"
      ],
      "metadata": {
        "colab": {
          "base_uri": "https://localhost:8080/"
        },
        "id": "-tjLSKBRo2bP",
        "outputId": "87b236fb-da3b-40c0-f79a-6bd592a2b466"
      },
      "execution_count": null,
      "outputs": [
        {
          "output_type": "execute_result",
          "data": {
            "text/plain": [
              "4"
            ]
          },
          "metadata": {},
          "execution_count": 2
        }
      ]
    },
    {
      "cell_type": "markdown",
      "source": [
        "**<font color= 'blue'>\n",
        "NOTE:\n",
        "</font>**\n",
        "\n",
        "<font color= 'darkblue'>\n",
        "\n",
        "*If you encounter index error, remember that people tend to start counting from 1. Python counts from zero (0, 1, 2....) . Print the list to get a better idea of how to deal with index error.  The list might look much different from you thought it did, especially iof it has been managed dynamically by your program.*\n",
        "</font> \n"
      ],
      "metadata": {
        "id": "0JIz1tZ6NCJZ"
      }
    }
  ]
}