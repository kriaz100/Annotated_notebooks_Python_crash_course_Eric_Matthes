{
  "nbformat": 4,
  "nbformat_minor": 0,
  "metadata": {
    "colab": {
      "provenance": [],
      "authorship_tag": "ABX9TyNTybzoKOWTTyroYYtuIumG",
      "include_colab_link": true
    },
    "kernelspec": {
      "name": "python3",
      "display_name": "Python 3"
    },
    "language_info": {
      "name": "python"
    }
  },
  "cells": [
    {
      "cell_type": "markdown",
      "metadata": {
        "id": "view-in-github",
        "colab_type": "text"
      },
      "source": [
        "<a href=\"https://colab.research.google.com/github/kriaz100/Python_crash_course_notebooks/blob/main/Chapter_4_Working_With_Lists.ipynb\" target=\"_parent\"><img src=\"https://colab.research.google.com/assets/colab-badge.svg\" alt=\"Open In Colab\"/></a>"
      ]
    },
    {
      "cell_type": "markdown",
      "source": [
        "---\n",
        "<font color='blue'>*Crash Course in Python*</font>\n",
        ">  # <font color='darkblue'>**Chapter 4: Working With Lists**</font>\n",
        "\n",
        "---\n"
      ],
      "metadata": {
        "id": "g_RJeipRbDqj"
      }
    },
    {
      "cell_type": "markdown",
      "source": [
        "## **Looping through an entire list**\n",
        "<font color='blue'> *magicians.py*</font>"
      ],
      "metadata": {
        "id": "psdfwM-DNp-n"
      }
    },
    {
      "cell_type": "markdown",
      "source": [
        "The `for loop` has two parts.\n",
        "\n",
        "\n",
        "1.    `for statement`, and\n",
        "2.    `body` of programing statements that do somethings\n",
        "\n",
        "> The `for statement` starts with the keyword `for` and always end with a ` : ` (colon). It checks a `condition` such as `dog in dogs`. That is, it checks if an element is in a collection.\n",
        "\n",
        "> Here variable `dog` (singular) is a temporary variable that, successively, takes the value of each element in the collection `dogs` (plural). The collection could be a list, dictionary etc.\n",
        "\n",
        "> The body of programming statements execute once for each element in the collection `dogs`, until there are no more elements in it."
      ],
      "metadata": {
        "id": "QOKv41mKlzkf"
      }
    },
    {
      "cell_type": "code",
      "source": [
        "magicians = ['alice', 'david', 'carolina']\n",
        "for magician in magicians:\n",
        "  print (magician)"
      ],
      "metadata": {
        "colab": {
          "base_uri": "https://localhost:8080/"
        },
        "id": "KozUCwUKOHZt",
        "outputId": "0aa393de-01f1-4926-fe3d-072bfa6845c7"
      },
      "execution_count": null,
      "outputs": [
        {
          "output_type": "stream",
          "name": "stdout",
          "text": [
            "alice\n",
            "david\n",
            "carolina\n"
          ]
        }
      ]
    },
    {
      "cell_type": "markdown",
      "source": [
        "#### <font color='blue'>*Doing More Work Within a for Loop* </font>"
      ],
      "metadata": {
        "id": "stv16F4hVMzH"
      }
    },
    {
      "cell_type": "code",
      "source": [
        "# Building on previous code, tell each magician that they performed a great trick\n",
        "magicians = ['alice', 'david', 'carolina']\n",
        "\n",
        "for magician in magicians:\n",
        "  print(f\"{magician.title()} that was a great trick!\")"
      ],
      "metadata": {
        "colab": {
          "base_uri": "https://localhost:8080/"
        },
        "id": "88P4dhkwTgTa",
        "outputId": "b07ae918-ef71-441b-f403-52fce786abdd"
      },
      "execution_count": null,
      "outputs": [
        {
          "output_type": "stream",
          "name": "stdout",
          "text": [
            "Alice that was a great trick!\n",
            "David that was a great trick!\n",
            "Carolina that was a great trick!\n"
          ]
        }
      ]
    },
    {
      "cell_type": "code",
      "source": [
        "# Print another line telling each magician that we cant wait for their next trick\n",
        "#     Note the use of newline (\"\\n\"), which inserts a blank line\n",
        "\n",
        "magicians = ['alice', 'david', 'carolina']\n",
        "\n",
        "for magician in magicians:\n",
        "  print(f\"{magician.title()} that was a great trick!\")\n",
        "  print(f\"I can't wait for your next trick, {magician.title()}\\n\")"
      ],
      "metadata": {
        "colab": {
          "base_uri": "https://localhost:8080/"
        },
        "id": "NpXjmPHKRwf9",
        "outputId": "cba81e3a-97ee-4e8f-a0e2-e15de9d58fe8"
      },
      "execution_count": null,
      "outputs": [
        {
          "output_type": "stream",
          "name": "stdout",
          "text": [
            "Alice that was a great trick!\n",
            "I can't wait for your next trick, Alice\n",
            "\n",
            "David that was a great trick!\n",
            "I can't wait for your next trick, David\n",
            "\n",
            "Carolina that was a great trick!\n",
            "I can't wait for your next trick, Carolina\n",
            "\n"
          ]
        }
      ]
    },
    {
      "cell_type": "markdown",
      "source": [
        "#### <font color='blue'>*Doing Something After the Loop*</font>"
      ],
      "metadata": {
        "id": "3PoSkCscZ0AZ"
      }
    },
    {
      "cell_type": "code",
      "source": [
        "# Print a line outside the loop\n",
        "#   \"Thank you everyone, that was a great magic show!\"\n",
        "\n",
        "magicians = ['alice', 'david', 'carolina']\n",
        "\n",
        "for magician in magicians:\n",
        "  print(f\"{magician.title()} that was a great trick!\")\n",
        "  print(f\"I can't wait for your next trick, {magician.title()}\\n\")\n",
        "\n",
        "print(f\"Thank you everyone, that was a great magic show!\")"
      ],
      "metadata": {
        "colab": {
          "base_uri": "https://localhost:8080/"
        },
        "id": "srYgm5shZj6m",
        "outputId": "b67a3d87-2a94-47c1-f475-a85475ae69f6"
      },
      "execution_count": null,
      "outputs": [
        {
          "output_type": "stream",
          "name": "stdout",
          "text": [
            "Alice that was a great trick!\n",
            "I can't wait for your next trick, Alice\n",
            "\n",
            "David that was a great trick!\n",
            "I can't wait for your next trick, David\n",
            "\n",
            "Carolina that was a great trick!\n",
            "I can't wait for your next trick, Carolina\n",
            "\n",
            "Thank you everyone, that was a great magic show!\n"
          ]
        }
      ]
    },
    {
      "cell_type": "markdown",
      "source": [
        "## **Avoiding Indentation Errors**"
      ],
      "metadata": {
        "id": "WtngyofEeWns"
      }
    },
    {
      "cell_type": "markdown",
      "source": [
        "#### <font color='blue'>*Forgetting to indent*</font>"
      ],
      "metadata": {
        "id": "vJXdhrCIfg15"
      }
    },
    {
      "cell_type": "markdown",
      "source": [
        ">>> <font color='Blue'>**WARNING:** The code below will generate an error for illustration purposes </font>\n",
        "\n",
        ">>> Note the error message"
      ],
      "metadata": {
        "id": "ooJwXXh6kWWR"
      }
    },
    {
      "cell_type": "code",
      "source": [
        "# Error1: Forgetting to indent lines inside the loop\n",
        "#             After the for statement, the next line is not indented\n",
        "\n",
        "magicians = ['alice', 'david', 'carolina']\n",
        "\n",
        "for magician in magicians:\n",
        "print(f\"{magician.title()} that was a great trick!\")  #this line should have been indented"
      ],
      "metadata": {
        "colab": {
          "base_uri": "https://localhost:8080/",
          "height": 130
        },
        "id": "PUrrCxOwed3-",
        "outputId": "6e34ab2d-a67e-4586-9e07-00effb822bfc"
      },
      "execution_count": null,
      "outputs": [
        {
          "output_type": "error",
          "ename": "IndentationError",
          "evalue": "ignored",
          "traceback": [
            "\u001b[0;36m  File \u001b[0;32m\"<ipython-input-19-a290ad68f834>\"\u001b[0;36m, line \u001b[0;32m7\u001b[0m\n\u001b[0;31m    print(f\"{magician.title()} that was a great trick!\")  #this line should have been indented\u001b[0m\n\u001b[0m        ^\u001b[0m\n\u001b[0;31mIndentationError\u001b[0m\u001b[0;31m:\u001b[0m expected an indented block\n"
          ]
        }
      ]
    },
    {
      "cell_type": "markdown",
      "source": [
        "#### <font color='blue'>*Forgetting to Indent Additional Lines*</font>\n",
        "\n",
        "This error may be a little hard to catch because <font color='red'>there is no error message</font> and an output is produced. Note, however, that <font color='red'> it produces unintended ouput</font>. We wanted to repeat  the line `I can't wait to see your next trick!` after our commendation of each magician. \n"
      ],
      "metadata": {
        "id": "c414GcK4k9iZ"
      }
    },
    {
      "cell_type": "code",
      "source": [
        "magicians = ['alice', 'david', 'carolina']\n",
        "\n",
        "for magician in magicians:\n",
        "  print(f\"{magician.title()} that was a great trick!\")\n",
        "print(f\"I can't wait for your next trick, {magician.title()}\\n\")  # this statement needs indenting\n",
        "\n"
      ],
      "metadata": {
        "colab": {
          "base_uri": "https://localhost:8080/"
        },
        "id": "4NZ5y22_eLco",
        "outputId": "4bfdfa37-edc4-419d-aa9d-43551b4c443d"
      },
      "execution_count": null,
      "outputs": [
        {
          "output_type": "stream",
          "name": "stdout",
          "text": [
            "Alice that was a great trick!\n",
            "David that was a great trick!\n",
            "Carolina that was a great trick!\n",
            "I can't wait for your next trick, Carolina\n",
            "\n"
          ]
        }
      ]
    },
    {
      "cell_type": "markdown",
      "source": [
        "#### <font color='blue'>*Indenting Unnecessarily* </font>\n"
      ],
      "metadata": {
        "id": "fkSQx803oYo_"
      }
    },
    {
      "cell_type": "markdown",
      "source": [
        ">>> <font color='maroon'>**WARNING:** The code below will generate an error for illustration purposes </font>\n",
        "\n",
        ">>> Note the error message"
      ],
      "metadata": {
        "id": "yhQxIotJoq4M"
      }
    },
    {
      "cell_type": "code",
      "source": [
        "message = \"hello World!\"\n",
        " print(message)             # unnecessary indentation"
      ],
      "metadata": {
        "colab": {
          "base_uri": "https://localhost:8080/",
          "height": 130
        },
        "id": "PSeLu9i6osLa",
        "outputId": "b2cee837-3ddd-469f-bd7e-d79fcbc34e65"
      },
      "execution_count": null,
      "outputs": [
        {
          "output_type": "error",
          "ename": "IndentationError",
          "evalue": "ignored",
          "traceback": [
            "\u001b[0;36m  File \u001b[0;32m\"<ipython-input-22-4266cd8c3f43>\"\u001b[0;36m, line \u001b[0;32m2\u001b[0m\n\u001b[0;31m    print(message)             # unnecessary indentation\u001b[0m\n\u001b[0m    ^\u001b[0m\n\u001b[0;31mIndentationError\u001b[0m\u001b[0;31m:\u001b[0m unexpected indent\n"
          ]
        }
      ]
    },
    {
      "cell_type": "markdown",
      "source": [
        "#### <font color='blue'> *Indenting Unnecessarily After the Loop* </font>"
      ],
      "metadata": {
        "id": "OsnW8-U6pdKv"
      }
    },
    {
      "cell_type": "markdown",
      "source": [
        "Lets see what happens when we unnecessarily indent the line where we thank everyone. It will repeat after every line where we express appreciation for individual magicians.\n",
        "\n"
      ],
      "metadata": {
        "id": "GOzwbMg5pasr"
      }
    },
    {
      "cell_type": "code",
      "source": [
        "magicians = ['alice', 'david', 'carolina']\n",
        "\n",
        "for magician in magicians:\n",
        "  print(f\"{magician.title()} that was a great trick!\")\n",
        "  print(f\"I can't wait for your next trick, {magician.title()}\\n\")\n",
        "\n",
        "  print(\"Thank you everyone, that was agreat magic show!\")   # unnecessary indentation"
      ],
      "metadata": {
        "colab": {
          "base_uri": "https://localhost:8080/"
        },
        "id": "JjSHiuIAo334",
        "outputId": "abe590ff-bfea-4cf0-e020-795c1492596a"
      },
      "execution_count": null,
      "outputs": [
        {
          "output_type": "stream",
          "name": "stdout",
          "text": [
            "Alice that was a great trick!\n",
            "I can't wait for your next trick, Alice\n",
            "\n",
            "Thank you everyone, that was agreat magic show!\n",
            "David that was a great trick!\n",
            "I can't wait for your next trick, David\n",
            "\n",
            "Thank you everyone, that was agreat magic show!\n",
            "Carolina that was a great trick!\n",
            "I can't wait for your next trick, Carolina\n",
            "\n",
            "Thank you everyone, that was agreat magic show!\n"
          ]
        }
      ]
    },
    {
      "cell_type": "markdown",
      "source": [
        "####<font color='blue'> *Forgetting the Colon* </font>"
      ],
      "metadata": {
        "id": "MZrboToOrfdr"
      }
    },
    {
      "cell_type": "markdown",
      "source": [
        ">>> <font color='Blue'>**WARNING:** The code below will generate an error for illustration purposes </font>\n",
        "\n",
        ">>> Note the error message"
      ],
      "metadata": {
        "id": "NcVSBitCrdTy"
      }
    },
    {
      "cell_type": "code",
      "source": [
        "magicians = ['alice', 'david', 'carolina']\n",
        "\n",
        "for magician in magicians                               # forgotten colon\n",
        "  print(f\"{magician.title()} that was a great trick!\")"
      ],
      "metadata": {
        "colab": {
          "base_uri": "https://localhost:8080/",
          "height": 130
        },
        "id": "rfXNIR86rQCD",
        "outputId": "258e7878-ceb5-43b1-a785-120860d79364"
      },
      "execution_count": null,
      "outputs": [
        {
          "output_type": "error",
          "ename": "SyntaxError",
          "evalue": "ignored",
          "traceback": [
            "\u001b[0;36m  File \u001b[0;32m\"<ipython-input-24-c506be17cddb>\"\u001b[0;36m, line \u001b[0;32m3\u001b[0m\n\u001b[0;31m    for magician in magicians\u001b[0m\n\u001b[0m                             ^\u001b[0m\n\u001b[0;31mSyntaxError\u001b[0m\u001b[0;31m:\u001b[0m invalid syntax\n"
          ]
        }
      ]
    },
    {
      "cell_type": "markdown",
      "source": [
        "## **Making Numerical Lists**\n",
        "<font color='Blue'>*first_numbers.py*</font>"
      ],
      "metadata": {
        "id": "-VeoHepWsVOj"
      }
    },
    {
      "cell_type": "markdown",
      "source": [
        "#### <font color='Blue'>*Using the range() Function*</font>"
      ],
      "metadata": {
        "id": "oYctd6N0Moar"
      }
    },
    {
      "cell_type": "code",
      "source": [
        "# range() function generates a series of numbers.\n",
        "#     Note the one-off behavior of python: the series starts at 0 and ends at 4\n",
        "\n",
        "for value in range(5):\n",
        "  print(value)\n"
      ],
      "metadata": {
        "colab": {
          "base_uri": "https://localhost:8080/"
        },
        "id": "4_Bs9exGsC5p",
        "outputId": "b12ad186-ede3-402f-f6a6-994a65198b51"
      },
      "execution_count": null,
      "outputs": [
        {
          "output_type": "stream",
          "name": "stdout",
          "text": [
            "0\n",
            "1\n",
            "2\n",
            "3\n",
            "4\n"
          ]
        }
      ]
    },
    {
      "cell_type": "code",
      "source": [
        "# if you want to sart from one, specify that list should start at 1\n",
        "#       Even now, the series ends at 4 (which has index=5 in python)\n",
        "for value in range(1, 5):\n",
        "  print(value)\n"
      ],
      "metadata": {
        "colab": {
          "base_uri": "https://localhost:8080/"
        },
        "id": "E-9Y_S0CGGZz",
        "outputId": "73e09e6b-523e-40cf-a48d-3c4629a665ff"
      },
      "execution_count": null,
      "outputs": [
        {
          "output_type": "stream",
          "name": "stdout",
          "text": [
            "1\n",
            "2\n",
            "3\n",
            "4\n"
          ]
        }
      ]
    },
    {
      "cell_type": "code",
      "source": [
        "# If numbers from 1-5 are to be printed: \n",
        "#  left limit should specify index position 1\n",
        "#  right limit should specify index position 6 (corresponds to number 5).\n",
        "\n",
        "# To print numbers horizontly, specify end =\" \" on print statement\n",
        "#     This will replace the default newline(\\n) param in print() with a space\n",
        "\n",
        "for value in range(1,6):\n",
        "  print(value, end=\" \")\n"
      ],
      "metadata": {
        "colab": {
          "base_uri": "https://localhost:8080/"
        },
        "id": "vNb1RF9yHky0",
        "outputId": "a7cdb6e7-38aa-4e32-8673-519d48b26731"
      },
      "execution_count": null,
      "outputs": [
        {
          "output_type": "stream",
          "name": "stdout",
          "text": [
            "1 2 3 4 5 "
          ]
        }
      ]
    },
    {
      "cell_type": "markdown",
      "source": [
        "####<font color='Blue'>*Using range() to Make a List of Numbers* </font>\n",
        "\n",
        "- The `range()` function only generates a series of numbers. It does not put them in a list.\n",
        "- To put these numbers in a list, wrap `list()` function around them\n"
      ],
      "metadata": {
        "id": "GoKxDNonLL8r"
      }
    },
    {
      "cell_type": "code",
      "source": [
        "# Putting generated numbers in a list\n",
        "\n",
        "numbers = list(range(1,6))\n",
        "print(numbers)"
      ],
      "metadata": {
        "colab": {
          "base_uri": "https://localhost:8080/"
        },
        "id": "3LdzFobfIV_c",
        "outputId": "e7ca2a55-7f74-4f21-97b9-d50cd0ebaeca"
      },
      "execution_count": null,
      "outputs": [
        {
          "output_type": "stream",
          "name": "stdout",
          "text": [
            "[1, 2, 3, 4, 5]\n"
          ]
        }
      ]
    },
    {
      "cell_type": "markdown",
      "source": [
        "<font color='Blue'>*even_numbers.py*</font>"
      ],
      "metadata": {
        "id": "9c9ThpC-K37w"
      }
    },
    {
      "cell_type": "code",
      "source": [
        "# List EVEN numbers between 1 and 10\n",
        "#   Skip 1, it is not an even number.\n",
        "\n",
        "even_numbers = list(range(2, 11, 2))   # last param in range() causes step size=2\n",
        "print(even_numbers)\n",
        "\n"
      ],
      "metadata": {
        "colab": {
          "base_uri": "https://localhost:8080/"
        },
        "id": "hA908KeFPcsl",
        "outputId": "465b2045-7a5a-4c7d-e566-9345b1f1deef"
      },
      "execution_count": null,
      "outputs": [
        {
          "output_type": "stream",
          "name": "stdout",
          "text": [
            "[2, 4, 6, 8, 10]\n"
          ]
        }
      ]
    },
    {
      "cell_type": "markdown",
      "source": [
        "The range function can be used to generate any set of numbers"
      ],
      "metadata": {
        "id": "FzxypmNsPd_q"
      }
    },
    {
      "cell_type": "code",
      "source": [
        "# Create a list of first 10 squares\n",
        "squares = []\n",
        "for value in range(1,11):\n",
        "  square = value**2\n",
        "  squares.append(square)\n",
        "\n",
        "print(squares)"
      ],
      "metadata": {
        "colab": {
          "base_uri": "https://localhost:8080/"
        },
        "id": "53REH-KuW0yy",
        "outputId": "ce82fa9a-ee0f-449a-adec-1fffd721e1a9"
      },
      "execution_count": null,
      "outputs": [
        {
          "output_type": "stream",
          "name": "stdout",
          "text": [
            "[1, 4, 9, 16, 25, 36, 49, 64, 81, 100]\n"
          ]
        }
      ]
    },
    {
      "cell_type": "markdown",
      "source": [
        "A more concise way of writing the above code is given below"
      ],
      "metadata": {
        "id": "XXa69YclY5pF"
      }
    },
    {
      "cell_type": "code",
      "source": [
        "squares = []\n",
        "\n",
        "for value in range (1,11):\n",
        "  squares.append(value**2)\n",
        "\n",
        "print(squares)"
      ],
      "metadata": {
        "colab": {
          "base_uri": "https://localhost:8080/"
        },
        "id": "M10B8YruaAr1",
        "outputId": "86894bca-b5fd-4e16-9dfc-41095c2bc4fd"
      },
      "execution_count": null,
      "outputs": [
        {
          "output_type": "stream",
          "name": "stdout",
          "text": [
            "[1, 4, 9, 16, 25, 36, 49, 64, 81, 100]\n"
          ]
        }
      ]
    },
    {
      "cell_type": "markdown",
      "source": [
        "In the above two examples, there is a trade-off between writing easier to read code (first example) and concise code (second example). \n",
        "\n",
        "Recommendations:\n",
        "- First write code that you clearly understand, which does what you want\n",
        "- Then try to make it more concise and efficient.\n",
        "\n"
      ],
      "metadata": {
        "id": "rxjy804Ca2IN"
      }
    },
    {
      "cell_type": "markdown",
      "source": [
        "####<font color='blue'>*Simple Statistics With a List of Numbers*</font>\n",
        "You can wrap min(), max(), and sum() functions around a list of numbers"
      ],
      "metadata": {
        "id": "oTFbb2xbcEqd"
      }
    },
    {
      "cell_type": "code",
      "source": [
        "digits = [1, 2, 3, 4, 5, 6, 7, 8, 9, 0]\n",
        "\n",
        "print(f\"Min: {min(digits)}\")\n",
        "print(f\"Max: {max(digits)}\")\n",
        "print(f\"sum: {sum(digits)}\")\n"
      ],
      "metadata": {
        "colab": {
          "base_uri": "https://localhost:8080/"
        },
        "id": "Y3JdmzG5akaP",
        "outputId": "102ccc41-a182-40b7-fa2f-479fa66b5b36"
      },
      "execution_count": null,
      "outputs": [
        {
          "output_type": "stream",
          "name": "stdout",
          "text": [
            "Min: 0\n",
            "Max: 9\n",
            "sum: 45\n"
          ]
        }
      ]
    },
    {
      "cell_type": "markdown",
      "source": [
        "<font color='blue'>*List Comprehensions*</font>\n",
        "\n",
        "List comprehensions (a) Combine the loop and the generation of new elements in one line; and (b) automatically append each new element.\n",
        "\n",
        "The syntax is written in the following way:\n",
        "- First chose a name for the list (e.g. `squares`)\n",
        "- Next open a square bracket `[]` an write the expression for the values you want (`value**2`)\n",
        "- write the for loop, `for value on range (1, 11)` "
      ],
      "metadata": {
        "id": "hAF2gzkXjIYA"
      }
    },
    {
      "cell_type": "code",
      "source": [
        "squares = [value**2 for value in range(1,11)]\n",
        "print(squares)"
      ],
      "metadata": {
        "colab": {
          "base_uri": "https://localhost:8080/"
        },
        "id": "jMHz4Yv3hZgK",
        "outputId": "3ea89530-a909-4789-ae7e-54a2645a397b"
      },
      "execution_count": null,
      "outputs": [
        {
          "output_type": "stream",
          "name": "stdout",
          "text": [
            "[1, 4, 9, 16, 25, 36, 49, 64, 81, 100]\n"
          ]
        }
      ]
    },
    {
      "cell_type": "markdown",
      "source": [
        "## **Working with Part of a List**"
      ],
      "metadata": {
        "id": "BYqZuCudncqV"
      }
    },
    {
      "cell_type": "markdown",
      "source": [
        "####<font color='blue'> *Slincing a List*</font>\n",
        "- A *slice* is specific group of items in a list\n",
        "\n",
        "- To specify a *slice*, specify the **index** of the first and the last elements of the list.\n",
        "\n",
        "- Python stops one item before the second index (RHS) you specify."
      ],
      "metadata": {
        "id": "V0P6zyLfn7-h"
      }
    },
    {
      "cell_type": "code",
      "source": [
        "# To print first 3 elements, specify indices 0, 1, 2, 3\n",
        "# Pyhton will output  elements corresponding to indices 0, 1, 2 only\n",
        "# the second index (on RHS) is NOT included.\n",
        "\n",
        "players = ['charles', 'martina', 'michael', 'florence', 'eli']\n",
        "print(players[0:3])\n",
        "\n"
      ],
      "metadata": {
        "colab": {
          "base_uri": "https://localhost:8080/"
        },
        "id": "64f55TkOlSeT",
        "outputId": "e86714df-5f23-4a90-f14d-c777e2e93ede"
      },
      "execution_count": null,
      "outputs": [
        {
          "output_type": "stream",
          "name": "stdout",
          "text": [
            "['charles', 'martina', 'michael']\n"
          ]
        }
      ]
    },
    {
      "cell_type": "code",
      "source": [
        "# Output 2nd, 3rd, and 4rth elements in the list\n",
        "print(players[1:4])"
      ],
      "metadata": {
        "colab": {
          "base_uri": "https://localhost:8080/"
        },
        "id": "rroyg9AVPIz8",
        "outputId": "b48ca576-7ef3-4841-8256-e3cd6ec33bd7"
      },
      "execution_count": null,
      "outputs": [
        {
          "output_type": "stream",
          "name": "stdout",
          "text": [
            "['martina', 'michael', 'florence']\n"
          ]
        }
      ]
    },
    {
      "cell_type": "code",
      "source": [
        "# If first index is omitted, the slice slice starts from the begining \n",
        "print(players[:4])\n"
      ],
      "metadata": {
        "colab": {
          "base_uri": "https://localhost:8080/"
        },
        "id": "-SpIAOUyRb8r",
        "outputId": "a1fabe82-c6a1-446e-ec18-de9c6fd48ac4"
      },
      "execution_count": null,
      "outputs": [
        {
          "output_type": "stream",
          "name": "stdout",
          "text": [
            "['charles', 'martina', 'michael', 'florence']\n"
          ]
        }
      ]
    },
    {
      "cell_type": "code",
      "source": [
        "# get 3rd to the last element in the list\n",
        "print(players[2:])"
      ],
      "metadata": {
        "colab": {
          "base_uri": "https://localhost:8080/"
        },
        "id": "uLtLrUw1SNHL",
        "outputId": "499af836-4ba6-40a8-82c4-a1be126cecc9"
      },
      "execution_count": null,
      "outputs": [
        {
          "output_type": "stream",
          "name": "stdout",
          "text": [
            "['michael', 'florence', 'eli']\n"
          ]
        }
      ]
    },
    {
      "cell_type": "code",
      "source": [
        "# get the last three elements \n",
        "#  >> negative index retuns element a certain distance from the end of the list\n",
        "print(players[-3:])"
      ],
      "metadata": {
        "colab": {
          "base_uri": "https://localhost:8080/"
        },
        "id": "s4ps8B_ISyZj",
        "outputId": "2ae9f056-5fc6-4be7-d45a-bd30de02f160"
      },
      "execution_count": null,
      "outputs": [
        {
          "output_type": "stream",
          "name": "stdout",
          "text": [
            "['michael', 'florence', 'eli']\n"
          ]
        }
      ]
    },
    {
      "cell_type": "code",
      "source": [
        "# slicing & skipping \n",
        "\"\"\" third value in the slice bracket, if included, will be taken as step size\"\"\"\n",
        "print(f\"Original list: {players}\")\n",
        "print(f\"Stepsize=2: {players[0:5:2]}\")\n",
        "\n"
      ],
      "metadata": {
        "colab": {
          "base_uri": "https://localhost:8080/"
        },
        "id": "jvm_bWLBWFU5",
        "outputId": "9b95f104-2e78-4056-8dd4-6a7900eea22c"
      },
      "execution_count": null,
      "outputs": [
        {
          "output_type": "stream",
          "name": "stdout",
          "text": [
            "Original list: ['charles', 'martina', 'michael', 'florence', 'eli']\n",
            "Stepsize=2: ['charles', 'michael', 'eli']\n"
          ]
        }
      ]
    },
    {
      "cell_type": "markdown",
      "source": [
        "#### <font color='blue'>*Looping Through a Slice*</font>"
      ],
      "metadata": {
        "id": "0jg1c4sXaeNp"
      }
    },
    {
      "cell_type": "code",
      "source": [
        "# Looping through a sub set of the elements of a list \n",
        "\"\"\"\n",
        "Print names of the first three players.\n",
        "- get a slice of the list => players[0:3]\n",
        "- wrap print() function around it\n",
        "- optionally, call title() function on the result to capitalize player names\n",
        "\n",
        "\"\"\"\n",
        "\n",
        "players = ['charles', 'martina', 'michael', 'florence', 'eli']\n",
        "\n",
        "for player in players[0: 3]:\n",
        "  print(player.title())\n",
        "  \n",
        "\n"
      ],
      "metadata": {
        "colab": {
          "base_uri": "https://localhost:8080/"
        },
        "id": "KEo0ZUPJlsJy",
        "outputId": "b91110c0-1722-42b5-a708-12f6792580a8"
      },
      "execution_count": null,
      "outputs": [
        {
          "output_type": "stream",
          "name": "stdout",
          "text": [
            "Charles\n",
            "Martina\n",
            "Michael\n"
          ]
        }
      ]
    },
    {
      "cell_type": "markdown",
      "source": [
        "####<font color='blue'>*Copying a List* ( [:] )</font>\n",
        "\n",
        "<font color='blue'>*foods.py*</font>"
      ],
      "metadata": {
        "id": "HzeSHtg9TL8O"
      }
    },
    {
      "cell_type": "markdown",
      "source": [
        "My favorite foods are also my friends favorite foods. Want to make two lists, one consisting of my favorite foods, and the second consisting of my freinds fav foods. \n",
        "\n",
        "- The second list would be a copy of the first one.\n",
        "- The Copy is created by creating a *slice* that contains the entire list to be copied."
      ],
      "metadata": {
        "id": "EVw4sIeXVJ5n"
      }
    },
    {
      "cell_type": "code",
      "source": [
        "# creating copy of a list\n",
        "my_foods = ['pizza', 'falafel', 'carror cake']\n",
        "friend_foods = my_foods[:]\n",
        "\n",
        "print(\"My favorite foods: \", my_foods)\n",
        "print(\"My friend's favorite foods: \", friend_foods)"
      ],
      "metadata": {
        "colab": {
          "base_uri": "https://localhost:8080/"
        },
        "id": "P5YVcQVkViZu",
        "outputId": "5db6fe1d-465c-4b0a-85fc-2c840c000136"
      },
      "execution_count": null,
      "outputs": [
        {
          "output_type": "stream",
          "name": "stdout",
          "text": [
            "My favorite foods:  ['pizza', 'falafel', 'carror cake']\n",
            "My friend's favorite foods:  ['pizza', 'falafel', 'carror cake']\n"
          ]
        }
      ]
    },
    {
      "cell_type": "code",
      "source": [
        "# Adding to the lists -- just to show that thet track each persons fav foods\n",
        "#   add 'cannoli' to my fav food list, and \n",
        "#   add 'ice cream' to friend's fav food list "
      ],
      "metadata": {
        "id": "h3qFI7Z2TWxk"
      },
      "execution_count": null,
      "outputs": []
    },
    {
      "cell_type": "code",
      "source": [
        "my_foods = ['pizza', 'falafel', 'carror cake']\n",
        "friend_foods = my_foods[:]\n",
        "\n",
        "# enlarged list of fav foods\n",
        "my_foods.append('cannoli')\n",
        "friend_foods.append('ice cream')\n",
        "\n",
        "print(\"My favorite foods: \", my_foods)\n",
        "print(\"My friend's favorite foods: \", friend_foods)\n"
      ],
      "metadata": {
        "colab": {
          "base_uri": "https://localhost:8080/"
        },
        "id": "L-GiDc9mYQIq",
        "outputId": "8b0bf4b4-a053-4bc7-8af8-d9b61ecc41f8"
      },
      "execution_count": null,
      "outputs": [
        {
          "output_type": "stream",
          "name": "stdout",
          "text": [
            "My favorite foods:  ['pizza', 'falafel', 'carror cake', 'cannoli']\n",
            "My friend's favorite foods:  ['pizza', 'falafel', 'carror cake', 'ice cream']\n"
          ]
        }
      ]
    },
    {
      "cell_type": "markdown",
      "source": [
        "## **Tuples**\n",
        "\n",
        "Sometimes you want to create lists that cannot change. Tuples have that property. We say, tuples are ***immutable***"
      ],
      "metadata": {
        "id": "cxZEzp_Iaacp"
      }
    },
    {
      "cell_type": "markdown",
      "source": [
        "####<font color='blue'>*Defining a Tuple*</font>\n",
        "<font color='blue'>*dimensions.py*</font>"
      ],
      "metadata": {
        "id": "JtRp_u8DdNEN"
      }
    },
    {
      "cell_type": "code",
      "source": [
        "# create a tuple to represent dimensions of a rectangle\n",
        "\n",
        "dimensions = (200, 50)\n",
        "\n",
        "# print each dimension\n",
        "print(dimensions[0])\n",
        "print(dimensions[1]) \n",
        "\n",
        "print(f\"\\nThe rectangle is {dimensions[0]} x {dimensions[1]} centimeters\")\n"
      ],
      "metadata": {
        "colab": {
          "base_uri": "https://localhost:8080/"
        },
        "id": "tlMQBIRJYk2u",
        "outputId": "cdf7b90c-ad44-4a94-a640-63aef331b61c"
      },
      "execution_count": null,
      "outputs": [
        {
          "output_type": "stream",
          "name": "stdout",
          "text": [
            "200\n",
            "50\n",
            "\n",
            "The rectangle is 200 x 50 centimeters\n"
          ]
        }
      ]
    },
    {
      "cell_type": "markdown",
      "source": [
        "<font color='blue'>**WARNING: Code below generates an error for illustrative purposes** </font>"
      ],
      "metadata": {
        "id": "k8ip2hVfk0P5"
      }
    },
    {
      "cell_type": "code",
      "source": [
        "# tuples are immutable -- trying to change a tuple will show an error\n",
        "#  Here we try to change the first dimension of the tuple to 250\n",
        "\n",
        "dimensions[0] = 250"
      ],
      "metadata": {
        "colab": {
          "base_uri": "https://localhost:8080/",
          "height": 200
        },
        "id": "4UVfcb-7jfD4",
        "outputId": "529fb1da-46b1-4bf6-b23a-e089e451e914"
      },
      "execution_count": null,
      "outputs": [
        {
          "output_type": "error",
          "ename": "TypeError",
          "evalue": "ignored",
          "traceback": [
            "\u001b[0;31m---------------------------------------------------------------------------\u001b[0m",
            "\u001b[0;31mTypeError\u001b[0m                                 Traceback (most recent call last)",
            "\u001b[0;32m<ipython-input-35-fa39d7c50c2b>\u001b[0m in \u001b[0;36m<module>\u001b[0;34m\u001b[0m\n\u001b[1;32m      2\u001b[0m \u001b[0;31m#  Here we try to change the first dimension of the tuple to 250\u001b[0m\u001b[0;34m\u001b[0m\u001b[0;34m\u001b[0m\u001b[0;34m\u001b[0m\u001b[0m\n\u001b[1;32m      3\u001b[0m \u001b[0;34m\u001b[0m\u001b[0m\n\u001b[0;32m----> 4\u001b[0;31m \u001b[0mdimensions\u001b[0m\u001b[0;34m[\u001b[0m\u001b[0;36m0\u001b[0m\u001b[0;34m]\u001b[0m \u001b[0;34m=\u001b[0m \u001b[0;36m250\u001b[0m\u001b[0;34m\u001b[0m\u001b[0;34m\u001b[0m\u001b[0m\n\u001b[0m",
            "\u001b[0;31mTypeError\u001b[0m: 'tuple' object does not support item assignment"
          ]
        }
      ]
    },
    {
      "cell_type": "markdown",
      "source": [
        "Tuples are defined by comma, not brackets!!\n",
        "\n",
        "So you can define a tuple with a single element.\n",
        "Brackets are there just to make tuples moe readible."
      ],
      "metadata": {
        "id": "xUun0U4umH2C"
      }
    },
    {
      "cell_type": "code",
      "source": [
        "# tuple with one element\n",
        "my_t = (3,)\n",
        "\n",
        "print(\"my_t[0] is: \", my_t[0])\n",
        "print(\"Trying to print my_t[1] will generate an error - 'index out of range'\")"
      ],
      "metadata": {
        "colab": {
          "base_uri": "https://localhost:8080/"
        },
        "id": "CKDXSO3akt6p",
        "outputId": "d4f6a36d-840a-4d06-db8b-7a9199a1d638"
      },
      "execution_count": null,
      "outputs": [
        {
          "output_type": "stream",
          "name": "stdout",
          "text": [
            "my_t[0] is:  3\n",
            "Trying to print my_t[1] will generate an error - 'index out of range'\n"
          ]
        }
      ]
    },
    {
      "cell_type": "markdown",
      "source": [
        "####<font color='blue'>*Looping Through All Values in a Tuple*</font>"
      ],
      "metadata": {
        "id": "tGTh9xgxvGHj"
      }
    },
    {
      "cell_type": "code",
      "source": [
        "dimensions =(200, 50)\n",
        "\n",
        "for dimension in dimensions:\n",
        "  print(dimension)"
      ],
      "metadata": {
        "colab": {
          "base_uri": "https://localhost:8080/"
        },
        "id": "H24PFxs5vU_K",
        "outputId": "16f84b63-5017-42f7-e848-2114d590a8de"
      },
      "execution_count": null,
      "outputs": [
        {
          "output_type": "stream",
          "name": "stdout",
          "text": [
            "200\n",
            "50\n"
          ]
        }
      ]
    },
    {
      "cell_type": "markdown",
      "source": [
        "####<font color='blue'>*Writing over a Tuple*</font>\n",
        "Tuples are immutable. If we want to change the dimensions, we have to redefine the tuple."
      ],
      "metadata": {
        "id": "UO7c_ns5vrl1"
      }
    },
    {
      "cell_type": "code",
      "source": [
        "# redefining the tuple\n",
        "\n",
        "# original\n",
        "dimensions = (200, 50)\n",
        "\n",
        "print(\"Original dimensions\")\n",
        "for dimension in dimensions:\n",
        "  print(dimension)\n",
        "\n",
        "# redefined\n",
        "dimensions = (400, 100)\n",
        "print(\"\\nModified dimensions\")\n",
        "for dimension in dimensions:\n",
        "  print(dimension)\n"
      ],
      "metadata": {
        "colab": {
          "base_uri": "https://localhost:8080/"
        },
        "id": "ypsfcvA8mqQH",
        "outputId": "aefbd9ac-c036-4b72-ec76-0c74e13c657c"
      },
      "execution_count": null,
      "outputs": [
        {
          "output_type": "stream",
          "name": "stdout",
          "text": [
            "Original dimensions\n",
            "200\n",
            "50\n",
            "\n",
            "Modified dimensions\n",
            "400\n",
            "100\n"
          ]
        }
      ]
    },
    {
      "cell_type": "code",
      "source": [],
      "metadata": {
        "id": "LjmH72xYFz9C"
      },
      "execution_count": null,
      "outputs": []
    }
  ]
}