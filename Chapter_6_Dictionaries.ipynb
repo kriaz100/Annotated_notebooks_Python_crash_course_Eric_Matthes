{
  "nbformat": 4,
  "nbformat_minor": 0,
  "metadata": {
    "colab": {
      "provenance": [],
      "authorship_tag": "ABX9TyNdDfoE/b7Q9yiDOY8OmL5P",
      "include_colab_link": true
    },
    "kernelspec": {
      "name": "python3",
      "display_name": "Python 3"
    },
    "language_info": {
      "name": "python"
    }
  },
  "cells": [
    {
      "cell_type": "markdown",
      "metadata": {
        "id": "view-in-github",
        "colab_type": "text"
      },
      "source": [
        "<a href=\"https://colab.research.google.com/github/kriaz100/Python_crash_course_notebooks/blob/main/Chapter_6_Dictionaries.ipynb\" target=\"_parent\"><img src=\"https://colab.research.google.com/assets/colab-badge.svg\" alt=\"Open In Colab\"/></a>"
      ]
    },
    {
      "cell_type": "markdown",
      "source": [
        "---\n",
        "<font color='blue'>*Python Crash Course*</font>\n",
        "> # <font color='DarkBlue'>**Chapter 6: Dictionaries**</font>\n",
        "---"
      ],
      "metadata": {
        "id": "OwbEbCaDlmaD"
      }
    },
    {
      "cell_type": "markdown",
      "source": [
        "###<font color='blue'>**A Simple Dictionary**</font>\n",
        "<font color='blue'>aliens.py</font>\n",
        "\n",
        "We want to create a game that can have aliens with different colors and points. The information about a particular alien is stored in a dictionary."
      ],
      "metadata": {
        "id": "bHz8qskrmYOD"
      }
    },
    {
      "cell_type": "code",
      "source": [
        "alien_0 = {'color' : 'green', 'points' :5}\n",
        "\n",
        "print(alien_0['color'])"
      ],
      "metadata": {
        "colab": {
          "base_uri": "https://localhost:8080/"
        },
        "id": "HQNZtdKBB1gq",
        "outputId": "7f664604-e24f-466b-a042-de608a43f2e7"
      },
      "execution_count": null,
      "outputs": [
        {
          "output_type": "stream",
          "name": "stdout",
          "text": [
            "green\n"
          ]
        }
      ]
    },
    {
      "cell_type": "markdown",
      "source": [
        "###<font color='blue'>**Working with Dictionaries**</font>"
      ],
      "metadata": {
        "id": "mvnpQV2Y_5Qu"
      }
    },
    {
      "cell_type": "markdown",
      "source": [
        "A dictionary in python is a collection of *key-value* pairs. The key can be used to access the value associated with it. The key's *value* could be a number, a string, a list, or even another dictionary. \n",
        "\n",
        "- In fact, you can use any object thta you can create with python as a value in a dictionary.\n",
        "- When you provide the key, python returns the associated value.\n",
        "- Every key is connected to its value by a colon, and individual key-value pairs are separated by commas. "
      ],
      "metadata": {
        "id": "3OqMJJLBAYpC"
      }
    },
    {
      "cell_type": "markdown",
      "source": [
        "####<font color='blue'>*Accessing Values in a Dictionary*</font>\n",
        "To get the value associated with a key, give the name of the dictionary and then plave the key inside a set of square brackets:"
      ],
      "metadata": {
        "id": "CehM9iPuEBAz"
      }
    },
    {
      "cell_type": "code",
      "source": [
        "aline_o ={'color' : 'green', 'points' : 5}\n",
        "print(alien_0['color'])"
      ],
      "metadata": {
        "colab": {
          "base_uri": "https://localhost:8080/"
        },
        "id": "FFtS9ZKCEs83",
        "outputId": "c13de553-2cd5-480b-864c-6557def7161d"
      },
      "execution_count": null,
      "outputs": [
        {
          "output_type": "stream",
          "name": "stdout",
          "text": [
            "green\n"
          ]
        }
      ]
    },
    {
      "cell_type": "markdown",
      "source": [
        "If player shoots down the alien_0, you can look up how many points they should earn using then code below:"
      ],
      "metadata": {
        "id": "qjzfQ7ERFJp3"
      }
    },
    {
      "cell_type": "code",
      "source": [
        "new_points = alien_0['points']\n",
        "print(f\"You just earned {new_points} points!\")"
      ],
      "metadata": {
        "colab": {
          "base_uri": "https://localhost:8080/"
        },
        "id": "NbK9ULbQn1Sj",
        "outputId": "6d882d07-bff1-4d69-c92e-4acf63d1ad30"
      },
      "execution_count": null,
      "outputs": [
        {
          "output_type": "stream",
          "name": "stdout",
          "text": [
            "You just earned 5 points!\n"
          ]
        }
      ]
    },
    {
      "cell_type": "markdown",
      "source": [
        "####<font color='blue'>*Adding New Key-Value Pairs*</font>\n",
        "You can add new information to the dictionary. Suppose you want to add information about position of alien_0 i.e. x-coordinate and y-coordinate.\n",
        "The position is at the edge of the screen, and 25 pixels from the top. So the x-coordinate is 0, and the y-coordinate is 25."
      ],
      "metadata": {
        "id": "pZ1VsxOtF4-K"
      }
    },
    {
      "cell_type": "code",
      "source": [
        "alien_0['x-position'] = 0 \n",
        "alien_0['y-position'] =25\n",
        "\n",
        "print(alien_0)"
      ],
      "metadata": {
        "colab": {
          "base_uri": "https://localhost:8080/"
        },
        "id": "XUbgU4hCIXtC",
        "outputId": "88915dce-a389-49f2-c85f-e21e9857b6cf"
      },
      "execution_count": null,
      "outputs": [
        {
          "output_type": "stream",
          "name": "stdout",
          "text": [
            "{'color': 'green', 'points': 5, 'x-position': 0, 'y-position': 25}\n"
          ]
        }
      ]
    },
    {
      "cell_type": "markdown",
      "source": [
        "####<font color='blue'>*Starting with an Empty Dictionary*</font>\n"
      ],
      "metadata": {
        "id": "5yVjhvfKEPjB"
      }
    },
    {
      "cell_type": "code",
      "source": [
        "alien_0 = {}\n",
        "\n",
        "alien_0['color'] = 'green'\n",
        "alien_0['points'] = 5\n",
        "\n",
        "print(alien_0) "
      ],
      "metadata": {
        "colab": {
          "base_uri": "https://localhost:8080/"
        },
        "id": "RT97M0GGJtH6",
        "outputId": "15b3a5e2-e175-46a4-9678-316c05958861"
      },
      "execution_count": null,
      "outputs": [
        {
          "output_type": "stream",
          "name": "stdout",
          "text": [
            "{'color': 'green', 'points': 5}\n"
          ]
        }
      ]
    },
    {
      "cell_type": "markdown",
      "source": [
        "####<font color='blue'>*Modifying Values in a Dictionary*</font>\n",
        "Let's change the color of the `alien_0` from green to yellow."
      ],
      "metadata": {
        "id": "lHF_L-iYKAJY"
      }
    },
    {
      "cell_type": "code",
      "source": [
        "alien_0['color'] = 'yellow'\n",
        "print(f\"alien_0 is now of {alien_0['color']} color\")"
      ],
      "metadata": {
        "colab": {
          "base_uri": "https://localhost:8080/"
        },
        "id": "-8ZOo1U5J8UU",
        "outputId": "0cd97285-e6d6-47e6-b140-f2c4968ebb46"
      },
      "execution_count": null,
      "outputs": [
        {
          "output_type": "stream",
          "name": "stdout",
          "text": [
            "alien_0 is now of yellow color\n"
          ]
        }
      ]
    },
    {
      "cell_type": "markdown",
      "source": [
        "More interesting example.\n",
        "\n",
        "Let's track position of the alien based on its speed. It can have three different speeds: slow, medium, and fast. Only movements in the horizontal direction are allowed (i.e. only the x-axis changes)\n",
        "\n",
        "- We store the value of alien speed\n",
        "- Depending on whether the speed is slow, medium or fast, the alien moves, respecively, 1, 2, or 3 units to the right.\n",
        "- The new position is calculated as:\n",
        "\n"
      ],
      "metadata": {
        "id": "nDOctCELg7en"
      }
    },
    {
      "cell_type": "code",
      "source": [
        "alien_0 = {'color' : 'green', 'x_position': 0, 'y_position' : 25, 'speed' : 'medium'}\n",
        "print(f\"original position: {alien_0['x_position']}\")\n",
        "\n",
        "# Move alien_0 to the right\n",
        "# Determine how far to move the alien based on its current position.\n",
        "if alien_0['speed'] == 'slow':\n",
        "  x_increment = 1\n",
        "elif alien_0['speed'] == 'medium':\n",
        "  x_increment = 2\n",
        "else:\n",
        "  x_increment = 3\n",
        "\n",
        "# New alien position is the olf position plus increment\n",
        "alien_0['x_position'] = alien_0['x_position'] + x_increment\n",
        "\n",
        "print(f\"New alien position: {alien_0['x_position']}\")\n"
      ],
      "metadata": {
        "id": "7YOmjGMQKyCk",
        "colab": {
          "base_uri": "https://localhost:8080/"
        },
        "outputId": "effa6b9d-3239-4415-b051-bba6bc254bdd"
      },
      "execution_count": null,
      "outputs": [
        {
          "output_type": "stream",
          "name": "stdout",
          "text": [
            "original position: 0\n",
            "New alien position: 2\n"
          ]
        }
      ]
    },
    {
      "cell_type": "markdown",
      "source": [
        "We can change alien speed and rerun the above program\n",
        "```\n",
        "alien_0['speed'] = 'fast'\n",
        "```"
      ],
      "metadata": {
        "id": "dUy73HEJsv5f"
      }
    },
    {
      "cell_type": "markdown",
      "source": [
        "<font color='blue'>*Removing Key-Value Pairs*</font>\n",
        "\n",
        "To remove a *key-value* pair, you just have to use `del` statement and provide the key for the pair."
      ],
      "metadata": {
        "id": "YkUVOEOmxYEG"
      }
    },
    {
      "cell_type": "code",
      "source": [
        "alien_0 = {'color' : 'green', 'points' : 5}\n",
        "print(alien_0)\n",
        "\n",
        "del alien_0['points']\n",
        "\n",
        "print(alien_0)"
      ],
      "metadata": {
        "colab": {
          "base_uri": "https://localhost:8080/"
        },
        "id": "GxglZIP5xW7P",
        "outputId": "4a8bd437-b923-4336-ecc2-f2b1c0548ca7"
      },
      "execution_count": null,
      "outputs": [
        {
          "output_type": "stream",
          "name": "stdout",
          "text": [
            "{'color': 'green', 'points': 5}\n",
            "{'color': 'green'}\n"
          ]
        }
      ]
    },
    {
      "cell_type": "markdown",
      "source": [
        "####<font color='blue'>*A Dictionary of Similar Objects*</font>\n",
        "\n",
        "Example: Names of persons paired with their favorite programming language.\n",
        "\n",
        "- When you know you'll need more than one line to define a dictionary, press `ENTER` after the opening brace `{`, and write out the first  *key-value* pair on the next line, followed by a comma (`,`).\n",
        "\n",
        "- To enter successive press *key-value* pairs, keeping pressing `ENTER` for going to a new line everytime, and writing out the new *key-value* pairs followed by commas.\n",
        "\n",
        "- It's a good practice to write a comma (`,`) after the last *key-value* pair, so that if you have to add more pairs to the dictionary, you're ready.\n",
        "\n",
        "- DON'T FORGET to close the right brace `}`"
      ],
      "metadata": {
        "id": "dlmrft5fmrKg"
      }
    },
    {
      "cell_type": "code",
      "source": [
        "favorite_languages = {\n",
        "    'jen' : 'python',\n",
        "    'sarah' : 'c',\n",
        "    'edward' : 'ruby',\n",
        "    'phil' : 'python',\n",
        "}\n",
        "\n",
        "language = favorite_languages['sarah'].title()\n",
        "print(f\"Sarah's favorite language is {language}.\")"
      ],
      "metadata": {
        "colab": {
          "base_uri": "https://localhost:8080/"
        },
        "id": "z5A4MHx1yx2Y",
        "outputId": "450d2caf-1ff2-46fd-b8c1-a1818c65380f"
      },
      "execution_count": null,
      "outputs": [
        {
          "output_type": "stream",
          "name": "stdout",
          "text": [
            "Sarah's favorite language is C.\n"
          ]
        }
      ]
    },
    {
      "cell_type": "markdown",
      "source": [
        "####<font color='blue'>*Using `get()` to Access Values*</font>\n",
        "\n",
        "Sometimes we try to get from a dictonary, a value whose corresponding *key* does not exist! Below,  we try to retrive from the `alien_0` dictionary a value  corresponding to a non-existant `'points'` key. As shown below, the statement `alien_0['points']`returns an error.\n",
        "\n",
        "<font color = 'lawngreen'>NOTE:   The error Message below is for demonstration</font>"
      ],
      "metadata": {
        "id": "V3TJHN10s42G"
      }
    },
    {
      "cell_type": "code",
      "source": [
        "alien_0 ={'color' : 'green', 'speed' : 'slow'}\n",
        "alien_0['points']"
      ],
      "metadata": {
        "colab": {
          "base_uri": "https://localhost:8080/",
          "height": 182
        },
        "id": "AG0iFAAIrv2G",
        "outputId": "42b3c543-1bb0-478c-fc7c-2ed30ff04bdf"
      },
      "execution_count": null,
      "outputs": [
        {
          "output_type": "error",
          "ename": "KeyError",
          "evalue": "ignored",
          "traceback": [
            "\u001b[0;31m---------------------------------------------------------------------------\u001b[0m",
            "\u001b[0;31mKeyError\u001b[0m                                  Traceback (most recent call last)",
            "\u001b[0;32m<ipython-input-3-ca30bf051876>\u001b[0m in \u001b[0;36m<module>\u001b[0;34m\u001b[0m\n\u001b[1;32m      1\u001b[0m \u001b[0malien_0\u001b[0m \u001b[0;34m=\u001b[0m\u001b[0;34m{\u001b[0m\u001b[0;34m'color'\u001b[0m \u001b[0;34m:\u001b[0m \u001b[0;34m'green'\u001b[0m\u001b[0;34m,\u001b[0m \u001b[0;34m'speed'\u001b[0m \u001b[0;34m:\u001b[0m \u001b[0;34m'slow'\u001b[0m\u001b[0;34m}\u001b[0m\u001b[0;34m\u001b[0m\u001b[0;34m\u001b[0m\u001b[0m\n\u001b[0;32m----> 2\u001b[0;31m \u001b[0malien_0\u001b[0m\u001b[0;34m[\u001b[0m\u001b[0;34m'points'\u001b[0m\u001b[0;34m]\u001b[0m\u001b[0;34m\u001b[0m\u001b[0;34m\u001b[0m\u001b[0m\n\u001b[0m",
            "\u001b[0;31mKeyError\u001b[0m: 'points'"
          ]
        }
      ]
    },
    {
      "cell_type": "markdown",
      "source": [
        "To avoid error like this us the `get()` method that requires you to not only provide the *key* whose corresponding value you want to retrieve but also another value that would be returned if no value was found corresponsing to the *key* you supplied."
      ],
      "metadata": {
        "id": "3ApIKk_svQQ0"
      }
    },
    {
      "cell_type": "code",
      "source": [
        "point_value = alien_0.get('points', 'No point value assigned')\n",
        "print(point_value)"
      ],
      "metadata": {
        "colab": {
          "base_uri": "https://localhost:8080/"
        },
        "id": "v6LJSsJStvEt",
        "outputId": "e48f79ef-c6e0-4082-9fea-738e442ad6c4"
      },
      "execution_count": null,
      "outputs": [
        {
          "output_type": "stream",
          "name": "stdout",
          "text": [
            "No point value assigned\n"
          ]
        }
      ]
    },
    {
      "cell_type": "markdown",
      "source": [
        "###<font color='blue'>**Looping Through a Dictionary**</font>\n",
        "\n",
        "You can loop through a dictionary in the following 3 ways:\n",
        "1. Loop through all *key-value* pairs\n",
        "2. Loop through keys, and \n",
        "3. Loop through values "
      ],
      "metadata": {
        "id": "6Bqi0ud_y3qW"
      }
    },
    {
      "cell_type": "markdown",
      "source": [
        "####<font color='blue'>*Looping Through All key-value Pairs*</font>\n",
        "\n",
        "<font color='blue'>*user.py*</font>"
      ],
      "metadata": {
        "id": "qfJLn269zgZ1"
      }
    },
    {
      "cell_type": "markdown",
      "source": [
        "In this case, we need to have two indices in the for loop: one to loop over *keys*, and the other to loop over *values*. For example:\n",
        "```\n",
        "for key, value in dictionary_name.items()\n",
        "```\n",
        "The `items()` method returns a list of all key_value pairs in the dictionary. Here's an example:\n",
        "```\n",
        "# Applying items() method of dictionary\n",
        "d = {'a': 1, 'b': 2}\n",
        "d.items()\n",
        "```\n",
        "Returns the following output:\n",
        "\n",
        "> dict_items([('a', 1), ('b', 2)])\n",
        "\n",
        "\n"
      ],
      "metadata": {
        "id": "_PBkwjz_IDcu"
      }
    },
    {
      "cell_type": "code",
      "source": [
        "user_0 ={\n",
        "    'username' : 'efermi',\n",
        "    'first' : 'enrico',\n",
        "    'last' : 'efermi', \n",
        "}\n",
        "\n",
        "for key, value in user_0.items():\n",
        "  print(f\"\\nKey: {key}\")\n",
        "  print(f\"Value: {value}\")"
      ],
      "metadata": {
        "colab": {
          "base_uri": "https://localhost:8080/"
        },
        "id": "OQ53vE7VFdV1",
        "outputId": "0f3d21b0-bb38-4828-9ba1-b1225ef7dc2f"
      },
      "execution_count": null,
      "outputs": [
        {
          "output_type": "stream",
          "name": "stdout",
          "text": [
            "\n",
            "Key: username\n",
            "Value: efermi\n",
            "\n",
            "Key: first\n",
            "Value: enrico\n",
            "\n",
            "Key: last\n",
            "Value: efermi\n"
          ]
        }
      ]
    },
    {
      "cell_type": "markdown",
      "source": [
        "You don't always have to the use names `key` and `value` to denote indices in the for loop. Any suitable name can be used in their place.\n",
        "\n",
        "- In our `favorite_langauages` dictionary example above, the `name` of the person was the *key* and the `language` was the *value*. So we can loop through that dictionary with a for loop that looks like this:\n",
        "```\n",
        "for name, language in favorite_languages.items(): \n",
        "```\n",
        "- In the cell below we loop over the keys and values of `favorite_languages` dictionary, and print teh name of each person along with their favorite language."
      ],
      "metadata": {
        "id": "fMWpGhohOMkN"
      }
    },
    {
      "cell_type": "code",
      "source": [
        "# Creating favorite_languages dictionary (re-creating for ease of reference)\n",
        "favorite_languages = {\n",
        "    'jen' : 'python',\n",
        "    'sarah' : 'c',\n",
        "    'edward' : 'ruby',\n",
        "    'phil' : 'python',\n",
        "    }\n",
        "\n",
        "# Looping through dictionary keys and values\n",
        "for name, language in favorite_languages.items():\n",
        "  print(f\"{name.title()}'s favorite langauge is {language.title()}\") "
      ],
      "metadata": {
        "colab": {
          "base_uri": "https://localhost:8080/"
        },
        "id": "KW0Jzcg8Jyik",
        "outputId": "cab25368-f0e5-4918-8b32-7088c0c7a324"
      },
      "execution_count": null,
      "outputs": [
        {
          "output_type": "stream",
          "name": "stdout",
          "text": [
            "Jen's favorite langauge is Python\n",
            "Sarah's favorite langauge is C\n",
            "Edward's favorite langauge is Ruby\n",
            "Phil's favorite langauge is Python\n"
          ]
        }
      ]
    },
    {
      "cell_type": "markdown",
      "source": [
        "####<font color='blue'>*Looping Through All the* ***Keys*** *in a Dictionary*</font>\n",
        "\n",
        "The `keys()` method called on dictionary name provides a list of dictionary keys to loop through. Example: `favorite_languages.keys()`, where `favorite_languages` is the dictionary_name."
      ],
      "metadata": {
        "id": "Sxstyt0XrYkU"
      }
    },
    {
      "cell_type": "code",
      "source": [
        "favorite_languages = {\n",
        "    'jen' : 'python',\n",
        "    'sarah' : 'c',\n",
        "    'edward' : 'ruby',\n",
        "    'phil' : 'python',\n",
        "    }\n",
        "\n",
        "for name in favorite_languages.keys():\n",
        "  print(name.title())\n"
      ],
      "metadata": {
        "colab": {
          "base_uri": "https://localhost:8080/"
        },
        "id": "sMzbxwq-sTLa",
        "outputId": "03a32cd4-18b6-4b12-8451-e0deed0d64fd"
      },
      "execution_count": null,
      "outputs": [
        {
          "output_type": "stream",
          "name": "stdout",
          "text": [
            "Jen\n",
            "Sarah\n",
            "Edward\n",
            "Phil\n"
          ]
        }
      ]
    },
    {
      "cell_type": "markdown",
      "source": [
        "It is possible to print a special message for some people who are \"friends\" but a different message for others. We do this by as follows:\n",
        "- We write message that greets everyone by name as we loop through the dictionary keys ( i.e. names).\n",
        "- But we also implement a conditional-test that triggers printing the special message (mentioning their favorite message) when the current key (name) matches a name in the friends list.  \n",
        "- Note the \\t{name} is a tab that indents."
      ],
      "metadata": {
        "id": "Mbphh3iVqMIx"
      }
    },
    {
      "cell_type": "code",
      "source": [
        "friends = ['phil', 'sarah']\n",
        "for name in favorite_languages.keys():\n",
        "  print(f\"Hi {name.title()}\")\n",
        "\n",
        "  if name in friends:\n",
        "    language = favorite_languages[name].title()\n",
        "    print(f\"\\t{name.title()}, I see you love {language.title()}\")"
      ],
      "metadata": {
        "colab": {
          "base_uri": "https://localhost:8080/"
        },
        "id": "SA8002ZDiT49",
        "outputId": "1f52f9db-b136-478c-cdc7-374f07a5db61"
      },
      "execution_count": null,
      "outputs": [
        {
          "output_type": "stream",
          "name": "stdout",
          "text": [
            "Hi Jen\n",
            "Hi Sarah\n",
            "\tSarah, I see you love C\n",
            "Hi Edward\n",
            "Hi Phil\n",
            "\tPhil, I see you love Python\n"
          ]
        }
      ]
    },
    {
      "cell_type": "markdown",
      "source": [
        "You can use keys() method to find out if a particular person was polled. Lets say we want to check if 'erin' was polled."
      ],
      "metadata": {
        "id": "hC7v9boyn2eH"
      }
    },
    {
      "cell_type": "code",
      "source": [
        "if 'erin' not in favorite_languages.keys():\n",
        "  print(\"Erin, please take your poll!\")\n",
        "\n"
      ],
      "metadata": {
        "colab": {
          "base_uri": "https://localhost:8080/"
        },
        "id": "0YANI_wcjBce",
        "outputId": "7e5913ba-b8b5-42bc-a16d-4eb305c7c790"
      },
      "execution_count": null,
      "outputs": [
        {
          "output_type": "stream",
          "name": "stdout",
          "text": [
            "Erin, please take your poll!\n"
          ]
        }
      ]
    },
    {
      "cell_type": "markdown",
      "source": [
        "####<font color='blue'>*Looping Through a Dictionary's Keys in a  Particular Order*</font>\n",
        "\n",
        "We loop over a sorted list of dictionary keys returned by `sorted(dictionary_name).keys()`"
      ],
      "metadata": {
        "id": "6peHzH3zotK0"
      }
    },
    {
      "cell_type": "code",
      "source": [
        "for name in sorted(favorite_languages.keys()):\n",
        "  print(f\"{name.title()}, Thank you for taking the poll.\")"
      ],
      "metadata": {
        "colab": {
          "base_uri": "https://localhost:8080/"
        },
        "id": "TX7CUmQIpDnQ",
        "outputId": "9484434a-ef82-42a6-96c5-508861d5d818"
      },
      "execution_count": null,
      "outputs": [
        {
          "output_type": "stream",
          "name": "stdout",
          "text": [
            "Edward, Thank you for taking the poll.\n",
            "Jen, Thank you for taking the poll.\n",
            "Phil, Thank you for taking the poll.\n",
            "Sarah, Thank you for taking the poll.\n"
          ]
        }
      ]
    },
    {
      "cell_type": "markdown",
      "source": [
        "####<font color='blue'>*Looping Through All* ***Values*** *in a dictionary*</font>\n",
        "\n",
        "The `values()` method creates a  list of  over all the values in a dictionary that can be looped through. The usage is `dictionary_name.values()` for example, `favorite_languages.values()`."
      ],
      "metadata": {
        "id": "iCFsgyRap_AV"
      }
    },
    {
      "cell_type": "code",
      "source": [
        "# looping over all values in the dictionary\n",
        "for favorite_language in favorite_languages.values():\n",
        "  print(favorite_language.title())"
      ],
      "metadata": {
        "colab": {
          "base_uri": "https://localhost:8080/"
        },
        "id": "5t-pf3oYCBAO",
        "outputId": "3579c0b2-7696-49f1-9ad2-35e6875d4bc8"
      },
      "execution_count": null,
      "outputs": [
        {
          "output_type": "stream",
          "name": "stdout",
          "text": [
            "Python\n",
            "C\n",
            "Ruby\n",
            "Python\n"
          ]
        }
      ]
    },
    {
      "cell_type": "markdown",
      "source": [
        "Because a list of values contains repeat values, it can be pretty long. The list can be converted into a set that is still complete in the sense of containing all languages. This set can be looped through. The usage is `set(dictionary_name.values())`"
      ],
      "metadata": {
        "id": "xJot3Qjnp5pT"
      }
    },
    {
      "cell_type": "code",
      "source": [
        "for favorite_language in set(favorite_languages.values()):\n",
        "  print(favorite_language.title()) "
      ],
      "metadata": {
        "colab": {
          "base_uri": "https://localhost:8080/"
        },
        "id": "NolFuAJ4vDmN",
        "outputId": "81f38e43-3363-4ec4-b683-db4d5eefa6e3"
      },
      "execution_count": null,
      "outputs": [
        {
          "output_type": "stream",
          "name": "stdout",
          "text": [
            "Ruby\n",
            "C\n",
            "Python\n"
          ]
        }
      ]
    },
    {
      "cell_type": "markdown",
      "source": [
        "### <font color ='blue'>**Nesting**</font>\n",
        "Nesting is storing multiple dictionaries in a list, or a list of items as a *value* in  adictionary."
      ],
      "metadata": {
        "id": "UDGr1S-AwN7d"
      }
    },
    {
      "cell_type": "markdown",
      "source": [
        "####<font color='blue'>*A list of dictionaries*</font>\n",
        "In the previous example, a single dictionary `alien_0` was created, which contained information about that alien. We can have several aliens, and a separate dictionary representing each one of them. We can then put those dictioanies in a list."
      ],
      "metadata": {
        "id": "EnpQ7OoTyPic"
      }
    },
    {
      "cell_type": "code",
      "source": [
        "# create dictionaries\n",
        "alien_0 = {'color' : 'green', 'points' : 5}\n",
        "alien_1 = {'color' : 'yellow', 'points' : 10}\n",
        "alien_2 = {'color' : 'red', 'points' : 25}\n",
        "\n",
        "# Put dictionaries in  a list\n",
        "aliens = [alien_0, alien_1, alien_2]\n",
        "\n",
        "# print the list of dictionaries\n",
        "for alien in aliens:\n",
        "  print(alien)"
      ],
      "metadata": {
        "colab": {
          "base_uri": "https://localhost:8080/"
        },
        "id": "XNw1sULPvt7_",
        "outputId": "32e1432d-5ed8-4c53-c0e6-3375aad440ed"
      },
      "execution_count": null,
      "outputs": [
        {
          "output_type": "stream",
          "name": "stdout",
          "text": [
            "{'color': 'green', 'points': 5}\n",
            "{'color': 'yellow', 'points': 10}\n",
            "{'color': 'red', 'points': 25}\n"
          ]
        }
      ]
    },
    {
      "cell_type": "markdown",
      "source": [
        "We can create a list of several aliens, information about each represented by a dictionary:\n",
        "- create an empty list\n",
        "- create new aliens with a for loop: a dictionary holding information about each alien.\n",
        "- append them to the list"
      ],
      "metadata": {
        "id": "-cvWmKUkBtnA"
      }
    },
    {
      "cell_type": "code",
      "source": [
        "# create an empty list\n",
        "aliens = []\n",
        "\n",
        "# create 30 dictionaries, each containing information on aliens\n",
        "#   append dictionaries to a list\n",
        "\n",
        "for alien_number in range(30):\n",
        "  new_alien = {'color' : 'green', 'points' : 5, 'speed': 'slow'}\n",
        "  aliens.append(new_alien)\n",
        "\n",
        "# print first 5 dictionaries in the list  \n",
        "for alien in aliens[:5]:\n",
        "  print(alien)\n",
        "print(\"\\n\\t\\t...\\n\\t\\t...\\n\")\n",
        "\n",
        "# We can check how many aliens were created in total\n",
        "print(f\"\\nTotal number of aliens: {len(aliens)}\")\n"
      ],
      "metadata": {
        "colab": {
          "base_uri": "https://localhost:8080/"
        },
        "id": "hLTyBU-m0b3Q",
        "outputId": "8067ff8b-4e5a-4067-fa35-e9da79082ab5"
      },
      "execution_count": null,
      "outputs": [
        {
          "output_type": "stream",
          "name": "stdout",
          "text": [
            "{'color': 'green', 'points': 5, 'speed': 'slow'}\n",
            "{'color': 'green', 'points': 5, 'speed': 'slow'}\n",
            "{'color': 'green', 'points': 5, 'speed': 'slow'}\n",
            "{'color': 'green', 'points': 5, 'speed': 'slow'}\n",
            "{'color': 'green', 'points': 5, 'speed': 'slow'}\n",
            "\n",
            "\t\t...\n",
            "\t\t...\n",
            "\n",
            "\n",
            "Total number of aliens: 30\n"
          ]
        }
      ]
    },
    {
      "cell_type": "markdown",
      "source": [
        "Suppose you wanted to change the first three aliens by changing their color to yellow, their speed to medium, and give each one of them 10 points.\n",
        "\n",
        "- We do this by first creating a slice of the aliens list (consisting of first three aliens)\n",
        "- Then looping through this list, conditionally implementing the changes."
      ],
      "metadata": {
        "id": "UQVmzh_TJyKf"
      }
    },
    {
      "cell_type": "code",
      "source": [
        "# create a slice of the list\n",
        "#    conditionally modify aliens in the slice\n",
        "\n",
        "for alien in aliens[:3]:\n",
        "  if alien['color'] == 'green':\n",
        "    alien['color'] = 'yellow'\n",
        "    alien['speed'] = 'medium'\n",
        "    alien['points'] = 10\n",
        "\n",
        "# show first 5 aliens\n",
        "for alien in aliens[:5]:\n",
        "  print(alien)\n"
      ],
      "metadata": {
        "colab": {
          "base_uri": "https://localhost:8080/"
        },
        "id": "7GZbN0v5H6U5",
        "outputId": "49672496-05e2-4a82-85f7-6ece7a4eb34a"
      },
      "execution_count": null,
      "outputs": [
        {
          "output_type": "stream",
          "name": "stdout",
          "text": [
            "{'color': 'yellow', 'points': 10, 'speed': 'medium'}\n",
            "{'color': 'yellow', 'points': 10, 'speed': 'medium'}\n",
            "{'color': 'yellow', 'points': 10, 'speed': 'medium'}\n",
            "{'color': 'green', 'points': 5, 'speed': 'slow'}\n",
            "{'color': 'green', 'points': 5, 'speed': 'slow'}\n"
          ]
        }
      ]
    },
    {
      "cell_type": "markdown",
      "source": [
        "####<font color='blue'>*A List in a Dictionary*</font>\n",
        "\n",
        "<font color='blue'>*pizza.py*</font>\n",
        "\n",
        "You can put a list in a dictionary, whenerver you want multiple values to be associated with a single key.\n",
        "\n",
        "For example, a dictionary can store different attributes of a pizza: crust and toppings. Typically there would be many toppings, a list of which can be put inside the dictionary. \n"
      ],
      "metadata": {
        "id": "I5dfclrYI9LR"
      }
    },
    {
      "cell_type": "code",
      "source": [
        "# Store information about a pizza being ordered\n",
        "pizza = {\n",
        "    'crust' : 'thick',\n",
        "    'toppings' : ['mushrooms', 'extra cheese']\n",
        "}\n",
        "\n",
        "# Summarize order\n",
        "print(f\"You have ordered a {pizza['crust']}-curst pizza \"\n",
        "        \"with the following toppings:\")\n",
        "\n",
        "for topping in pizza['toppings']:\n",
        "  print(\"\\t\" + topping)"
      ],
      "metadata": {
        "colab": {
          "base_uri": "https://localhost:8080/"
        },
        "id": "u7vGrb4dqwYu",
        "outputId": "bf1f8acb-cefc-44be-d583-4c0557510140"
      },
      "execution_count": null,
      "outputs": [
        {
          "output_type": "stream",
          "name": "stdout",
          "text": [
            "You have ordered a thick-curst pizza with the following toppings:\n",
            "\tmushrooms\n",
            "\textra cheese\n"
          ]
        }
      ]
    },
    {
      "cell_type": "markdown",
      "source": [
        "<font color='blue'>*favorite_languages.py*</font>\n",
        "\n",
        "In the favorite languages example, it is possible that people have more than one favorite language. In this situation, a person's name (i.e. *key*) can be associated with a *key*, which is a whole list of her/his favorite languages rather than a single language. \n",
        "\n",
        "- We want to print out person names with the list of their favorite languages, as shown below:\n",
        "\n",
        ">```\n",
        " Jen's favorite langages are:\n",
        "  Python\n",
        "  Ruby\n",
        "```"
      ],
      "metadata": {
        "id": "JXAg9q6RQvgc"
      }
    },
    {
      "cell_type": "code",
      "source": [
        "# \n",
        "favorite_languages = {\n",
        "    'jen' : ['python', 'ruby'],\n",
        "    'sarah' : ['c'],\n",
        "    'edward' : ['ruby', 'go'],\n",
        "    'phil' : ['python', 'haskell']\n",
        "}\n",
        "\n",
        "for name, languages in favorite_languages.items():\n",
        "  print(f\"{name.title()}'s favorite languages are: \")\n",
        "  for language in languages:\n",
        "    print(f\"\\t{language.title()}\")"
      ],
      "metadata": {
        "colab": {
          "base_uri": "https://localhost:8080/"
        },
        "id": "29oSp2cfRnXf",
        "outputId": "42995455-fb23-4530-f0e7-429f27926fea"
      },
      "execution_count": null,
      "outputs": [
        {
          "output_type": "stream",
          "name": "stdout",
          "text": [
            "Jen's favorite languages are: \n",
            "\tPython\n",
            "\tRuby\n",
            "Sarah's favorite languages are: \n",
            "\tC\n",
            "Edward's favorite languages are: \n",
            "\tRuby\n",
            "\tGo\n",
            "Phil's favorite languages are: \n",
            "\tPython\n",
            "\tHaskell\n"
          ]
        }
      ]
    },
    {
      "cell_type": "markdown",
      "source": [
        "####<font color='blue'>*A Dictionary in a Dictionary*</font>\n",
        "<font color='blue'>*many_users.py*</font>\n",
        "\n",
        "You can nest a dictionary within a dictionary\n",
        "\n",
        ">\n",
        "\n",
        "**Example:** \n",
        "\n",
        "- Suppose we have a dictionary `users`. The *key* of the dictionary is the `username`, and the *value* is another nested dictionary containing information on users.\n",
        "\n",
        "- The for loop below iterates using two indices: `username` and `user_info`. They refer to, respectively, the user's name and the dictionary containing information about her."
      ],
      "metadata": {
        "id": "bwZr4XnfYfMN"
      }
    },
    {
      "cell_type": "code",
      "source": [
        "# create dictionary with username as key  \n",
        "# and nested dictionary of user_info(first & last names, and location) as value\n",
        "\n",
        "users = {\n",
        "    'aeinstein' : {'first' : 'albert', 'last' : 'einstein', 'location' : 'princeton'},\n",
        "    'mcurie' : {'first' : 'marie', 'last' : 'curie', 'location' : 'paris'},\n",
        "}\n",
        "\n",
        "# loop over user dictionary's keys (username) and values (user_info)\n",
        "for username, user_info in users.items():\n",
        "  full_name = f\"{user_info['first']} {user_info['last']}\"\n",
        "  location = user_info['location']\n",
        "  \n",
        "  print(username)\n",
        "  print(f\"\\tFull name: {full_name.title()}\" )\n",
        "  print(f\"\\tlocation: {location}\")\n",
        "\n",
        "# An alternative way\n",
        "#  print(f\"{username}: \\n\\tFull name: {user_info['first'].title()} {user_info['last'].title()} \\n\\tlocation: {user_info['location']}\")\n",
        "\n",
        "  "
      ],
      "metadata": {
        "id": "zxCwZozyINX8",
        "colab": {
          "base_uri": "https://localhost:8080/"
        },
        "outputId": "f3077f94-22ad-483d-f768-c6d0f76286ee"
      },
      "execution_count": null,
      "outputs": [
        {
          "output_type": "stream",
          "name": "stdout",
          "text": [
            "aeinstein\n",
            "\tFull name: Albert Einstein\n",
            "\tlocation: princeton\n",
            "mcurie\n",
            "\tFull name: Marie Curie\n",
            "\tlocation: paris\n"
          ]
        }
      ]
    }
  ]
}