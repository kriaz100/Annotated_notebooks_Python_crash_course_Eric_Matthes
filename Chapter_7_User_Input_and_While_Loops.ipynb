{
  "nbformat": 4,
  "nbformat_minor": 0,
  "metadata": {
    "colab": {
      "provenance": [],
      "authorship_tag": "ABX9TyNzxY+op359xXJ1AkM0xLMP",
      "include_colab_link": true
    },
    "kernelspec": {
      "name": "python3",
      "display_name": "Python 3"
    },
    "language_info": {
      "name": "python"
    }
  },
  "cells": [
    {
      "cell_type": "markdown",
      "metadata": {
        "id": "view-in-github",
        "colab_type": "text"
      },
      "source": [
        "<a href=\"https://colab.research.google.com/github/kriaz100/Python_crash_course_notebooks/blob/main/Chapter_7_User_Input_and_While_Loops.ipynb\" target=\"_parent\"><img src=\"https://colab.research.google.com/assets/colab-badge.svg\" alt=\"Open In Colab\"/></a>"
      ]
    },
    {
      "cell_type": "markdown",
      "source": [
        "---\n",
        "<font color='blue'>*Crash Course in Python*</font>\n",
        ">  # <font color='darkblue'>**Chapter 7: User Input And While Loops**</font>\n",
        "\n",
        "---\n"
      ],
      "metadata": {
        "id": "g_RJeipRbDqj"
      }
    },
    {
      "cell_type": "markdown",
      "source": [
        "- To develop programs that solve end user problems, we have to seek input form the users, e.g. a name, or a list of names. \n",
        "- The program should keep running for as long as the user need them to enter information, and then the program can work with that information.\n",
        "- You'll use `while loop` to keep programs running as long as certain conditions remain true.  \n"
      ],
      "metadata": {
        "id": "aSqFX_TsKfx9"
      }
    },
    {
      "cell_type": "markdown",
      "source": [
        "##**How the Input() Function Works**\n",
        "\n",
        "<font color='blue'>parrot.py</font>\n",
        "\n",
        "The program asks the user to input some text, and then displays the text back to the user. That is, it parrots user input!\n",
        "\n",
        "Note the use of **`input()`** function in the code below. This function will keep the program running until user input is received.\n",
        "\n",
        "- The `input()` function takes one argument, called **prompt**, or instruction displayed to the user so that they know what to do. The statement \"*Tell me somethig and I will repeat it back to you*\" is the prompt in the example below. It could also be \"*Enter your name here*\".\n",
        "\n",
        "- The program waits while the user enters the required information, and presses `Enter`.\n",
        "\n",
        "- In the cell below, the user input is assigned to `message` and then the print() function prints it back to the user."
      ],
      "metadata": {
        "id": "R8diR6L-LpXG"
      }
    },
    {
      "cell_type": "code",
      "source": [
        "message = input(\"Tell me somethig and I will repeat it back to you: \")\n",
        "print(message)"
      ],
      "metadata": {
        "colab": {
          "base_uri": "https://localhost:8080/"
        },
        "id": "7ImCB5x3CdFL",
        "outputId": "c6edd1dc-32ae-4d7c-8702-b6e310a13b54"
      },
      "execution_count": null,
      "outputs": [
        {
          "output_type": "stream",
          "name": "stdout",
          "text": [
            "Tell me somethig and I will repeat it back to you: Hello World Everyone!!\n",
            "Hello World Everyone!!\n"
          ]
        }
      ]
    },
    {
      "cell_type": "markdown",
      "source": [
        "####<font color='blue'>*Writing Clear Prompts*</font>"
      ],
      "metadata": {
        "id": "rczT-qemFbXJ"
      }
    },
    {
      "cell_type": "code",
      "source": [
        "# prompt user to enter name, greet by name\n",
        "name = input(\"Please enter your name: \")\n",
        "print(f\"\\nHello, {name}!\")"
      ],
      "metadata": {
        "colab": {
          "base_uri": "https://localhost:8080/"
        },
        "id": "IMj4mIbxGQHB",
        "outputId": "07ca72f0-2042-471a-ac7a-2bd0d68e152e"
      },
      "execution_count": null,
      "outputs": [
        {
          "output_type": "stream",
          "name": "stdout",
          "text": [
            "Please enter your name: Khalid\n",
            "\n",
            "Hello, Khalid!\n"
          ]
        }
      ]
    },
    {
      "cell_type": "code",
      "source": [
        "# Prompts longer than one line\n",
        "prompt = \"If you tell us who you are, we can personalize the message you see\"\n",
        "prompt += \"\\nWhat is your first name?\\n   User response:  \"\n",
        "\n",
        "name = input(prompt)\n",
        "print(f\"Greeting user: Hello, {name}!!\")"
      ],
      "metadata": {
        "colab": {
          "base_uri": "https://localhost:8080/"
        },
        "id": "eU4GC_T5DW-m",
        "outputId": "1d185ecb-bf86-4127-95f6-c6c63e0afb1b"
      },
      "execution_count": null,
      "outputs": [
        {
          "output_type": "stream",
          "name": "stdout",
          "text": [
            "If you tell us who you are, we can personalize the message you see\n",
            "What is your first name?\n",
            "   User response:  Ayesha\n",
            "Greeting user: Hello, Ayesha!!\n"
          ]
        }
      ]
    },
    {
      "cell_type": "code",
      "source": [],
      "metadata": {
        "id": "FDtCTiBgaGjQ"
      },
      "execution_count": null,
      "outputs": []
    },
    {
      "cell_type": "markdown",
      "source": [
        "####<font color='blue'>*Using **`int()`** to Accept Numerical Input*</font>\n",
        "\n",
        "\n"
      ],
      "metadata": {
        "id": "RrF3zf01djDp"
      }
    },
    {
      "cell_type": "code",
      "source": [
        "# Accepting numerical input\n",
        "#    Python stores user numerical input as string (e.g. '21')\n",
        "#    \n",
        "\n",
        "age = input(\"How old are you? \")\n",
        "age"
      ],
      "metadata": {
        "colab": {
          "base_uri": "https://localhost:8080/",
          "height": 53
        },
        "id": "4ir8nIPOduWn",
        "outputId": "6c5df315-b348-475f-9cb2-47b4971abda0"
      },
      "execution_count": null,
      "outputs": [
        {
          "name": "stdout",
          "output_type": "stream",
          "text": [
            "How old are you? 23\n"
          ]
        },
        {
          "output_type": "execute_result",
          "data": {
            "text/plain": [
              "'23'"
            ],
            "application/vnd.google.colaboratory.intrinsic+json": {
              "type": "string"
            }
          },
          "metadata": {},
          "execution_count": 27
        }
      ]
    },
    {
      "cell_type": "code",
      "source": [
        "# Strings cannot be compared to integers -- Error will be generated\n",
        "age = input(\"How old are you? \")\n",
        "age >= 18"
      ],
      "metadata": {
        "colab": {
          "base_uri": "https://localhost:8080/",
          "height": 217
        },
        "id": "blbrCK-0fN4v",
        "outputId": "8f24dfca-2e00-4df6-b1ea-733cab0af40e"
      },
      "execution_count": null,
      "outputs": [
        {
          "name": "stdout",
          "output_type": "stream",
          "text": [
            "How old are you? 21\n"
          ]
        },
        {
          "output_type": "error",
          "ename": "TypeError",
          "evalue": "ignored",
          "traceback": [
            "\u001b[0;31m---------------------------------------------------------------------------\u001b[0m",
            "\u001b[0;31mTypeError\u001b[0m                                 Traceback (most recent call last)",
            "\u001b[0;32m<ipython-input-28-521ccd6f9708>\u001b[0m in \u001b[0;36m<module>\u001b[0;34m\u001b[0m\n\u001b[1;32m      1\u001b[0m \u001b[0;31m# Strings cannot be compared to integers\u001b[0m\u001b[0;34m\u001b[0m\u001b[0;34m\u001b[0m\u001b[0;34m\u001b[0m\u001b[0m\n\u001b[1;32m      2\u001b[0m \u001b[0mage\u001b[0m \u001b[0;34m=\u001b[0m \u001b[0minput\u001b[0m\u001b[0;34m(\u001b[0m\u001b[0;34m\"How old are you? \"\u001b[0m\u001b[0;34m)\u001b[0m\u001b[0;34m\u001b[0m\u001b[0;34m\u001b[0m\u001b[0m\n\u001b[0;32m----> 3\u001b[0;31m \u001b[0mage\u001b[0m \u001b[0;34m>=\u001b[0m \u001b[0;36m18\u001b[0m\u001b[0;34m\u001b[0m\u001b[0;34m\u001b[0m\u001b[0m\n\u001b[0m",
            "\u001b[0;31mTypeError\u001b[0m: '>=' not supported between instances of 'str' and 'int'"
          ]
        }
      ]
    },
    {
      "cell_type": "code",
      "source": [
        "# The solution is to first convert the string to integer using int() function\n",
        "age = input(\"How old are you: \")\n",
        "age = int(age)\n",
        "\n",
        "age >= 18"
      ],
      "metadata": {
        "colab": {
          "base_uri": "https://localhost:8080/"
        },
        "id": "os2mds0Qgyhw",
        "outputId": "9a8d3978-a69c-47fa-ac47-b80caf6fd864"
      },
      "execution_count": null,
      "outputs": [
        {
          "name": "stdout",
          "output_type": "stream",
          "text": [
            "How old are you: 21\n"
          ]
        },
        {
          "output_type": "execute_result",
          "data": {
            "text/plain": [
              "True"
            ]
          },
          "metadata": {},
          "execution_count": 29
        }
      ]
    },
    {
      "cell_type": "markdown",
      "source": [
        "<font color='blue'>rollercoaster.py</font>\n",
        "\n",
        "This example will show how to use the `int()` function in programming"
      ],
      "metadata": {
        "id": "SJ3rRcRJlEim"
      }
    },
    {
      "cell_type": "code",
      "source": [
        "height = input(\"How old are you \")\n",
        "height = int(height)\n",
        "\n",
        "if height >= 48:\n",
        "  print(\"You are tall enough to ride\")\n",
        "else:\n",
        "     print(\"\\nYou will be able to ride when you are a little older\")"
      ],
      "metadata": {
        "colab": {
          "base_uri": "https://localhost:8080/"
        },
        "id": "knCAxMyVhNc3",
        "outputId": "5e6dbbfd-a284-4055-b425-5d57fc8a3dd4"
      },
      "execution_count": null,
      "outputs": [
        {
          "output_type": "stream",
          "name": "stdout",
          "text": [
            "How old are you 43\n",
            "\n",
            "You will be able to ride when you are a little older\n"
          ]
        }
      ]
    },
    {
      "cell_type": "markdown",
      "source": [
        "####<font color='blue'>*The Modulo Operator* %</font>\n",
        "\n",
        "Returns the remainder when one number is deivided by another.\n",
        "\n",
        "It does not tell you how many times one number is divided by the other, just returns the remainder.\n",
        "\n",
        "*When one number is divisible by the other the remainder is zero*. "
      ],
      "metadata": {
        "id": "rlDU8oAl5u2j"
      }
    },
    {
      "cell_type": "code",
      "source": [
        "# modulo operator in action\n",
        "print(f\"4 % 3: {4 % 3}\")\n",
        "print(f\"5 % 3: {5 % 3}\")\n",
        "print(f\"6 % 3: {6 % 3}\")\n",
        "print(f\"7 % 3: {7 % 3}\")"
      ],
      "metadata": {
        "colab": {
          "base_uri": "https://localhost:8080/"
        },
        "id": "HrYIBCaKmJSY",
        "outputId": "cd455daf-6a90-4674-f02f-390661b60854"
      },
      "execution_count": null,
      "outputs": [
        {
          "output_type": "stream",
          "name": "stdout",
          "text": [
            "4 % 3: 1\n",
            "5 % 3: 2\n",
            "6 % 3: 0\n",
            "7 % 3: 1\n"
          ]
        }
      ]
    },
    {
      "cell_type": "markdown",
      "source": [
        "<font color='blue'>even_or_odd.py</font>"
      ],
      "metadata": {
        "id": "VhbwiYJ_-rYp"
      }
    },
    {
      "cell_type": "code",
      "source": [
        "# A number is even if division by 2 gives zero remainder\n",
        "# Get a number from user, and determin if its even or odd\n",
        "\n",
        "number = input(\"Enter a number and I'll tell you if its even or odd:   \" )\n",
        "number = int(number)\n",
        "\n",
        "if number % 2 ==0:\n",
        "  print(f\"\\nThe number {number} is even\")\n",
        "else:\n",
        "  print(f\"\\nThe number {number} is odd\")\n"
      ],
      "metadata": {
        "colab": {
          "base_uri": "https://localhost:8080/"
        },
        "id": "MEjdBXxp-NM1",
        "outputId": "cced567f-03b9-43d2-b96f-556a860458a8"
      },
      "execution_count": null,
      "outputs": [
        {
          "output_type": "stream",
          "name": "stdout",
          "text": [
            "Enter a number and I'll tell you if its even or odd:   24\n",
            "\n",
            "The number 24 is even\n"
          ]
        }
      ]
    },
    {
      "cell_type": "markdown",
      "source": [
        "##**Introducing ``while`` Loops**\n",
        "\n"
      ],
      "metadata": {
        "id": "r9G3RboDA6ka"
      }
    },
    {
      "cell_type": "markdown",
      "source": [
        "####<font color='blue'>*The while Loop in Action*</font>\n",
        "<font color='blue'>counting.py</font>\n",
        "\n",
        "The **while loop** runs as long, or *while* a condition is true."
      ],
      "metadata": {
        "id": "VLw90-dBte01"
      }
    },
    {
      "cell_type": "code",
      "source": [
        "# The while loop counts from 1 to 5\n",
        "current_number = 1\n",
        "while current_number <= 5:\n",
        "  print(current_number)\n",
        "  current_number += 1\n",
        "  "
      ],
      "metadata": {
        "id": "1-5jZkVHAgtW",
        "colab": {
          "base_uri": "https://localhost:8080/"
        },
        "outputId": "f9b9777e-845c-4082-b5cd-0aa5277a0a89"
      },
      "execution_count": null,
      "outputs": [
        {
          "output_type": "stream",
          "name": "stdout",
          "text": [
            "1\n",
            "2\n",
            "3\n",
            "4\n",
            "5\n"
          ]
        }
      ]
    },
    {
      "cell_type": "markdown",
      "source": [
        "####<font color='blue'>*Letting the User Choose When to Quit*</font>\n",
        "\n",
        "<font color='blue'>parrot.py</font>\n",
        "\n",
        "We'll define a **quit value* and then the program will keep running as long as the user does not enter the quite value"
      ],
      "metadata": {
        "id": "Nmi4Q-yQvpFV"
      }
    },
    {
      "cell_type": "code",
      "source": [
        "prompt = \"\\nTell me something, and I will repeat it back to you: \"\n",
        "prompt += \"\\nEnter 'quit' to end the program.  \"\n",
        "\n",
        "message = \"\"\n",
        "while message != \"quit\":\n",
        "  message =input(prompt)\n",
        "  print(message)\n"
      ],
      "metadata": {
        "colab": {
          "base_uri": "https://localhost:8080/"
        },
        "id": "jDV_lZsluj6r",
        "outputId": "1fcf0c9b-aae4-4617-b77b-dde3775c8bd7"
      },
      "execution_count": null,
      "outputs": [
        {
          "output_type": "stream",
          "name": "stdout",
          "text": [
            "\n",
            "Tell me something, and I will repeat it back to you: \n",
            "Enter 'quit' to end the program.  quit\n",
            "quit\n"
          ]
        }
      ]
    },
    {
      "cell_type": "markdown",
      "source": [
        "####<font color='blue'>*Using a flag*</font>\n",
        "\n",
        "Instead of one condition (e.g user typing 'quit') ocurring to stop the program, there could be a bunch of conditions, the occurrance of any one of which could signal stopping of the program.\n",
        "\n",
        "- In this situation, create a variable *flag* (it could be given any name) that would be `True` if the program is to continue running (i.e. if all conditions satisfied) and be `False` if the program is to stop running (if one or more conditions violated).\n",
        "- The `while` statement could then just check one condition: whether or not `flag` is currently `True` "
      ],
      "metadata": {
        "id": "6-VAjitZg3MY"
      }
    },
    {
      "cell_type": "code",
      "source": [
        "prompt =\"\\nTell me something, and I will repeat it back to you \"\n",
        "prompt += \"\\nEnter 'quit' to end the program: \"\n",
        "\n",
        "active = True             # this variable is the flag\n",
        "while active:             # while flag-variable = True\n",
        "  message =input(prompt)\n",
        "\n",
        "  if message == 'quit':\n",
        "    active = False\n",
        "  else:\n",
        "    print(message)\n"
      ],
      "metadata": {
        "colab": {
          "base_uri": "https://localhost:8080/"
        },
        "id": "hHaIhUgNjO8Q",
        "outputId": "cfd9083b-487a-4a27-c747-8c85d1dc97cb"
      },
      "execution_count": null,
      "outputs": [
        {
          "name": "stdout",
          "output_type": "stream",
          "text": [
            "\n",
            "Tell me something, and I will repeat it back to you \n",
            "Enter 'quit' to end the program: hi\n",
            "hi\n",
            "\n",
            "Tell me something, and I will repeat it back to you \n",
            "Enter 'quit' to end the program: quit\n"
          ]
        }
      ]
    },
    {
      "cell_type": "markdown",
      "source": [
        "####<font color='blue'>*Using break to Exit a Loop*</font>\n",
        "\n",
        "<font color='blue'>cities.py</font>"
      ],
      "metadata": {
        "id": "nKGYZZ6_Y5QK"
      }
    },
    {
      "cell_type": "markdown",
      "source": [
        "The program below asks the users about the places they've visted. We can stop the `while` loop in this program by calling break as soon as the user enters the 'quit' value.\n",
        "\n",
        "So the loop would run forever unless it reaches a `break` statement. The break statement is conditionally executed when the user types 'quit'.\n"
      ],
      "metadata": {
        "id": "TW6C1SkB-09k"
      }
    },
    {
      "cell_type": "code",
      "source": [
        "prompt =\"\\nPlease enter the name of the city you have visited: \"\n",
        "prompt += \"\\(Enter 'quit' when you are finished.) \"\n",
        "\n",
        "while True:\n",
        "  city = input(prompt)\n",
        "\n",
        "  if city == 'quit':\n",
        "    break\n",
        "  else:\n",
        "    print(f\"I'd love to go to {city.title()}\")"
      ],
      "metadata": {
        "id": "rblgpfNUxIrS",
        "colab": {
          "base_uri": "https://localhost:8080/"
        },
        "outputId": "ec08619a-9b26-46de-c98d-4e9ed619311d"
      },
      "execution_count": null,
      "outputs": [
        {
          "name": "stdout",
          "output_type": "stream",
          "text": [
            "\n",
            "Please enter the name of the city you have visited: \\(Enter 'quit' when you are finished.) Islamabad\n",
            "I'd love to go to Islamabad\n",
            "\n",
            "Please enter the name of the city you have visited: \\(Enter 'quit' when you are finished.) Karachi\n",
            "I'd love to go to Karachi\n",
            "\n",
            "Please enter the name of the city you have visited: \\(Enter 'quit' when you are finished.) Lahore\n",
            "I'd love to go to Lahore\n",
            "\n",
            "Please enter the name of the city you have visited: \\(Enter 'quit' when you are finished.) quit\n"
          ]
        }
      ]
    },
    {
      "cell_type": "markdown",
      "source": [
        "####<font color='blue'>*Using continue in a Loop*</font>\n",
        "<font color='blue'>counting.py</font>"
      ],
      "metadata": {
        "id": "aY9dU5miA7uE"
      }
    },
    {
      "cell_type": "markdown",
      "source": [
        "We can use `continue statement` to return to the top of the loop based on a conditional test. \n",
        "\n",
        "- If the conditional test causes a return to the top of the loop, the remaining statements in the body of the loop are not executed for the current iteration of the loop.  \n",
        "\n",
        "- For the following iterations, they might be executed, depending on the conditional test."
      ],
      "metadata": {
        "id": "fJalIpHaCKic"
      }
    },
    {
      "cell_type": "code",
      "source": [
        "# The loops counts from 1 to 10\n",
        "# but prints only odd number\n",
        "\n",
        "current_number = 0\n",
        "\n",
        "while current_number < 10:\n",
        "  current_number += 1\n",
        "  if current_number % 2 ==0:\n",
        "    continue\n",
        "  \n",
        "  print(current_number)"
      ],
      "metadata": {
        "colab": {
          "base_uri": "https://localhost:8080/"
        },
        "id": "y1reKalA-hqA",
        "outputId": "782365db-de1c-4c8e-d542-28dbe8b2de6a"
      },
      "execution_count": null,
      "outputs": [
        {
          "output_type": "stream",
          "name": "stdout",
          "text": [
            "1\n",
            "3\n",
            "5\n",
            "7\n",
            "9\n"
          ]
        }
      ]
    },
    {
      "cell_type": "markdown",
      "source": [
        "####<font color='blue'>*Avoiding Infinite Loops*</font>\n",
        "\n",
        "Every programmer writes infinite `while` loops from time to time by mistake. To stop an infinite `while` loop:\n",
        "\n",
        "> **Right-click with your mouse in the code cell, and select <font color='red'>`interrupt execution`</font> from the menu that appears**. The execuion will stop.\n",
        "\n",
        "> You many want to Delete the output cell afterwards ❌\n",
        "\n",
        "The example below will continue printing 1 forever unless the execution is interupted. "
      ],
      "metadata": {
        "id": "YBPQj7ldE7_2"
      }
    },
    {
      "cell_type": "code",
      "source": [
        "# An example of an infinite while loop. \n",
        "# TERMINATE IT WITH CTRL-M\n",
        "\n",
        "x = 1\n",
        "while x <= 5:\n",
        "  print(x)"
      ],
      "metadata": {
        "id": "tJp7435JEvX3"
      },
      "execution_count": null,
      "outputs": []
    },
    {
      "cell_type": "markdown",
      "source": [
        "## **Using a while Loop with Lists and Dictionaries**\n",
        "\n",
        "<font color='blue'>confirmed_users.py</font>\n",
        "\n",
        "When we need to keep track of many users and pieces of information, we'll need to use the `while` loop with lists and dictionaries."
      ],
      "metadata": {
        "id": "SDH6fMVWOR3x"
      }
    },
    {
      "cell_type": "markdown",
      "source": [
        "####<font color='blue'>*Moving Items from One List to Another*</font>\n",
        "There is a list of newly registered (but unverified) users. How we can move them to a separate list of confirmed users?\n",
        "\n",
        "1. Create a list of unconfirmed users \n",
        "2. Create an empty list of confirmed users\n",
        "3. Confirm the users one by one:\n",
        " - Use `.pop()` function to return a value (*user-name*) popped from the unconfirmed users list \n",
        " - Assign the popped value (*user-name*) to a variable called current user, \n",
        " - verify user (ie print message \"Verifying user: *user-name*\")\n",
        "\n",
        "\n",
        "4. `append()` current user to the confirmed users list\n",
        "5. Repeat the process *while* there are users in the unconformed users list.  A `while` loop will do the job."
      ],
      "metadata": {
        "id": "-aSLJlrNc-k7"
      }
    },
    {
      "cell_type": "code",
      "source": [
        "# Creating a list of unconfiormed users and an empty list of confirmed users\n",
        "unconfirmed_users = ['alice', 'brian', 'candace']\n",
        "confirmed_users = []\n",
        "\n",
        "# conform users and move them into conformed users list\n",
        "#       continue this *while* there are users in unconfirmed users list\n",
        "while unconfirmed_users:\n",
        "  current_user = unconfirmed_users.pop()   # returns a user_name\n",
        "\n",
        "  print(f\"Verifying user: {current_user.title()}\")\n",
        "  confirmed_users.append(current_user)\n",
        "\n",
        "# Display all confirmed users\n",
        "print(f\"\\nThe following users have been confirmed: \")\n",
        "for confirmed_user in confirmed_users:\n",
        "  print({confirmed_user.title()})"
      ],
      "metadata": {
        "colab": {
          "base_uri": "https://localhost:8080/"
        },
        "id": "fKq_imGfHQA5",
        "outputId": "d144fda9-2f2a-45bd-d5c6-edfb3609092e"
      },
      "execution_count": null,
      "outputs": [
        {
          "output_type": "stream",
          "name": "stdout",
          "text": [
            "Verifying user: Candace\n",
            "Verifying user: Brian\n",
            "Verifying user: Alice\n",
            "\n",
            "The following users have been confirmed: \n",
            "{'Candace'}\n",
            "{'Brian'}\n",
            "{'Alice'}\n"
          ]
        }
      ]
    },
    {
      "cell_type": "markdown",
      "source": [
        "####<font color='blue'>*Removing All Instances of Specific Values from a List*</font>\n",
        "\n",
        "<font color='blue'>pets.py</font>"
      ],
      "metadata": {
        "id": "WaxKw4Tc3B-C"
      }
    },
    {
      "cell_type": "markdown",
      "source": [
        "Suppose 'cat' appears several times in a pets list, and we want to remove all instances of 'cat' from the list. `remove()` function will remove only one instance. We need `while` loop, which will keep removing 'cat' untill there are no more 'cat' elements in the list."
      ],
      "metadata": {
        "id": "w-795xrK4LPa"
      }
    },
    {
      "cell_type": "code",
      "source": [
        "# remove() function does not remove multiple instance of 'cat' from list\n",
        "pets = ['dog', 'cat', 'dog', 'goldfish', 'cat', 'rabbit', 'cat']\n",
        "pets.remove('cat')\n",
        "\n",
        "print(\"Cats_remain_in_the_list:  \", pets)"
      ],
      "metadata": {
        "colab": {
          "base_uri": "https://localhost:8080/"
        },
        "id": "ZS0Gh0Mz9A9R",
        "outputId": "8c3b73b6-9fb4-4640-970b-e9e3d3c8c773"
      },
      "execution_count": null,
      "outputs": [
        {
          "output_type": "stream",
          "name": "stdout",
          "text": [
            "Cats_remain_in_the_list:   ['dog', 'dog', 'goldfish', 'cat', 'rabbit', 'cat']\n"
          ]
        }
      ]
    },
    {
      "cell_type": "code",
      "source": [
        "# printing pets list\n",
        "pets = ['dog', 'cat', 'dog', 'goldfish', 'cat', 'rabbit', 'cat']\n",
        "print(\"Full pets list:  \", pets)\n",
        "\n",
        "# removing 'cat' elements one-by-one from pets list\n",
        "#       This process to continue until not more 'cat' elements in pets list\n",
        "#       Use while loop\n",
        "\n",
        "while 'cat' in pets:\n",
        "  pets.remove('cat')\n",
        "\n",
        "print(\"\\nSans cats: \", pets)"
      ],
      "metadata": {
        "colab": {
          "base_uri": "https://localhost:8080/"
        },
        "id": "OHTPJUHF2Tl2",
        "outputId": "a19d32ed-626a-407c-8470-d5d1b86bb918"
      },
      "execution_count": null,
      "outputs": [
        {
          "output_type": "stream",
          "name": "stdout",
          "text": [
            "Full pets list:   ['dog', 'cat', 'dog', 'goldfish', 'cat', 'rabbit', 'cat']\n",
            "\n",
            "Sans cats:  ['dog', 'dog', 'goldfish', 'rabbit']\n"
          ]
        }
      ]
    },
    {
      "cell_type": "markdown",
      "source": [
        "####<font color='blue'>*Filling a Dectionary with User Input*</font>\n"
      ],
      "metadata": {
        "id": "X_y7ucRL-O5m"
      }
    },
    {
      "cell_type": "code",
      "source": [
        "# create an empty dictionary \n",
        "responses = {}                \n",
        "\n",
        "# set flag to indicate that polling is active\n",
        "polling_active = True\n",
        "\n",
        "# Set up a while loop:\n",
        "#     asks person's name\n",
        "#     gets response to a question\n",
        "#     stores response in the dictionary => responses\n",
        "#     asks if polling should continue\n",
        "\n",
        "while polling_active:\n",
        "  name = input(\"\\nWhat is your name? \")\n",
        "  response = input(\"Which mountain would you like to climb? \")\n",
        "\n",
        "\n",
        "# store person's response in a dictionary\n",
        "  responses[name] = response \n",
        "\n",
        "# Find if anyone else is going to take the poll\n",
        "  repeat = input(\"Would you like another person to respond \")\n",
        "  if repeat == 'no':\n",
        "    polling_active = False\n",
        "\n"
      ],
      "metadata": {
        "colab": {
          "base_uri": "https://localhost:8080/"
        },
        "id": "tH6ctNos5yzO",
        "outputId": "72da1477-99af-4488-e801-b5dd9a2d561f"
      },
      "execution_count": null,
      "outputs": [
        {
          "name": "stdout",
          "output_type": "stream",
          "text": [
            "\n",
            "What is your name? Khalid\n",
            "Which mountain would you like to climb? K2\n",
            "Would you like another person to respond yes\n",
            "\n",
            "What is your name? Jim\n",
            "Which mountain would you like to climb? Mount McKinley\n",
            "Would you like another person to respond yes\n",
            "\n",
            "What is your name? Shusma\n",
            "Which mountain would you like to climb? Mount Everest\n",
            "Would you like another person to respond no\n"
          ]
        }
      ]
    },
    {
      "cell_type": "code",
      "source": [
        "# Display poll results  -- ie. print dictionary\n",
        "#   The function items() list with all dictionary keys and values\n",
        "#         when called on a dictionary\n",
        "\n",
        "print(\"\\n   ---- Poll Results ---- \")\n",
        "\n",
        "for name, response in responses.items():\n",
        "  print(f\"{name.title()} would like to climb {response}.\")\n",
        "\n"
      ],
      "metadata": {
        "colab": {
          "base_uri": "https://localhost:8080/"
        },
        "id": "EIAPj9umD5jo",
        "outputId": "3183df31-779a-4fda-de06-6df7292d8493"
      },
      "execution_count": null,
      "outputs": [
        {
          "output_type": "stream",
          "name": "stdout",
          "text": [
            "\n",
            "   ---- Poll Results ---- \n",
            "Khalid would like to climb K2.\n",
            "Jim would like to climb Mount McKinley.\n",
            "Shusma would like to climb Mount Everest.\n"
          ]
        }
      ]
    },
    {
      "cell_type": "code",
      "source": [],
      "metadata": {
        "id": "NrQzvBSpJt0g"
      },
      "execution_count": null,
      "outputs": []
    }
  ]
}