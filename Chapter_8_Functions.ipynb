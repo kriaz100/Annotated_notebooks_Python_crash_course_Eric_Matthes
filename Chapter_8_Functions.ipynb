{
  "nbformat": 4,
  "nbformat_minor": 0,
  "metadata": {
    "colab": {
      "provenance": [],
      "mount_file_id": "1C-3iMkHkXkfHzvp1YflqrpUN7UHkV481",
      "authorship_tag": "ABX9TyOjbkirEmW82oMaNJd3iAPr",
      "include_colab_link": true
    },
    "kernelspec": {
      "name": "python3",
      "display_name": "Python 3"
    },
    "language_info": {
      "name": "python"
    }
  },
  "cells": [
    {
      "cell_type": "markdown",
      "metadata": {
        "id": "view-in-github",
        "colab_type": "text"
      },
      "source": [
        "<a href=\"https://colab.research.google.com/github/kriaz100/Python_crash_course_notebooks/blob/main/Chapter_8_Functions.ipynb\" target=\"_parent\"><img src=\"https://colab.research.google.com/assets/colab-badge.svg\" alt=\"Open In Colab\"/></a>"
      ]
    },
    {
      "cell_type": "markdown",
      "source": [
        "---\n",
        "<font color='blue'>*Crash Course in Python*</font>\n",
        ">  # <font color='darkblue'>**Chapter 8: Functions**</font>\n",
        "\n",
        "---\n"
      ],
      "metadata": {
        "id": "g_RJeipRbDqj"
      }
    },
    {
      "cell_type": "markdown",
      "source": [
        "###<font color='blue'>***Defining a Function***</font>\n",
        "<font color='blue'>*greeter.py*</font>"
      ],
      "metadata": {
        "id": "vzfPr_D6KiUL"
      }
    },
    {
      "cell_type": "code",
      "execution_count": null,
      "metadata": {
        "id": "SJ5yH9HrKhUM",
        "colab": {
          "base_uri": "https://localhost:8080/"
        },
        "outputId": "bd7b2780-ac4d-4802-841a-c2d4f231aada"
      },
      "outputs": [
        {
          "output_type": "stream",
          "name": "stdout",
          "text": [
            "Hello!\n"
          ]
        }
      ],
      "source": [
        "def greet_user():\n",
        "  \"\"\"Display a simple greeting\"\"\"\n",
        "  print(\"Hello!\")\n",
        "\n",
        "greet_user()"
      ]
    },
    {
      "cell_type": "markdown",
      "source": [
        "####<font color='blue'>*Passing Information to a Function*</font>\n",
        "\n",
        "> Indented block\n",
        "\n"
      ],
      "metadata": {
        "id": "_VrhbF6OAJNP"
      }
    },
    {
      "cell_type": "code",
      "source": [
        "def greet_user(username):\n",
        "  \"\"\"Display a simple greeting\"\"\"\n",
        "  print(f\"Hello, {username}\")\n",
        "\n",
        "greet_user('Jim!') "
      ],
      "metadata": {
        "colab": {
          "base_uri": "https://localhost:8080/"
        },
        "id": "svZOgt4J_yFm",
        "outputId": "90cca691-fa15-4533-faf4-4d14876796ff"
      },
      "execution_count": null,
      "outputs": [
        {
          "output_type": "stream",
          "name": "stdout",
          "text": [
            "Hello, Jim!\n"
          ]
        }
      ]
    },
    {
      "cell_type": "markdown",
      "source": [
        "####<font color='blue'>*Arguments and Parameters*</font>"
      ],
      "metadata": {
        "id": "bEC_g3PVjb_S"
      }
    },
    {
      "cell_type": "markdown",
      "source": [
        "<font color= 'maroon'>In the above example, `username` is a **parameter**, and its value (i.e. \"Jim!\") is an **argument**. Some people use these interchangeably</font>.\n",
        "\n",
        "<font color= 'maroon'>The argument \"Jim!\" was passed to the function `greet_user()`</font>"
      ],
      "metadata": {
        "id": "WOv6cUmzU2VF"
      }
    },
    {
      "cell_type": "markdown",
      "source": [
        "###<font color='blue'>***Passing Arguments***</font>\n",
        "Arguments can be passed to functions in several ways:\n",
        "- *Positional arguments*: the order (or position) must be preserved\n",
        "- *Ketword arguments*:   the function is passed name-value pairs\n",
        "- *Default values*:   You can define default value for each parameter.\n",
        "- *Equivalent function calls*:   You can combine positional argumenys, keyword arguments, and default values together. Often you will have several equivalentways to call a function. "
      ],
      "metadata": {
        "id": "ov_2n5yOjxgs"
      }
    },
    {
      "cell_type": "markdown",
      "source": [
        "####<font color='blue'>*Positional Arguments*</font>\n",
        "\n",
        "<font color='blue'>*pets.py*</font>"
      ],
      "metadata": {
        "id": "oD6ox_sKaHVF"
      }
    },
    {
      "cell_type": "code",
      "source": [
        "# Positional arguments\n",
        "\n",
        "def describe_pet(animal_type, pet_name):\n",
        "  \"\"\"Display information about a pet\"\"\"\n",
        "  print(f\"\\nI have a {animal_type}.\")\n",
        "  print(f\"My {animal_type}'s name is {pet_name.title()}.\")\n",
        "\n",
        "describe_pet('cat', 'luna')   # order of arguments same as the order as parameters in fun def."
      ],
      "metadata": {
        "id": "Xdy-El72AEjD",
        "colab": {
          "base_uri": "https://localhost:8080/"
        },
        "outputId": "3fbd2169-0ee3-487d-a08e-15ae72115573"
      },
      "execution_count": null,
      "outputs": [
        {
          "output_type": "stream",
          "name": "stdout",
          "text": [
            "\n",
            "I have a cat.\n",
            "My cat's name is Luna.\n"
          ]
        }
      ]
    },
    {
      "cell_type": "code",
      "source": [
        "# Multiple function calls\n",
        "describe_pet('dog', 'willie')\n",
        "describe_pet('hamster', 'harry')"
      ],
      "metadata": {
        "colab": {
          "base_uri": "https://localhost:8080/"
        },
        "id": "EO9_HEeEbRom",
        "outputId": "639ade99-4041-4772-a59d-45f5bbfa1d7d"
      },
      "execution_count": null,
      "outputs": [
        {
          "output_type": "stream",
          "name": "stdout",
          "text": [
            "\n",
            "I have a dog.\n",
            "My dog's name is Willie.\n",
            "\n",
            "I have a hamster.\n",
            "My hamster's name is Harry.\n"
          ]
        }
      ]
    },
    {
      "cell_type": "code",
      "source": [
        "# Order matters for positional arguments\n",
        "#    unexpected results if order mixed up\n",
        "\n",
        "describe_pet('harry', 'hamster')"
      ],
      "metadata": {
        "colab": {
          "base_uri": "https://localhost:8080/"
        },
        "id": "9RU0hZajcp5k",
        "outputId": "14c8e2f1-3b03-4754-d772-a10937f179b6"
      },
      "execution_count": null,
      "outputs": [
        {
          "output_type": "stream",
          "name": "stdout",
          "text": [
            "\n",
            "I have a harry.\n",
            "My harry's name is Hamster.\n"
          ]
        }
      ]
    },
    {
      "cell_type": "markdown",
      "source": [
        "####<font color='blue'>*Keyword Arguments*</font>\n",
        "The arguments passed to the function are name-value pairs.\n",
        "\n",
        "> Example:   `animal_type = 'hamster'`,  `pet_name = 'harry'`"
      ],
      "metadata": {
        "id": "U8_lxCdJhxfI"
      }
    },
    {
      "cell_type": "code",
      "source": [
        "describe_pet(animal_type='hamster', pet_name='harry')"
      ],
      "metadata": {
        "colab": {
          "base_uri": "https://localhost:8080/"
        },
        "id": "N7ILKAvkhL2L",
        "outputId": "a480ad63-7f60-482a-f557-0a2b16c40d85"
      },
      "execution_count": null,
      "outputs": [
        {
          "output_type": "stream",
          "name": "stdout",
          "text": [
            "\n",
            "I have a hamster.\n",
            "My hamster's name is Harry.\n"
          ]
        }
      ]
    },
    {
      "cell_type": "markdown",
      "source": [],
      "metadata": {
        "id": "nopUIfqJjYFr"
      }
    },
    {
      "cell_type": "markdown",
      "source": [
        "####<font color='blue'>*Default Values*</font>\n",
        "Default values can be provided for each parameter.  \n",
        "\n",
        "- Python uses *argument value*, if it is provided in the function call. If not, it uses *parameter's default value*.\n",
        "\n",
        "- If default value is provide,  you can exclude the corresponding argument from the function call. This simplifies the function calls.\n",
        "\n",
        "- <font color='darkblue'>**Important:** When you use default values, any parameter with a default value needs to be listed after all the parameters that don't have default values. This allows Python to continue to interpret positional arguments correctly.\n",
        "</font>  \n"
      ],
      "metadata": {
        "id": "1OIqLcZmjYo_"
      }
    },
    {
      "cell_type": "code",
      "source": [
        "# Specifyingdefault value\n",
        "#   animal_type = 'dog'\n",
        "\n",
        "def describe_pet(pet_name, animal_type='dog'):\n",
        "  \"\"\"Display information about a pet\"\"\"\n",
        "  print(f\"\\nI have a {animal_type}.\")\n",
        "  print(f\"My {animal_type}'s name is {pet_name.title()}.\")\n",
        "\n",
        "# making the function call\n",
        "describe_pet('Jack')"
      ],
      "metadata": {
        "colab": {
          "base_uri": "https://localhost:8080/"
        },
        "id": "mL6fLXmNlDJ5",
        "outputId": "7f347c6a-9040-4c4f-c8a4-954dd97467be"
      },
      "execution_count": null,
      "outputs": [
        {
          "output_type": "stream",
          "name": "stdout",
          "text": [
            "\n",
            "I have a dog.\n",
            "My dog's name is Jack.\n"
          ]
        }
      ]
    },
    {
      "cell_type": "markdown",
      "source": [
        "You can still override the default value.\n",
        "\n",
        "To describe an animal other than the dog (default), you can specify `animal_type=` in the function call as shown below."
      ],
      "metadata": {
        "id": "wViRtDVVqCE-"
      }
    },
    {
      "cell_type": "code",
      "source": [
        "describe_pet(pet_name='willie', animal_type='hamster')"
      ],
      "metadata": {
        "colab": {
          "base_uri": "https://localhost:8080/"
        },
        "id": "locTrvhBlk3s",
        "outputId": "cdd54bab-37c5-47cc-ed1b-1ad59369dfbc"
      },
      "execution_count": null,
      "outputs": [
        {
          "output_type": "stream",
          "name": "stdout",
          "text": [
            "\n",
            "I have a hamster.\n",
            "My hamster's name is Willie.\n"
          ]
        }
      ]
    },
    {
      "cell_type": "markdown",
      "source": [
        "####<font color='blue'>*Equivalent function calls*</font>\n",
        "Because positional arguments, keyword arguments, and default values can be used together, often you'll have several equivalent way to call a function.\n",
        "\n",
        "Consider the following function definition:\n",
        "\n",
        "\n",
        ">  `def describe_pet(pet_name, animal_type='dog')`\n",
        "\n",
        "This function can be called in several equivalent ways\n",
        "\n",
        "- A dog named Willie\n",
        "\n",
        " - `describe_pet('willie')`\n",
        "\n",
        " - `describe_pet(pet_name='willie')`\n",
        "\n",
        "- A hamster named Harry (the default animal_type is 'dog')\n",
        "  - `describe_pet('harry', 'hamster')`\n",
        "  - `describe_pet(pet_name='harry', animal_type='hamster')`\n",
        "  - `describe_pet(animal_type='hamster', pet_name='harry')`\n",
        "\n"
      ],
      "metadata": {
        "id": "Alxve8jE0ZAy"
      }
    },
    {
      "cell_type": "markdown",
      "source": [
        "####<font color='blue'>*Avoiding Argument Errors*</font>\n",
        "\n",
        "Dont be surprised if you encounter errors about unmatched arguments when you start to implement functions.\n",
        "\n",
        "Here's an example in the cell below.\n",
        "\n",
        "We dont pass any arguments to the `describe_pet()` function. Note the erros\n",
        "\n"
      ],
      "metadata": {
        "id": "4Qwh5bDDSUqk"
      }
    },
    {
      "cell_type": "code",
      "source": [
        "# missing function arguments -- generates errors\n",
        "describe_pet()"
      ],
      "metadata": {
        "id": "Oj5pRgfmS6VJ"
      },
      "execution_count": null,
      "outputs": []
    },
    {
      "cell_type": "markdown",
      "source": [
        "###<font color='blue'>***Return Values***</font>\n",
        ">Function dont always display output. They can return a value or a set of values. These are called <font color ='seablue'>*return values.*</font>\n",
        "\n",
        ">The `return` statement can take the value from inside a function and send it back to the line that called the function\n",
        "\n",
        ">This allows moving much of the grunt work to functions, simplifying the body of the program.\n",
        "\n",
        "\n",
        "\n"
      ],
      "metadata": {
        "id": "-CJKj7SUTRgJ"
      }
    },
    {
      "cell_type": "markdown",
      "source": [
        "####<font color='blue'>*Returning a Simple Value*</font>"
      ],
      "metadata": {
        "id": "Smj8opNDSFwP"
      }
    },
    {
      "cell_type": "code",
      "source": [
        "def get_formatted_name(first_name, last_name):\n",
        "  \"\"\"Return full name, neatly formatted \"\"\"\n",
        "  full_name =f\"{first_name} {last_name}\"\n",
        "  return full_name.title()\n",
        "\n",
        "musician = get_formatted_name('jimi', 'hendrix')\n",
        "print(musician)"
      ],
      "metadata": {
        "colab": {
          "base_uri": "https://localhost:8080/"
        },
        "id": "vY1p3aTBQPKf",
        "outputId": "c20be2b7-78c9-4118-d255-a2a44d7f9131"
      },
      "execution_count": null,
      "outputs": [
        {
          "output_type": "stream",
          "name": "stdout",
          "text": [
            "Jimi Hendrix\n"
          ]
        }
      ]
    },
    {
      "cell_type": "markdown",
      "source": [
        "####<font color='blue'>*Making an Argument Optional*</font>\n",
        "- Sometimes we want to provide the felexibility that the user may provide some information only if they want to. For example, they may provide middle name or not. So middle name is an ***optional argument***.\n",
        "\n",
        "- The code below implements the `get_formatted_name`function with optional argument.\n",
        "\n",
        " > Specifically, `middle_name= \" \"` parameter is introduced with a space as its default value. Because the arguments passed over-ride default values, if the user passes an actual middle name when calling the function, it will over-ride the default.\n",
        " \n",
        " > The function uses flow control to conditionally format `middle_name`, if provided, as a part of `full_name`. \n",
        "\n",
        "<font color= 'maroon'>**Note:** If the optional argument is numeric, you cannot use \" \" (space). In that case, assign the parameter the special value **`None`**.  See $\\text{Returning a Dictionary}$ section below. An optional argument `age = None` is added to the function</font>"
      ],
      "metadata": {
        "id": "F67qb1PbSo2F"
      }
    },
    {
      "cell_type": "code",
      "source": [
        "def get_formatted_name(first_name, last_name, middle_name =\" \"):\n",
        "  if middle_name:\n",
        "    full_name = f\"{first_name} {middle_name} {last_name}\"\n",
        "  else:\n",
        "    full_name =f\"{first_name} {last_name}\"\n",
        "  return full_name.title()\n",
        "\n",
        "musician = get_formatted_name('john', 'hooker', 'lee')\n",
        "print(musician)\n",
        "\n",
        "musician = get_formatted_name('jimi', 'hendrix') \n",
        "print(musician)"
      ],
      "metadata": {
        "colab": {
          "base_uri": "https://localhost:8080/"
        },
        "id": "IJfVMhw4RKQK",
        "outputId": "9b2fc187-a2d5-4462-baca-d1950f9403c3"
      },
      "execution_count": null,
      "outputs": [
        {
          "output_type": "stream",
          "name": "stdout",
          "text": [
            "John Lee Hooker\n",
            "Jimi   Hendrix\n"
          ]
        }
      ]
    },
    {
      "cell_type": "markdown",
      "source": [
        "####<font color='blue'>*Returning a Dictionary*</font>\n",
        "\n",
        "<font color='blue'>person.py</font>"
      ],
      "metadata": {
        "id": "PAk2RoeYZinB"
      }
    },
    {
      "cell_type": "markdown",
      "source": [
        "A function can return more complicated data structures, inlcuding disctionaries and lists\n",
        "\n",
        "In the example below, the functions puts together, and returns, a dictionary from the information in the arguments passed to it. "
      ],
      "metadata": {
        "id": "JPmOHg9Wl1Y_"
      }
    },
    {
      "cell_type": "code",
      "source": [
        "# Function creates and returns a dictionary\n",
        "def build_person(first_name, last_name):\n",
        "  \"\"\"Return a dictionary of information about a person\"\"\"\n",
        "  person ={'first': first_name, 'last':last_name}\n",
        "  return person\n",
        "\n",
        "musician = build_person('jimi', 'hendrix')\n",
        "print(musician)"
      ],
      "metadata": {
        "colab": {
          "base_uri": "https://localhost:8080/"
        },
        "id": "_FCzk0Dgj_nx",
        "outputId": "8d02667e-c231-4e55-e853-814dde3c47f7"
      },
      "execution_count": null,
      "outputs": [
        {
          "output_type": "stream",
          "name": "stdout",
          "text": [
            "{'first': 'jimi', 'last': 'hendrix'}\n"
          ]
        }
      ]
    },
    {
      "cell_type": "markdown",
      "source": [
        "The function below accepts an optional parameter `age` and returns a dictionary. The parameter is assigned a special value `age=None`, that evaluates to `False`.  As shown below, this allows conditionally adding information regarding age to the dictionary, depending on whether or not the optional age information is supplied by the user."
      ],
      "metadata": {
        "id": "kXPeW9gJslnn"
      }
    },
    {
      "cell_type": "code",
      "source": [
        "# Conditional on age information being provided:\n",
        "#   assign value of age parameter to dictionary key 'age'\n",
        "\n",
        "def build_person(first_name, last_name, age=None):\n",
        "  person = {'first': first_name, 'last': last_name}\n",
        "\n",
        "  if age:\n",
        "    person['age'] = age  # assigns value of age parameter to dict key 'age' \n",
        "  return person\n",
        "\n",
        "musician =build_person('jimi', 'hendrix', age=27)\n",
        "print(musician)"
      ],
      "metadata": {
        "id": "xgYfxPZq-bBQ",
        "colab": {
          "base_uri": "https://localhost:8080/"
        },
        "outputId": "a3b513e5-4591-4747-980e-59bf9d150cec"
      },
      "execution_count": null,
      "outputs": [
        {
          "output_type": "stream",
          "name": "stdout",
          "text": [
            "{'first': 'jimi', 'last': 'hendrix', 'age': 27}\n"
          ]
        }
      ]
    },
    {
      "cell_type": "markdown",
      "source": [
        "####<font color='blue'>*Using a Function with a while Loop*</font>\n",
        "\n",
        "- As before,  the `get_formatted_name()` function  formats user's full name, by using information on  the first and last names. \n",
        "- However, we also implement a `while` loop that repeatedly prompts the users for their first and last names, until a user types `quit` ('q'). \n",
        "- The `while` loop, therefore, has built-in flow control that  causes exit from the loop by conditionally executing a `break` statement. The user may type `quit`('q') in response to the prompt for the first or the last name.  "
      ],
      "metadata": {
        "id": "nfCAthPYvHV_"
      }
    },
    {
      "cell_type": "code",
      "source": [
        "def get_formatted_name(first_name, last_name):\n",
        "  full_name = f\"{first_name} {last_name}\"\n",
        "  return full_name.title()\n",
        "\n",
        "# set up the while loop to prompt new users for name (or typing quit)\n",
        "while True:\n",
        "  print(\"\\nPlease tell me your name: \")\n",
        "  print(\"(enter 'quit' any time to quit)\")\n",
        "  \n",
        "  f_name =input(\"First name: \")\n",
        "  if f_name =='q':\n",
        "    break\n",
        "\n",
        "  l_name =input(\"Last_name: \")\n",
        "  if l_name =='q':\n",
        "    break\n",
        "\n",
        "# call the function that formats full name\n",
        "  formatted_name = get_formatted_name(f_name, l_name)\n",
        "\n",
        "# Use formatted full name in greeting msg\n",
        "  print(f\"\\nHello {formatted_name}!\")\n",
        "\n"
      ],
      "metadata": {
        "colab": {
          "base_uri": "https://localhost:8080/"
        },
        "id": "w5hqWidQxTc8",
        "outputId": "278e16c2-3264-40c3-934e-faf78236de6f"
      },
      "execution_count": null,
      "outputs": [
        {
          "name": "stdout",
          "output_type": "stream",
          "text": [
            "\n",
            "Please tell me your name: \n",
            "(enter 'quit' any time to quit)\n",
            "First name: Tom\n",
            "Last_name: Wahl\n",
            "\n",
            "Hello Tom Wahl!\n",
            "\n",
            "Please tell me your name: \n",
            "(enter 'quit' any time to quit)\n",
            "First name: q\n"
          ]
        }
      ]
    },
    {
      "cell_type": "markdown",
      "source": [
        "###<font color ='blue'>***Passing a List***</font>\n",
        "\n",
        "<font color='blue'>greet_users.py</font>"
      ],
      "metadata": {
        "id": "sGcTTvkcpLdn"
      }
    },
    {
      "cell_type": "markdown",
      "source": [
        "In the previous section, we worked with return values of the functions (the elements of the *range* of the function).\n",
        "\n",
        "In this section, we will work with the *domain* of the function, in particular, we will learn that we can:\n",
        "- Pass lists as arguments to the function \n",
        "- Modify the lists passed to the function (permanent modifications) \n",
        "- In case we don't want to permanently modify the list, we can prevent the function from modifying it by passing a copy instead of the original list."
      ],
      "metadata": {
        "id": "9YAK6R8lpyGb"
      }
    },
    {
      "cell_type": "code",
      "source": [
        "def greet_users(names):\n",
        "  \"\"\"Print a simple message to each user in the list\"\"\"\n",
        "  for name in names:\n",
        "    msg = f\"Hello, {name}\"\n",
        "    print(msg)\n",
        "\n",
        "user_names =['hannah', 'ty', 'margot']\n",
        "greet_users(user_names)\n"
      ],
      "metadata": {
        "colab": {
          "base_uri": "https://localhost:8080/"
        },
        "id": "RUGm_LYrrvVs",
        "outputId": "a0a57a69-c32a-4c7b-ad68-137a657c2f5a"
      },
      "execution_count": null,
      "outputs": [
        {
          "output_type": "stream",
          "name": "stdout",
          "text": [
            "Hello, hannah\n",
            "Hello, ty\n",
            "Hello, margot\n"
          ]
        }
      ]
    },
    {
      "cell_type": "markdown",
      "source": [
        "####<font color='blue'>*Modifying a List in a Function*</font>\n",
        "The changes made to the list inside a function body are **permanent**.\n",
        "\n",
        "><font color ='grey'>**Example:** Suppose a company creates 3D printed models of designs that users submit.  \n",
        "\n",
        ">It has a list of designs of objects that are to be 3D printed, `unprinted_designs`. As each objects gets printed, it is popped out of that list, and put into another list `completed_models`. Eventually, when all the designs get 3D printed, the list of `unprinted_designs` becomes empty. So this list gets *permanently modified*. The original list is not available anymore.</font>\n",
        "\n",
        "To implement the process in the example, we define two functions:\n",
        "  - The `print_models()` function simulates printing each object, and puts the completed models in a `completed_models` list. It continues doing this while there are objects in the `unprinted_designs` list.\n",
        "  - The `show_completed_models()` function that all the models that have been 3D printed."
      ],
      "metadata": {
        "id": "WdgsUN_SQze8"
      }
    },
    {
      "cell_type": "code",
      "source": [
        "# define print_model() function\n",
        "def print_models(unprinted_designs, completed_models):\n",
        "  while unprinted_designs:\n",
        "    \"\"\"\n",
        "    The pop() method removes and returns the last item from a list.\n",
        "    As the while loop iterates over the list, pop() continues removing and\n",
        "    returning the last items, until no items are left in the list. \n",
        "    \"\"\"\n",
        "    current_design = unprinted_designs.pop() \n",
        "    print(f\"The {current_design} is being printed\")\n",
        "    completed_models.append(current_design)\n",
        "\n",
        "# define function to put 3D printed objects in a list and print the list.\n",
        "def show_completed_models(completed_models):\n",
        "  print(\"\\nThe following models have been printed:\")\n",
        "  for completed_model in completed_models:\n",
        "    print(f\"{completed_model}\")\n",
        "\n",
        "# call print_model function\n",
        "unprinted_models = ['phone case', 'robot pendant', 'dodechaedron']\n",
        "completed_models =[]\n",
        "print_models(unprinted_models, completed_models)\n",
        "\n",
        "# call show_completed_models function\n",
        "show_completed_models(completed_models) "
      ],
      "metadata": {
        "id": "os619JfNH1jC",
        "colab": {
          "base_uri": "https://localhost:8080/"
        },
        "outputId": "4119fd3f-3947-4716-fe4d-adeffbe3d4f3"
      },
      "execution_count": null,
      "outputs": [
        {
          "output_type": "stream",
          "name": "stdout",
          "text": [
            "The dodechaedron is being printed\n",
            "The robot pendant is being printed\n",
            "The phone case is being printed\n",
            "\n",
            "The following models have been printed:\n",
            "dodechaedron\n",
            "robot pendant\n",
            "phone case\n"
          ]
        }
      ]
    },
    {
      "cell_type": "markdown",
      "source": [
        "####<font color='blue'>*Preventing a Function from Modifying a List*</font>\n",
        "\n",
        "Since lists get permanently modified within function, if we need the original list to remain intact, we should pass a copy of that list to the function instead of the original.\n",
        "\n",
        "- The succint way to pass a copy of the original list to the function is as follows:\n",
        "> `function_name(list_name[:] )`\n",
        "- In our example the code for the print_models() function will be  modified as follows:\n",
        "> `print_models(unprinted_designs[:], printed_models)`\n"
      ],
      "metadata": {
        "id": "39iu0XREKy6g"
      }
    },
    {
      "cell_type": "markdown",
      "source": [
        "###<font color='blue'>*Passing an Arbitrary Number of Arguments*</font>\n",
        "\n",
        "<font color='blue'>pizza.py</font>\n",
        "\n",
        "The python functions can be passed an arbutrary number of arguments by passing  **`*arg`**. This creates an empty tuple, which can be passed an arbitrary number of arguments when the function is called.\n",
        "\n",
        ">**Example:** Suppose we want a function that builds a pizza. The choice of toppings and their number could vary from one customer to the next. In this case we will just pass the function a `*toppings` argument.\n",
        "\n",
        "> This would allow the customers to choose any number of toppings when ordering the pizza. So when the function is called, it would have different number of arguments, depending on the order received."
      ],
      "metadata": {
        "id": "yRM0gSXOSpZH"
      }
    },
    {
      "cell_type": "code",
      "source": [
        "def make_pizza(*toppings):\n",
        "  \"\"\"Print the list of toppings\"\"\"\n",
        "  print(toppings)\n",
        "\n",
        "# call the function for different customers\n",
        "make_pizza('peperoni')\n",
        "make_pizza('mushrooms', 'green peppers', 'extra cheese')"
      ],
      "metadata": {
        "colab": {
          "base_uri": "https://localhost:8080/"
        },
        "id": "WgLFE9XcGhZY",
        "outputId": "4f6ba670-2918-4e4a-abb2-7cf45a94b5eb"
      },
      "execution_count": null,
      "outputs": [
        {
          "output_type": "stream",
          "name": "stdout",
          "text": [
            "('peperoni',)\n",
            "('mushrooms', 'green peppers', 'extra cheese')\n"
          ]
        }
      ]
    },
    {
      "cell_type": "markdown",
      "source": [
        "We can even loop over the elements of the tuple (of arbitrary length) created by **`*arg`**. \n",
        "\n",
        "Suppose, for example, we want to describe the pizza we are about to make. And this description involves listing its toppings in a nicely formatted manner. Here's how we go about it.\n"
      ],
      "metadata": {
        "id": "XdnsHgH3AN6U"
      }
    },
    {
      "cell_type": "code",
      "source": [
        "def make_pizza(*toppings):\n",
        "  \"\"\"Describing a pizza\"\"\"\n",
        "  print(\"\\nWe are making a pizza with the following toppings:\")\n",
        "  for topping in toppings:\n",
        "    print(f\"- {topping}\")        # individual items {toppings} being looped over\n",
        "\n",
        "make_pizza('peperoni')\n",
        "make_pizza('mushrooms', 'green pepper', 'extra cheese')"
      ],
      "metadata": {
        "colab": {
          "base_uri": "https://localhost:8080/"
        },
        "id": "JcWONR-X_jx4",
        "outputId": "b70dafde-e643-46e7-b046-6faeef920594"
      },
      "execution_count": null,
      "outputs": [
        {
          "output_type": "stream",
          "name": "stdout",
          "text": [
            "\n",
            "We are making a pizza with the following toppings:\n",
            "- peperoni\n",
            "\n",
            "We are making a pizza with the following toppings:\n",
            "- mushrooms\n",
            "- green pepper\n",
            "- extra cheese\n"
          ]
        }
      ]
    },
    {
      "cell_type": "markdown",
      "source": [
        "####<font color='blue'>*Mixing Positional and Arbitrary Arguments*</font>\n",
        "\n",
        "<font color='darkblue'>If mixing several different types of arguments, the parameter that accepts an arbitrary number of arguments must be placed last in the function definition.</font>\n"
      ],
      "metadata": {
        "id": "UbI3EB26OMsW"
      }
    },
    {
      "cell_type": "code",
      "source": [
        "def make_pizza(size, *toppings):\n",
        "  \"\"\"Describe pizza we are making - alongwith size and toppings\"\"\"\n",
        "  print(f\"\\nMaking a {size}-inch pizza with following toppings:\")\n",
        "  for topping in toppings:\n",
        "    print(f\"- {topping}\")\n",
        "\n",
        "make_pizza(12, 'peperoni')\n",
        "make_pizza(16, 'mushrooms', 'green pepper', 'black olives', 'extra cheese')"
      ],
      "metadata": {
        "id": "fjtszy60G-1c",
        "colab": {
          "base_uri": "https://localhost:8080/"
        },
        "outputId": "41ea5101-1c8d-44a7-cf61-15ee0ef06cf0"
      },
      "execution_count": null,
      "outputs": [
        {
          "output_type": "stream",
          "name": "stdout",
          "text": [
            "\n",
            "Making a 12-inch pizza with following toppings:\n",
            "- peperoni\n",
            "\n",
            "Making a 16-inch pizza with following toppings:\n",
            "- mushrooms\n",
            "- green pepper\n",
            "- black olives\n",
            "- extra cheese\n"
          ]
        }
      ]
    },
    {
      "cell_type": "markdown",
      "source": [
        "####<font color='blue'>*Using Arbitrary Keyword Arguments*</font> \n",
        "- Sometimes, you want the write a function that accepts an arbitrary number of *key-value pairs* becuase you are not sure what type of information will be passed. \n",
        "\n",
        "\n",
        ">**Example:** you want to build `user_profile` of users who register on a website. You know that you'll have user's `first` and `last` name. But there could be other user information, such as the user's `location` and `field`.\n",
        "\n",
        "- In this case, use a parameter for arbitrary keyword arguments. For this example, we choose the name `**user_info` for this parameter. Python will create an empty dictionary `user_info`, and pack all the key-value pairs the function receives into that dictionary. \n",
        "\n",
        "<font color='red'>You'll often see the parameter name ****** **kwargs** used to collect non-specific keyword arguments</font>\n",
        " "
      ],
      "metadata": {
        "id": "LLS4aukv0tvq"
      }
    },
    {
      "cell_type": "code",
      "source": [
        "def build_profile(first, last, **user_info):\n",
        "  \"\"\"Build a dictionary containing everything we know about user\"\"\"\n",
        "  user_info['first_name'] = first\n",
        "  user_info['last_name'] = last\n",
        "  return user_info\n",
        "\n",
        "# call the function build_profile. Note arguments location= and field=\n",
        "user_profile = build_profile('albert', 'einstine', \n",
        "                             location='princeton', \n",
        "                             field='physics')\n",
        "\n",
        "print(user_profile)\n",
        "\n"
      ],
      "metadata": {
        "colab": {
          "base_uri": "https://localhost:8080/"
        },
        "id": "jy_n76M8zhxa",
        "outputId": "0d75f8ce-afd5-4552-b9d4-48086b8c6726"
      },
      "execution_count": null,
      "outputs": [
        {
          "output_type": "stream",
          "name": "stdout",
          "text": [
            "{'location': 'princeton', 'field': 'physics', 'first_name': 'albert', 'last_name': 'einstine'}\n"
          ]
        }
      ]
    },
    {
      "cell_type": "markdown",
      "source": [
        "###<font color='blue'>**Storing Your Functions in Modules**</font>"
      ],
      "metadata": {
        "id": "8BgbgJ8PKrTG"
      }
    },
    {
      "cell_type": "markdown",
      "source": [
        "- Functions are separate block of code from the main program. \n",
        "\n",
        "- You can save them in a separate file called *module* and then import them into your main program through a **`import`** statement that tells python to make the code in the Module available to the currently running program file. \n",
        "\n",
        "**Advantages:**\n",
        "- Makes program more readible, and allows you to focus on the higher-level logic by abstracting away from the details.\n",
        "- Allows you to re-use same functions (modules) in many different programs\n",
        "- When you store your functions in separate files, you can share those files wih other programmers. They can import them into their programs.\n",
        "- Likewise, you can use in your own programs functions written and stored by other programmers, provided you learn how to import functions. "
      ],
      "metadata": {
        "id": "_K-nmnR7YtcC"
      }
    },
    {
      "cell_type": "markdown",
      "source": [
        "We want to put the code in the cell below and convert it to a python module `pizza.py`. See *How to Create a Python Module.ipynb* in colab notebooks folder on Goole Drive. \n",
        "\n",
        "The module has a `make_pizza()` function as shown below. The module will be imported in to the curent notebook and a function call made with `make_pizza()`"
      ],
      "metadata": {
        "id": "S9S0w6dYAh3-"
      }
    },
    {
      "cell_type": "markdown",
      "source": [
        "```\n",
        "def make_pizza(size, *toppings):\n",
        "  print(f\"\\nMaking a {size}-inch pizza with the following toppings:\")\n",
        "  for topping in toppings:\n",
        "    print(f\" - {topping}\")\n",
        "\n",
        "```\n",
        "\n"
      ],
      "metadata": {
        "id": "oBcAal-hD1eg"
      }
    },
    {
      "cell_type": "markdown",
      "source": [
        "<font color='red'>The above script has been saved in a python file **pizza.py**, and uploaded to **python_scripts** folder on **Google Drive**</font>"
      ],
      "metadata": {
        "id": "_K0hm3fx7TbB"
      }
    },
    {
      "cell_type": "markdown",
      "source": [
        "**Note, the Google Drive is already mounted**. We do not need to do it again.\n",
        "\n",
        "If the drive is NOT mounted, the following code should be run to mount it NOW. \n",
        "\n",
        "```\n",
        "# Mount your google drive in google colab\n",
        "from google.colab import drive\n",
        "drive.mount('/content/drive')\n",
        "```\n",
        "\n",
        "The Google Drive must be mounted prior to copying the module to working directory (next cell below)."
      ],
      "metadata": {
        "id": "jYhLLaB96TxB"
      }
    },
    {
      "cell_type": "code",
      "source": [
        "# copy the module to working directory \n",
        "!cp -r /content/drive/MyDrive/python_scripts /content"
      ],
      "metadata": {
        "id": "kajRb67LC60F"
      },
      "execution_count": null,
      "outputs": []
    },
    {
      "cell_type": "code",
      "source": [
        "# import pizza module from python_scripts folder\n",
        "from python_scripts.pizza import make_pizza"
      ],
      "metadata": {
        "id": "BBsBNd-S45D_"
      },
      "execution_count": null,
      "outputs": []
    },
    {
      "cell_type": "code",
      "source": [
        "# Make function call with imported function make_pizza()\n",
        "\n",
        "make_pizza(6, 'peperoni', 'green pepper', 'extra cheese')"
      ],
      "metadata": {
        "colab": {
          "base_uri": "https://localhost:8080/"
        },
        "id": "ZBHcZoUu5rgr",
        "outputId": "ccee682b-b745-4468-c4bb-4c6671c7654c"
      },
      "execution_count": null,
      "outputs": [
        {
          "output_type": "stream",
          "name": "stdout",
          "text": [
            "\n",
            "Making a 6-inch pizza with the following toppings:\n",
            " - peperoni\n",
            " - green pepper\n",
            " - extra cheese\n"
          ]
        }
      ]
    },
    {
      "cell_type": "markdown",
      "source": [
        "### **Summary: How to create a python module**\n",
        "\n",
        "1. **Write a python script i.e.  module (`pizza.py`) and upload it to Google Drive** folder'python_scripts'. This folder was created earlier to store all the python modules.\n",
        "\n",
        "2. **Mount the Google Drive** for the current colab notebook (to allow notebook to access files on the Drive).\n",
        "\n",
        "3. **Copy the python_scripts folder (yes, the whole folder!) to working directory**, which is '/content'\n",
        "\n",
        "4. **Import the function from the module**. The module is loacted in the python_scripts folder \n",
        "```\n",
        "from python_scripts.pizza import make_pizza\n",
        "```\n",
        "Note, `pizza` is the name of the module (as in `pizza.py`) and it has a function `make_pizza()`\n",
        "\n",
        "5. **Call the function** (`make_pizza`) -pass arguments."
      ],
      "metadata": {
        "id": "wcfO3GiB8_yg"
      }
    },
    {
      "cell_type": "markdown",
      "source": [
        "###<font color='blue'>*Importing Specific Functions*</font>\n",
        "The syntax is shown below"
      ],
      "metadata": {
        "id": "5RdVl9lMIgTP"
      }
    },
    {
      "cell_type": "markdown",
      "source": [
        "Import a specific function from a mudule\n",
        "```\n",
        "from module_name import function_name\n",
        "```\n",
        "Import many function from a module\n",
        "```\n",
        "from module_name import function_0, function_1, function_2\n",
        "```\n"
      ],
      "metadata": {
        "id": "5uAArSe4I69s"
      }
    },
    {
      "cell_type": "markdown",
      "source": [
        "###<font color='blue'>*Using `as` to Give Function an Alias*</font>\n",
        "The alias is given when the function is imported"
      ],
      "metadata": {
        "id": "ApP838MZJevs"
      }
    },
    {
      "cell_type": "code",
      "source": [
        "# Import function with alias\n",
        "from python_scripts.pizza import make_pizza as mp\n",
        "\n",
        "# Call function with alias\n",
        "mp(6, 'peperoni', 'green peppers', 'extra cheese')\n"
      ],
      "metadata": {
        "colab": {
          "base_uri": "https://localhost:8080/"
        },
        "id": "lP0el_SE6Dk4",
        "outputId": "cf74ee66-92e8-498f-e5f7-53ee01ea38f1"
      },
      "execution_count": null,
      "outputs": [
        {
          "output_type": "stream",
          "name": "stdout",
          "text": [
            "\n",
            "Making a 6-inch pizza with the following toppings:\n",
            " - peperoni\n",
            " - green peppers\n",
            " - extra cheese\n"
          ]
        }
      ]
    },
    {
      "cell_type": "markdown",
      "source": [
        "###<font color='blue'>*Using `as` to Give Module an Alias*</font>\n",
        "You can provide an alias for the module name also. The general syntax is\n",
        "```\n",
        "import module_name as mn\n",
        "```\n"
      ],
      "metadata": {
        "id": "9_hCnknLLGdd"
      }
    },
    {
      "cell_type": "code",
      "source": [
        "# Import module with alias\n",
        "from python_scripts import pizza as p\n",
        "\n",
        "# Call function from module with alias\n",
        "p.make_pizza(6, 'peperoni', 'green peppers', 'extra cheese')"
      ],
      "metadata": {
        "colab": {
          "base_uri": "https://localhost:8080/"
        },
        "id": "Hw-0sRZ_K8nm",
        "outputId": "1447a32c-67a2-4a29-ac9d-483d180ed263"
      },
      "execution_count": null,
      "outputs": [
        {
          "output_type": "stream",
          "name": "stdout",
          "text": [
            "\n",
            "Making a 6-inch pizza with the following toppings:\n",
            " - peperoni\n",
            " - green peppers\n",
            " - extra cheese\n"
          ]
        }
      ]
    },
    {
      "cell_type": "markdown",
      "source": [
        "###<font color='blue'>*Importing All Functions in a Module*</font>\n",
        "```\n",
        "from pizza import *\n",
        "```"
      ],
      "metadata": {
        "id": "CFrQ8sy4N6Tc"
      }
    },
    {
      "cell_type": "markdown",
      "source": [
        "###<font color='blue'>*Styling Functions*</font>\n",
        "\n",
        "Some styling good practices:\n",
        "- Functions should have descriptive name. These names should use lower case letters and underscores\n",
        "\n",
        "- Every function should have a docstring immediately after the function definition. The docstring should describe what the function does.\n",
        "\n",
        "- If you use default value of a parameter, no spaces shold be used on either side of the equal sign. The same convention applies to keyword arguments.\n",
        "\n",
        "- If a function definition is long (more then 79 characters) due to many parametere, then use the following format.\n",
        "```\n",
        "def function_name(\n",
        "        parameter_0, parameter_1, parameter_2\n",
        "        parameter_3, parameter_4, parameter_5)\n",
        "    function body ...\n",
        "```"
      ],
      "metadata": {
        "id": "w1c5psOlOQUh"
      }
    },
    {
      "cell_type": "code",
      "source": [],
      "metadata": {
        "id": "NH0sZKEqMord"
      },
      "execution_count": null,
      "outputs": []
    }
  ]
}