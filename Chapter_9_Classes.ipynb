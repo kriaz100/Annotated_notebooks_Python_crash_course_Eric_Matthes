{
  "nbformat": 4,
  "nbformat_minor": 0,
  "metadata": {
    "colab": {
      "provenance": [],
      "mount_file_id": "1BJThJlOHINz3jVctX4XilNktxUGc1Cwe",
      "authorship_tag": "ABX9TyP94jx7B991LXTqeH4kzTVS",
      "include_colab_link": true
    },
    "kernelspec": {
      "name": "python3",
      "display_name": "Python 3"
    },
    "language_info": {
      "name": "python"
    }
  },
  "cells": [
    {
      "cell_type": "markdown",
      "metadata": {
        "id": "view-in-github",
        "colab_type": "text"
      },
      "source": [
        "<a href=\"https://colab.research.google.com/github/kriaz100/Python_crash_course_notebooks/blob/main/Chapter_9_Classes.ipynb\" target=\"_parent\"><img src=\"https://colab.research.google.com/assets/colab-badge.svg\" alt=\"Open In Colab\"/></a>"
      ]
    },
    {
      "cell_type": "markdown",
      "source": [
        "---\n",
        " # <font color ='blue'>  **Chapter 9: Classes** </font>\n",
        "---\n",
        "<font color='blue'>*dog.py*</font>   "
      ],
      "metadata": {
        "id": "buqO7fP7xeT4"
      }
    },
    {
      "cell_type": "markdown",
      "source": [
        "\n",
        "**Object oriented programming (OOP)** is one of the most effective approaches for creating software. In OOP you write Classes that represent real world things and situations. \n",
        "\n",
        "A class named \"**Dog**\" can define \"objects\" that can be created with this class. No prizes for guessing what that these \"objects\" would be! \n",
        "\n",
        "- *Classes are blueprints of objects to be created:* The class can define what general charateristics or attributes the objects have. For example, the Dog class could define the attributes that dogs (in general) have, such as name and age. \n",
        "\n",
        "- *Instentiation:* Each dog is different, however. They have different names and ages. So when we talk about a particular dog, we are talking about the attributes of that particular dog. For example, the dog willie who is 6 years old. We say, that this is a particular **instance** of the Dog class.\n",
        "\n",
        "- *Each instance of the class is a different object.* My dog willie, 6 years of age, is a different object than your dog Lucy, which is 3 years old. So we can use the Dog class blueprint to create several dog objects which have the same general characteristics: name and age. But they have unique traits i.e. their names and ages are different.   \n",
        "\n",
        "To define a class, we use class statement where the `class` keyword is followed by class name. \n",
        "\n",
        "<font color='blue'>As a convention, the first letter of the class name is capitalized</font>. \n",
        "\n",
        "\n"
      ],
      "metadata": {
        "id": "-0yOdlWLnq5d"
      }
    },
    {
      "cell_type": "markdown",
      "source": [
        "#### The __ init() __ method\n",
        "- Methods are function defined inside a class. The `__ init() __`   is a special method that runs automatically when an instance of the class is created\n",
        "- The parameters of the `__ init() __` method for the Dog class created below are `self`, name, and age.\n",
        "- The **self** parameter is required in the` __ init() __` method definition, and it must come first before the other parameters. The self refers to the instance or the object created itself (like the Dog called 'willie', aged 6 years) . \n",
        "- When we create an instance of a class, the `__ init() __` method will be called, and the self parameter will be automatically passed, we have to provide the values of the other parameter only e.g. for the Dog class, we have to only supply the parameters `name` and `age`. For eaxmple,  Dog('Willie', 6). \n",
        "- The equations `self.name = name` and `self.age = age` define two variables (self.name and self.age) that are assigned values of parameters passed while creating a particular instance of the class. The RHS represents the parameter whose value is supplied when creating a particular instance e.g Dog('willie' 6).\n",
        "- <font color='blue'>The self.xxx variables are available to all methods of the class.</font>  "
      ],
      "metadata": {
        "id": "acp3_pcK2hBe"
      }
    },
    {
      "cell_type": "markdown",
      "source": [
        "#### <font color='blue'>***Creating the Dog Class***\n",
        "By creating the `Dog` class, we accomplish the following:\n",
        "- _Initialize attributes with __init()__:\n",
        "Dogs have general attributes such as name and age.\n",
        "- Define two methods: `sit()` and `roll_over()`. \n",
        "  These methods represent behaviors and therefore use functions. The functions basically print a statement that the dog in question is displaying the behavior of interest (sitting, rolling over)\n",
        "- Create two instances of Dog class and assign them respectively to two objects `my_dog` and `your_dog` \n",
        "- Call the class method `sit()` on the objects `my_dog` and `your_dog`  "
      ],
      "metadata": {
        "id": "0np1MCAzOhnQ"
      }
    },
    {
      "cell_type": "code",
      "execution_count": null,
      "metadata": {
        "id": "YYk7WCAKxVi6"
      },
      "outputs": [],
      "source": [
        "class Dog:\n",
        "    \"\"\"A simple attempt to model a dog.\"\"\"  \n",
        "  \n",
        "    def __init__(self, name, age):\n",
        "        \"\"\"Initialize name and age attributes.\"\"\"\n",
        "        self.name = name\n",
        "        self.age = age\n",
        "        \n",
        "    def sit(self):\n",
        "        \"\"\"Simulate a dog sitting in response to a command.\"\"\"\n",
        "        print(f\"{self.name} is now sitting.\")\n",
        "\n",
        "    def roll_over(self):\n",
        "        \"\"\"Simulate rolling over in response to a command. See cell below\"\"\"\n",
        "        print(f\"{self.name} rolled over!\")\n",
        "\n"
      ]
    },
    {
      "cell_type": "markdown",
      "source": [
        "#### <font color='blue'>***Making an instance from a class***\n",
        "Create two instances of the Dog class and assign them to objects my_dog and your_dog\n"
      ],
      "metadata": {
        "id": "QZwXEXSTeY9r"
      }
    },
    {
      "cell_type": "code",
      "source": [
        "my_dog = Dog('Willie', 6)\n",
        "your_dog = Dog('Lucy', 3)\n",
        "\n",
        "my_dog"
      ],
      "metadata": {
        "colab": {
          "base_uri": "https://localhost:8080/"
        },
        "id": "w5apwORNetNP",
        "outputId": "16e439fe-5245-43bc-c4d5-55f05e33e916"
      },
      "execution_count": null,
      "outputs": [
        {
          "output_type": "execute_result",
          "data": {
            "text/plain": [
              "<__main__.Dog at 0x7fe9edb0fb90>"
            ]
          },
          "metadata": {},
          "execution_count": 13
        }
      ]
    },
    {
      "cell_type": "code",
      "source": [
        "# both objects are instances of Dog class\n",
        "print(f\"my_dog is an instance of {my_dog} class\")\n",
        "print(f\"your_dog is also an instance of {your_dog} class\")"
      ],
      "metadata": {
        "colab": {
          "base_uri": "https://localhost:8080/"
        },
        "id": "VpJ2tH_EmfVi",
        "outputId": "199c6d75-40c3-444d-dc84-4f762d8d38cf"
      },
      "execution_count": null,
      "outputs": [
        {
          "output_type": "stream",
          "name": "stdout",
          "text": [
            "my_dog is an instance of <__main__.Dog object at 0x7fe9edb0fb90> class\n",
            "your_dog is also an instance of <__main__.Dog object at 0x7fe9edb0fb50> class\n"
          ]
        }
      ]
    },
    {
      "cell_type": "markdown",
      "source": [
        "###### <font color='blue'>**Acessing Attributes**</font>\n",
        "We can access attributes (name and age) of the objects by using the dot notation"
      ],
      "metadata": {
        "id": "0LdgNuM2kduQ"
      }
    },
    {
      "cell_type": "code",
      "source": [
        "my_dog.name"
      ],
      "metadata": {
        "colab": {
          "base_uri": "https://localhost:8080/",
          "height": 35
        },
        "id": "dQPYROrrmFcU",
        "outputId": "0bcac455-c27b-4365-c714-4c7f5adc4bd9"
      },
      "execution_count": null,
      "outputs": [
        {
          "output_type": "execute_result",
          "data": {
            "text/plain": [
              "'Willie'"
            ],
            "application/vnd.google.colaboratory.intrinsic+json": {
              "type": "string"
            }
          },
          "metadata": {},
          "execution_count": 15
        }
      ]
    },
    {
      "cell_type": "code",
      "source": [
        "print(f\"My dog's name is {my_dog.name}.\")\n",
        "print(f\"He is {my_dog.age} years old \\n\")\n",
        "\n",
        "print(f\"Your dog's name is {your_dog.name}.\")\n",
        "print(f\"Your dog is {your_dog.age} years old.\")"
      ],
      "metadata": {
        "colab": {
          "base_uri": "https://localhost:8080/"
        },
        "id": "r8CqE2V5lAch",
        "outputId": "4601626c-90a9-479a-e1c0-b51f8049e17e"
      },
      "execution_count": null,
      "outputs": [
        {
          "output_type": "stream",
          "name": "stdout",
          "text": [
            "My dog's name is Willie.\n",
            "He is 6 years old \n",
            "\n",
            "Your dog's name is Lucy.\n",
            "Your dog is 3 years old.\n"
          ]
        }
      ]
    },
    {
      "cell_type": "markdown",
      "source": [
        "###### <font color='blue'> **Calling methods** </font>\n",
        "Methods are functions that can be used to represent behaviors (e.g sitting, rolling over). For example, the dog Willie is the object my_dog. We can call methods `sit()` and `roll_over()`on my_dog. This will cause the dog Willie to exhibit those behaviors. "
      ],
      "metadata": {
        "id": "Z5WgmCi8zfEv"
      }
    },
    {
      "cell_type": "code",
      "source": [
        "\n",
        "my_dog.sit()\n",
        "your_dog.sit()"
      ],
      "metadata": {
        "colab": {
          "base_uri": "https://localhost:8080/"
        },
        "id": "dZBIBH2zfi14",
        "outputId": "8f5d46f7-6a8e-4eda-e16e-f3d27e75bdd2"
      },
      "execution_count": null,
      "outputs": [
        {
          "output_type": "stream",
          "name": "stdout",
          "text": [
            "Willie is now sitting.\n",
            "Lucy is now sitting.\n"
          ]
        }
      ]
    },
    {
      "cell_type": "code",
      "source": [
        "my_dog.roll_over()\n",
        "your_dog.roll_over()"
      ],
      "metadata": {
        "colab": {
          "base_uri": "https://localhost:8080/"
        },
        "id": "yhEdTptvpNjQ",
        "outputId": "c19fbae8-c7db-4bcc-c237-0b55ab176bf2"
      },
      "execution_count": null,
      "outputs": [
        {
          "output_type": "stream",
          "name": "stdout",
          "text": [
            "Willie rolled over!\n",
            "Lucy rolled over!\n"
          ]
        }
      ]
    },
    {
      "cell_type": "markdown",
      "source": [
        "### <font color= 'blue'> **Working with Classes and Instances**</font>"
      ],
      "metadata": {
        "id": "BC00oGFU42zD"
      }
    },
    {
      "cell_type": "markdown",
      "source": [
        "<font color='blue'>*car.py*</font>  :  \n"
      ],
      "metadata": {
        "id": "TgLzk7OPyeNv"
      }
    },
    {
      "cell_type": "markdown",
      "source": [
        "####<font color='blue'>*The Car Class*</font>"
      ],
      "metadata": {
        "id": "ynxzz7xYj-A9"
      }
    },
    {
      "cell_type": "markdown",
      "source": [
        "Having learnt how to create classes and define their attribuites, this section will focus on the following:\n",
        "- Setting default values for the attributes\n",
        "- modifying those attributes. There are 3 ways of doing this:\n",
        "\n",
        "    *   Directly setting the value of an attribute\n",
        "    *   Modifying an attribute's value through a method\n",
        "    *   Incrementing an attribute's value through a method\n",
        "\n",
        "\n",
        "The program below will accomplish the following:\n",
        "- Create  `Car` class with `__ init() __` statement, its defining attributes: `make`, `model`, and `year`. \n",
        "- Define a method `get_descriptive_name()`to return neatly formatted description of the car based on its attributes.\n",
        "- Modifying value of an attribute (odometer reading) of the class by using the **three different ways** described above"
      ],
      "metadata": {
        "id": "-WRLahNKkCfL"
      }
    },
    {
      "cell_type": "code",
      "source": [
        "class Car:\n",
        "    \"\"\"A simple attempt to represent a car.\"\"\"\n",
        "\n",
        "    def __init__(self, make, model, year):\n",
        "        \"\"\"Initialize attributes to describe a car.\"\"\"\n",
        "        self.make = make\n",
        "        self.model = model\n",
        "        self.year = year\n",
        "\n",
        "    def get_descriptive_name(self):\n",
        "        \"\"\"Return a neatly formatted descriptive name.\"\"\"\n",
        "        long_name = f\"{self.year} {self.make} {self.model}\"\n",
        "        return long_name.title()\n",
        "\n",
        "    def read_odometer(self):\n",
        "        \"\"\"Print a statement showing the car's mileage.\"\"\"\n",
        "        print(f\"This car has {self.odometer_reading} miles on it.\")\n",
        "\n",
        "   \n",
        "    \n",
        "my_new_car = Car('Audi', 'a4', 2019)\n",
        "print(my_new_car.get_descriptive_name())\n",
        "\n",
        "\n",
        "\n"
      ],
      "metadata": {
        "colab": {
          "base_uri": "https://localhost:8080/"
        },
        "id": "Ht9fvXXZyk7u",
        "outputId": "e48d9cb2-3d04-4df2-ec94-34d978128ab4"
      },
      "execution_count": null,
      "outputs": [
        {
          "output_type": "stream",
          "name": "stdout",
          "text": [
            "2019 Audi A4\n"
          ]
        }
      ]
    },
    {
      "cell_type": "markdown",
      "source": [
        "####<font color='blue'>*Setting a Default Value for an Attribute*</font>"
      ],
      "metadata": {
        "id": "LqHr9e6Wk0Mx"
      }
    },
    {
      "cell_type": "markdown",
      "source": [
        "Here is the first approach.\n",
        "\n",
        "> e.g. `self.odometer_reading = 0`\n",
        "\n",
        "Note that the attribute `odometer_reading` is not included in the `__ init() __` statement. However, it is added within the `__ init() __` block. Therefore, it prefixed by `self` and the statement is appropriately indented for the block."
      ],
      "metadata": {
        "id": "591pehJcodta"
      }
    },
    {
      "cell_type": "code",
      "source": [
        "class Car:\n",
        "    \"\"\"A simple attempt to represent a car.\"\"\"\n",
        "\n",
        "    def __init__(self, make, model, year):\n",
        "        \"\"\"Initialize attributes to describe a car.\"\"\"\n",
        "        self.make = make\n",
        "        self.model = model\n",
        "        self.year = year\n",
        "\n",
        "        \"\"\" Directly setting value of an attribute\"\"\"\n",
        "        self.odometer_reading = 0   \n",
        "        \n",
        "    def get_descriptive_name(self):\n",
        "        \"\"\"Return a neatly formatted descriptive name.\"\"\"\n",
        "        long_name = f\"{self.year} {self.make} {self.model}\"\n",
        "        return long_name.title()\n",
        "\n",
        "    def read_odometer(self):\n",
        "        \"\"\"Print a statement showing the car's mileage.\"\"\"\n",
        "        print(f\"This car has {self.odometer_reading} miles on it.\")\n",
        "\n",
        "   \n",
        "    \n",
        "my_new_car = Car('Audi', 'a4', 2019)\n",
        "print(my_new_car.get_descriptive_name())\n",
        "my_new_car.read_odometer()\n",
        "\n",
        "\n"
      ],
      "metadata": {
        "colab": {
          "base_uri": "https://localhost:8080/"
        },
        "outputId": "2afbcc34-d1a6-4d4a-ad31-95c10d93bb3d",
        "id": "zfXoL7CnnE97"
      },
      "execution_count": null,
      "outputs": [
        {
          "output_type": "stream",
          "name": "stdout",
          "text": [
            "2019 Audi A4\n",
            "This car has 0 miles on it.\n"
          ]
        }
      ]
    },
    {
      "cell_type": "markdown",
      "source": [
        "#### <font color='blue'>*Modifying an attributes value through a method*\n",
        "The second approach is to use a method to modify value of an attribute. We do this with `update_odometer()` method. The rest of the program is the same.\n",
        "\n",
        "- Note, a check is built into the `update_odometer()` function that does not allow the odometer to be rolled back. \n",
        "- Also note, the new method `update_odometer()` is not a part of the `__ init() __` block defining that function. Rather, it is an independent block with its own `def()` statement."
      ],
      "metadata": {
        "id": "8n4tzYGPjkQF"
      }
    },
    {
      "cell_type": "code",
      "source": [
        "class Car:\n",
        "    \"\"\"A simple attempt to represent a car.\"\"\"\n",
        "\n",
        "    def __init__(self, make, model, year):\n",
        "        \"\"\"Initialize attributes to describe a car.\"\"\"\n",
        "        self.make = make\n",
        "        self.model = model\n",
        "        self.year = year\n",
        "\n",
        "        \"\"\" Directly setting value of an attribute\"\"\"\n",
        "        self.odometer_reading = 0   \n",
        "        \n",
        "    def get_descriptive_name(self):\n",
        "        \"\"\"Return a neatly formatted descriptive name.\"\"\"\n",
        "        long_name = f\"{self.year} {self.make} {self.model}\"\n",
        "        return long_name.title()\n",
        "\n",
        "    def read_odometer(self):\n",
        "        \"\"\"Print a statement showing the car's mileage.\"\"\"\n",
        "        print(f\"This car has {self.odometer_reading} miles on it.\")\n",
        "\n",
        "   \n",
        "    \n",
        "my_new_car = Car('Audi', 'a4', 2019)\n",
        "print(my_new_car.get_descriptive_name())\n",
        "my_new_car.read_odometer()\n",
        "\n",
        "\n"
      ],
      "metadata": {
        "colab": {
          "base_uri": "https://localhost:8080/"
        },
        "outputId": "94dedc3b-70f9-4e93-edd1-09ca607a8efe",
        "id": "J6s7LzEtnagK"
      },
      "execution_count": null,
      "outputs": [
        {
          "output_type": "stream",
          "name": "stdout",
          "text": [
            "2019 Audi A4\n",
            "This car has 0 miles on it.\n"
          ]
        }
      ]
    },
    {
      "cell_type": "code",
      "source": [
        "# Rolling back the odometer not allowed\n",
        "my_used_car.update_odometer(15)"
      ],
      "metadata": {
        "colab": {
          "base_uri": "https://localhost:8080/"
        },
        "id": "Dq1imtP5UwyZ",
        "outputId": "27f1c4a9-c7e3-48c1-f775-c730e2c9ee6e"
      },
      "execution_count": null,
      "outputs": [
        {
          "output_type": "stream",
          "name": "stdout",
          "text": [
            "You can't roll back an odometer!\n"
          ]
        }
      ]
    },
    {
      "cell_type": "markdown",
      "source": [
        "#### <font color='blue'>*Incrementing an attributes's value through a  method*</font>\n",
        "The third approach is to update the value of the odometer. This is done with `update_odometer` method.\n",
        "\n",
        "The main body of code remains the same as in the above cell. A new method increments the odometer reading by adding a certain number of miles specified by the user to the previous reading."
      ],
      "metadata": {
        "id": "1m5sYeUQ3L1z"
      }
    },
    {
      "cell_type": "code",
      "source": [
        "class Car:\n",
        "    \"\"\"A simple attempt to represent a car.\"\"\"\n",
        "\n",
        "    def __init__(self, make, model, year):\n",
        "        \"\"\"Initialize attributes to describe a car.\"\"\"\n",
        "        self.make = make\n",
        "        self.model = model\n",
        "        self.year = year\n",
        "        self.odometer_reading = 0\n",
        "        \n",
        "    def get_descriptive_name(self):\n",
        "        \"\"\"Return a neatly formatted descriptive name.\"\"\"\n",
        "        long_name = f\"{self.year} {self.make} {self.model}\"\n",
        "        return long_name.title()\n",
        "\n",
        "    def read_odometer(self):\n",
        "        \"\"\"Print a statement showing the car's mileage.\"\"\"\n",
        "        print(f\"This car has {self.odometer_reading} miles on it.\")\n",
        "    \n",
        "    def update_odometer(self, mileage):\n",
        "        \"\"\"\n",
        "        Set the odometer reading to the given value.\n",
        "        Reject the change if it attempts to roll the odometer back.\n",
        "        \"\"\"\n",
        "        if mileage >= self.odometer_reading:\n",
        "            self.odometer_reading = mileage\n",
        "        else:\n",
        "            print(\"You can't roll back an odometer!\")\n",
        "\n",
        "# defining the new method increment_odometer()    \n",
        "    def increment_odometer(self, miles):\n",
        "        \"\"\"Add the given amount to the odometer reading.\"\"\"\n",
        "        self.odometer_reading += miles\n",
        "    \n",
        "my_used_car = Car('subaru', 'outback', 2015)\n",
        "print(my_used_car.get_descriptive_name())\n",
        "\n",
        "my_used_car.update_odometer(23500)\n",
        "my_used_car.read_odometer()\n",
        "\n",
        "my_used_car.increment_odometer(500)\n",
        "my_used_car.read_odometer()\n"
      ],
      "metadata": {
        "colab": {
          "base_uri": "https://localhost:8080/"
        },
        "id": "wlj3SX6Tr-1a",
        "outputId": "b0a55b4b-1176-4806-8460-346e25d35f8d"
      },
      "execution_count": null,
      "outputs": [
        {
          "output_type": "stream",
          "name": "stdout",
          "text": [
            "2015 Subaru Outback\n",
            "This car has 23500 miles on it.\n",
            "This car has 24000 miles on it.\n"
          ]
        }
      ]
    },
    {
      "cell_type": "markdown",
      "source": [
        "### <font color='blue'>**Inheritance**</font>\n",
        " <font color='blue'>*Electric_car.py*</font>"
      ],
      "metadata": {
        "id": "wXPcoyz6V5CU"
      }
    },
    {
      "cell_type": "markdown",
      "source": [
        "####  <font color='blue'>*The __ init __() method for a child class*</font> \n",
        "\n",
        "The `ElectricCar` class (child class) created below will inherit the from the Car class (parent class). That is, it will have all the characteristics of the Car class, as well as the new characteristics that will be defined below. In addition, the methods defined for the parent class e.g. `get_descriptyive_name` will become available to the child `ElectricCar` class.\n",
        "\n",
        "- The `class` statement has `Car` parameter, indicating the parent class from which the ElectricCar class inherits.\n",
        "- The `__ init() __` statement of `ElectricCar` class is the same as that of the parent `Car` class, with parameters `model`, `make` and `year`.\n",
        "- `super().__ init __` allows calling methods from the parent (or super) class. It runs the `__ init __` function of the parent class, making available all attributes defined in that methods (i.e. attributes defined in the super/parent class)"
      ],
      "metadata": {
        "id": "J3K_QrgNjT1R"
      }
    },
    {
      "cell_type": "code",
      "source": [
        "\n",
        "class ElectricCar(Car):\n",
        "    \"\"\"Represent aspects of a car, specific to electric vehicles.\"\"\"\n",
        "    \n",
        "    def __init__(self, make, model, year):\n",
        "        \"\"\"\n",
        "        Initialize attributes of the parent class.\n",
        "        Then initialize attributes specific to an electric car.\n",
        "        \"\"\"\n",
        "        super().__init__(make, model, year)\n",
        "        self.battery_size = 75\n",
        "\n",
        "   \n",
        "my_tesla = ElectricCar('tesla', 'model s', 2019)\n",
        "print(my_tesla.get_descriptive_name())\n",
        "\n"
      ],
      "metadata": {
        "colab": {
          "base_uri": "https://localhost:8080/"
        },
        "id": "bDu-0DvXK3rJ",
        "outputId": "e198efdd-e90b-4210-adce-0ac5a1c65fa7"
      },
      "execution_count": null,
      "outputs": [
        {
          "output_type": "stream",
          "name": "stdout",
          "text": [
            "2019 Tesla Model S\n"
          ]
        }
      ]
    },
    {
      "cell_type": "markdown",
      "source": [
        "The above output was shows that we were able to call the `get_descriptive_name()` method of super class `Car` on an instance `my_Tesla` of the sub class `ElectricCar`. "
      ],
      "metadata": {
        "id": "aDEr0Q_NMDWR"
      }
    },
    {
      "cell_type": "markdown",
      "source": [
        "#### <font color='blue'> *Defining Attributes for Child Class*\n",
        "\n",
        "- For the `ElectricCar` child or sub class a new attribute `battery_size` is defined and its value is directly set at 75\n",
        "- a new method `describe_battery` is also defined for the sub class\n",
        "- This method is called on an instance `my_Tesla` of the sub class."
      ],
      "metadata": {
        "id": "MnHZPx_UONH4"
      }
    },
    {
      "cell_type": "code",
      "source": [
        "class ElectricCar(Car):\n",
        "    \"\"\"Represent aspects of a car, specific to electric vehicles.\"\"\"\n",
        "    \n",
        "    def __init__(self, make, model, year):\n",
        "        \"\"\"\n",
        "        Initialize attributes of the parent class.\n",
        "        Then initialize attributes specific to an electric car.\n",
        "        \"\"\"\n",
        "        super().__init__(make, model, year)\n",
        "        self.battery_size = 75\n",
        "\n",
        "    def describe_battery(self):\n",
        "        \"\"\"Print a statement describing the battery size.\"\"\"\n",
        "        print(f\"This car has a {self.battery_size}-kWh battery.\")\n",
        "\n",
        "my_tesla = ElectricCar('tesla', 'model s', 2019)\n",
        "my_tesla.describe_battery()"
      ],
      "metadata": {
        "colab": {
          "base_uri": "https://localhost:8080/"
        },
        "id": "jad-ChnDNXef",
        "outputId": "2bd16511-6018-4473-f3e6-6c56472f3a8c"
      },
      "execution_count": null,
      "outputs": [
        {
          "output_type": "stream",
          "name": "stdout",
          "text": [
            "This car has a 75-kWh battery.\n"
          ]
        }
      ]
    },
    {
      "cell_type": "markdown",
      "source": [
        "<font color='blue'>*Electric_car.py*</font>\n",
        "####<font color='blue'>*Overriding methods from the Parent Class*</font>\n",
        "Suppose the parent `Car` class had a method `fill_gass_tank`. \n",
        "- The `Electric_car` sub class inheriting from parent `Car` class. It will inherit all the methos of the parent class, including the `fill_gass_tank` method.\n",
        "\n",
        "- But this method is irrelevant for teh Electric_car sub class becasue **electric cars don't have gas tanks!**\n",
        "\n",
        "```\n",
        "class ElectricCar(Car)\n",
        "    --snip--\n",
        "```\n",
        "\n",
        "\n",
        "\n",
        "We can override this by the following method in the `Electric_car` sub class, by **using exactly the same name as the method had in the parent class**, BUT changing the funtionality of the method i.e. by making in do somethingn else. \n",
        "\n",
        "For example, we will redefine the `fill_gass_tank` method to print the message that electric cars dont have gas tank.  \n",
        "\n",
        "If it is called on an instance of the ElectricCar sub class, it returns the above message:\n",
        "\n",
        "```\n",
        "   def fill_gas_tank(self):\n",
        "      \"\"\"Electric cars don't have gas tanks\"\"\"\n",
        "      print(\"This car doesn't have a gas tank!\")\n",
        "```\n"
      ],
      "metadata": {
        "id": "cCbHuV-aRboX"
      }
    },
    {
      "cell_type": "markdown",
      "source": [
        "#### <font color='blue'>*Instances as Attributes*</font>\n",
        "As you add more detail, the classes can become complicated, and the code longer. Sometimes when we want to add attributes and methods specific to a particular thing (e.g. the battery of the car), it may be better to:\n",
        "\n",
        "(i) define a new class, i.e. the `Battery` class, and \n",
        "\n",
        "(ii) <font color='blue'>then assign the `Battery` class to an attribute of the other class </font> (Car class, say). \n",
        "\n",
        "In the example below, we create:\n",
        "- `Battery` class. This class has a method `describe_battery` \n",
        "- `ElectricCar(Car)` class, which inherits the from the `Car` class\n",
        "- The `ElectricCar(Car)` also has an **attribute** `self.battery` to which, we assign the `Battery()` **class**, as shown below:\n",
        "\n",
        "```\n",
        "class ElectricCar(Car):\n",
        "     --snip--\n",
        "      self.battery = Battery()\n",
        "```\n",
        "\n",
        "What this will do is that every time an instance of the `ElectricCar` class is created, it will automatically create an instance of the `Battery()` class as well. So all the methods of teh `Battery()` will become available to the instance of the `ElectricCar()`.\n",
        "\n",
        "As shown below, if we create `my_tesla` and and instance of `ElectricCar()` class, we could call the `describe_battery` method of the `Battery()` class on it as shown below:\n",
        "```\n",
        "    my_tesla.battery.describe_battery()\n",
        "```\n",
        "note that `my_tesla.battery` is accessing the `battery` attribute of the `ElectricCar()` class. The `.describe_battery()` part is calling a method of `Battery()` class on it.\n"
      ],
      "metadata": {
        "id": "-cqZhv7wUamO"
      }
    },
    {
      "cell_type": "code",
      "source": [
        "# Defining the Battery() class\n",
        "\n",
        "class Battery:\n",
        "    \"\"\"A simple attempt to model a battery for an electric car.\"\"\"\n",
        "    \n",
        "    def __init__(self, battery_size=75):\n",
        "        \"\"\"Initialize the battery's attributes.\"\"\"\n",
        "        self.battery_size = battery_size\n",
        "\n",
        "    def describe_battery(self):\n",
        "        \"\"\"Print a statement describing the battery size.\"\"\"\n",
        "        print(f\"This car has a {self.battery_size}-kWh battery.\")\n",
        "\n",
        "    def get_range(self):\n",
        "        \"\"\"Print a statement about the range this battery provides.\"\"\"\n",
        "        if self.battery_size == 75:\n",
        "            range = 260\n",
        "        elif self.battery_size == 100:\n",
        "            range = 315\n",
        "            \n",
        "        print(f\"This car can go about {range} miles on a full charge.\")\n",
        "\n",
        "\n",
        "# Assigning Battery class to an attribute of the ElectricCar class\n",
        "\n",
        "class ElectricCar(Car):\n",
        "    \"\"\"Represent aspects of a car, specific to electric vehicles.\"\"\"\n",
        "    \n",
        "    def __init__(self, make, model, year):\n",
        "        \"\"\"\n",
        "        Initialize attributes of the parent class.\n",
        "        Then initialize attributes specific to an electric car.\n",
        "        \"\"\"\n",
        "        super().__init__(make, model, year)\n",
        "\n",
        "#       assigning Battery class to attribute of ElectricCar class\n",
        "        self.battery = Battery()     \n",
        "\n",
        "\n",
        "my_tesla = ElectricCar('tesla', 'model s', 2019)\n",
        "print(my_tesla.get_descriptive_name())\n",
        "my_tesla.battery.describe_battery()\n",
        "my_tesla.battery.get_range()"
      ],
      "metadata": {
        "colab": {
          "base_uri": "https://localhost:8080/"
        },
        "id": "ws9oPCX99UHj",
        "outputId": "b9ee20f3-62dd-4cf8-d3aa-835f684062cb"
      },
      "execution_count": null,
      "outputs": [
        {
          "output_type": "stream",
          "name": "stdout",
          "text": [
            "2019 Tesla Model S\n",
            "This car has a 75-kWh battery.\n",
            "This car can go about 260 miles on a full charge.\n"
          ]
        }
      ]
    },
    {
      "cell_type": "markdown",
      "source": [
        "The `describe_battery()`, and `get_range()` methods were defined in the Battery class above. They were NOT defined in the `ElectricCar` class. Yet, both methods were called on an `attribute` of the `my_tesla` instance of the `ElectricCar` class. The output contains a description of the battery, and given car's battery size, information was printed out about the range of the electric car. This happended becasue the `Battery` class was assigned to an attribute of the `ElectricCar` class."
      ],
      "metadata": {
        "id": "P6-yYes6-ume"
      }
    },
    {
      "cell_type": "markdown",
      "source": [
        "####<font color='blue'>*Modeling Real-World Objects*</font>\n",
        "In modelling real world objects, it is not always clear what methods should belong to a particular class versus another class. There are no right or wrong answers. If your code is working as you want, you're doing well.  Some apporaches are more efficient than others, but it takes practice to find the most efficent representation. Sometimes you would be ripping apart your classes and rewriting your code in your quest to produce accruate and efficient code. Just remember that everyone goes through that process. "
      ],
      "metadata": {
        "id": "z2jBBwE8pHSK"
      }
    },
    {
      "cell_type": "markdown",
      "source": [
        "###<font color='blue'>**Importing Classes**</font>\n",
        "Python modules are `.py` files stored somewhere. In our case, the modules are saved on <font color='Blue'>**Goo</font><font color='orange'>gle</font><font color='grass'>Drive**</font>.\n",
        "\n",
        "A module may contain one or more classes. You need to import the class you want to use."
      ],
      "metadata": {
        "id": "6Nk1ApXkSCkq"
      }
    },
    {
      "cell_type": "markdown",
      "source": [
        "Want to create a **module** that contains the **`Car class`**. \n",
        "\n",
        "- <font color= 'red'>The code below was saved in file named **`car.py`**, which was uploaded to Google Drive folder **`python_scripts`**. **This file is the `car module`**.</font>\n",
        "- We will create below a code cell that would call the **`car module`** and create instances of the **`Car class`** contained in the module.  \n",
        "\n",
        "We also include a module level docstring describing the contents of the module.\n",
        "```\n",
        "\"\"\"A class that can be used to reprersent a car\"\"\"\n",
        "class Car:\n",
        "    \"\"\"A simple attempt to represent a car.\"\"\"\n",
        "\n",
        "    def __init__(self, make, model, year):\n",
        "        \"\"\"Initialize attributes to describe a car.\"\"\"\n",
        "        self.make = make\n",
        "        self.model = model\n",
        "        self.year = year\n",
        "\n",
        "    def get_descriptive_name(self):\n",
        "        \"\"\"Return a neatly formatted descriptive name.\"\"\"\n",
        "        long_name = f\"{self.year} {self.make} {self.model}\"\n",
        "        return long_name.title()\n",
        "\n",
        "    def read_odometer(self):\n",
        "        \"\"\"Print a statement showing the car's mileage.\"\"\"\n",
        "        print(f\"This car has {self.odometer_reading} miles on it.\")\n",
        "\n",
        "\n",
        "    def update_odometer(self, mileage):\n",
        "        \"\"\"\n",
        "        Set the odometer reading to the given value.\n",
        "        Reject the change if it attempts to roll the odometer back.\n",
        "        \"\"\"\n",
        "        if mileage >= self.odometer_reading:\n",
        "            self.odometer_reading = mileage\n",
        "        else:\n",
        "            print(\"You can't roll back an odometer!\")\n",
        " \n",
        "    def increment_odometer(self, miles):\n",
        "        \"\"\"Add the given amount to the odometer reading.\"\"\"\n",
        "        self.odometer_reading += miles   \n",
        "\n",
        "\n",
        "```"
      ],
      "metadata": {
        "id": "vt4y8UXnx0M8"
      }
    },
    {
      "cell_type": "code",
      "source": [
        "# Mount your google drive in google colab\n",
        "from google.colab import drive\n",
        "drive.mount('/content/drive')\n"
      ],
      "metadata": {
        "colab": {
          "base_uri": "https://localhost:8080/"
        },
        "id": "qpSLt-uMa05U",
        "outputId": "7565d549-bb67-46b4-ab6c-23841e79baf1"
      },
      "execution_count": null,
      "outputs": [
        {
          "output_type": "stream",
          "name": "stdout",
          "text": [
            "Drive already mounted at /content/drive; to attempt to forcibly remount, call drive.mount(\"/content/drive\", force_remount=True).\n"
          ]
        }
      ]
    },
    {
      "cell_type": "markdown",
      "source": [
        "### Import **`Car class`** from **`car module`**\n",
        "\n",
        "The current working directory is `/content`.\n",
        "\n",
        "The **`car module`** is in the subfolder `/content/drive/Mydrive/python_scripts`. \n",
        "\n",
        "To import the `Car class` from the `car module`, you have to provide the entire path forward from the current working directory to the module file `car.py`\n",
        "\n",
        "So our import statement will be  as follows:\n",
        "\n",
        "`from drive.MyDrive.python_scripts.car import Car`\n"
      ],
      "metadata": {
        "id": "ejdS87wdeosm"
      }
    },
    {
      "cell_type": "markdown",
      "source": [
        "<font color='blue'>*my_car.py*</font>"
      ],
      "metadata": {
        "id": "Ne_dsVW_txlr"
      }
    },
    {
      "cell_type": "code",
      "source": [],
      "metadata": {
        "id": "cx8ouFmeekCY"
      },
      "execution_count": null,
      "outputs": []
    },
    {
      "cell_type": "code",
      "source": [
        "# import Car class from the car module saved in python_scripts subfolder \n",
        "from drive.MyDrive.python_scripts.car import Car\n",
        "\n",
        "\n",
        "# Create an instance of car class \n",
        "my_new_car = Car('audi', 'a4', 2019)\n",
        "\n",
        "print(my_new_car.get_descriptive_name())"
      ],
      "metadata": {
        "colab": {
          "base_uri": "https://localhost:8080/"
        },
        "id": "575AINu0bRkX",
        "outputId": "214716f2-2148-44e1-d8c1-634333fdaf47"
      },
      "execution_count": null,
      "outputs": [
        {
          "output_type": "stream",
          "name": "stdout",
          "text": [
            "2019 Audi A4\n"
          ]
        }
      ]
    },
    {
      "cell_type": "markdown",
      "source": [
        "####<font color='blue'>*Storing Multiple Classes in a Single Module*</font>\n",
        "You will now put the following classes in **`car module`** (in the same `car.py` file, that is):\n",
        " > - Battery class\n",
        " > - ElectricCar class\n",
        "\n",
        "So go ahead and copy the code snippets that create those classes to car.py, which is in Google Drive folder `python_scripts`. Save it again. \n",
        "\n",
        "<font color='blue'>*my_electric_car.py*</font>\n",
        "\n",
        "Note that the module `car` is not in the working directory (`/content`). It is in the `python_scripts` subfolder, which is temporarily copied to the working directory as a result of our running the `!cp -r` shell command in the above cells   . \n",
        "\n",
        "So we can't just import the `ElectricCar` class directly from the `car` module. Instead, we have to also provide the filepath forward from the working directory(`/content`). Terefor, our  import statement would be as shown below.  \n",
        ">`from python_cripts.car import ElectricCar`\n",
        "\n"
      ],
      "metadata": {
        "id": "SFgQ2W08lJVq"
      }
    },
    {
      "cell_type": "code",
      "source": [
        "from drive.MyDrive.python_scripts.car import ElectricCar\n",
        "\n",
        "my_tesla = ElectricCar('tesla', 'model s', 2019)\n",
        "\n",
        "print(my_tesla.get_descriptive_name())\n",
        "my_tesla.battery.describe_battery()\n",
        "my_tesla.battery.get_range()"
      ],
      "metadata": {
        "colab": {
          "base_uri": "https://localhost:8080/"
        },
        "id": "jkQAsVUUtgCO",
        "outputId": "610c80ad-d7a9-4ae7-9542-6e2bcd673efc"
      },
      "execution_count": null,
      "outputs": [
        {
          "output_type": "stream",
          "name": "stdout",
          "text": [
            "2019 Tesla Model S\n",
            "This car has a 75-kWh battery.\n",
            "This car can go about 260 miles on a full charge.\n"
          ]
        }
      ]
    },
    {
      "cell_type": "markdown",
      "source": [
        "####<font color='blue'>*Importing Multiple Classes from a Module*</font>\n",
        "\n",
        "You can import as many classes from a module as you need. Let's import `Car` aand `ElectricCar` classes from the **`car module`**"
      ],
      "metadata": {
        "id": "3q72a0yS_FFW"
      }
    },
    {
      "cell_type": "code",
      "source": [
        "# Import Car and ElectricCar classes from car module\n",
        "from drive.MyDrive.python_scripts.car import Car, ElectricCar\n",
        "\n",
        "my_beetle = Car('volkswagen', 'beetle', 2019)\n",
        "print(my_beetle.get_descriptive_name())\n",
        "\n",
        "my_tesla =ElectricCar('tesla', 'roadster', 2019)\n",
        "print(my_tesla.get_descriptive_name())\n"
      ],
      "metadata": {
        "colab": {
          "base_uri": "https://localhost:8080/"
        },
        "id": "c_FBLBPh_uSW",
        "outputId": "7f6f4300-4249-496e-fefe-4267341f6ee0"
      },
      "execution_count": null,
      "outputs": [
        {
          "output_type": "stream",
          "name": "stdout",
          "text": [
            "2019 Volkswagen Beetle\n",
            "2019 Tesla Roadster\n"
          ]
        }
      ]
    },
    {
      "cell_type": "markdown",
      "source": [
        "####<font color='blue'>*Importing an Entire Module*</font>\n",
        "You can import the entire module. Then you can just import the classes you need using the **dot notation**. The format for calling the class is:\n",
        ">```\n",
        "module_name.ClassName\n",
        "```\n",
        "<font color='red'>If you are in Google colab, and your module is in Google Drive, you have to change working directory to the subfolder where the module is saved (python_scripts, in this case)</font>\n",
        "\n",
        "Use the `%cd` command to change working directory\n",
        "```\n",
        "> %cd /content/drive/MyDrive/python_scripts\n",
        "```\n",
        "\n",
        "The above example is re-worked in this fashion in the code cell below:"
      ],
      "metadata": {
        "id": "nEE6all3A_TX"
      }
    },
    {
      "cell_type": "code",
      "source": [
        "# Changing the working directory\n",
        "%cd /content/drive/MyDrive/python_scripts\n"
      ],
      "metadata": {
        "colab": {
          "base_uri": "https://localhost:8080/"
        },
        "id": "6iM4KTSwHqTb",
        "outputId": "64f7dcf5-b79c-4a2f-c197-574faa1c746f"
      },
      "execution_count": null,
      "outputs": [
        {
          "output_type": "stream",
          "name": "stdout",
          "text": [
            "/content/drive/MyDrive/python_scripts\n"
          ]
        }
      ]
    },
    {
      "cell_type": "code",
      "source": [
        "%pwd"
      ],
      "metadata": {
        "colab": {
          "base_uri": "https://localhost:8080/",
          "height": 36
        },
        "id": "fH73CepBY5eL",
        "outputId": "e56ffc60-a3c0-4fd9-860f-69cef8df8919"
      },
      "execution_count": null,
      "outputs": [
        {
          "output_type": "execute_result",
          "data": {
            "text/plain": [
              "'/content/drive/MyDrive/python_scripts'"
            ],
            "application/vnd.google.colaboratory.intrinsic+json": {
              "type": "string"
            }
          },
          "metadata": {},
          "execution_count": 21
        }
      ]
    },
    {
      "cell_type": "code",
      "source": [
        "# import the car module \n",
        "import car\n",
        "\n",
        "# creat instance of Car class -- use dot notation car.Car\n",
        "my_beetle = car.Car('volkswagen', 'beetle', 2019)\n",
        "\n",
        "print(my_beetle.get_descriptive_name())"
      ],
      "metadata": {
        "colab": {
          "base_uri": "https://localhost:8080/"
        },
        "id": "ildB4wNfCsJr",
        "outputId": "6ce98cea-6c29-4350-ee52-73e6705b2fd5"
      },
      "execution_count": null,
      "outputs": [
        {
          "output_type": "stream",
          "name": "stdout",
          "text": [
            "2019 Volkswagen Beetle\n"
          ]
        }
      ]
    },
    {
      "cell_type": "markdown",
      "source": [
        "####<font color='blue'>*Importing All Classes from a Module*</font>\n",
        "\n",
        "You can import all classes from module with the following syntax:\n",
        ">```\n",
        "from mudule_name import *\n",
        "```\n",
        "\n",
        "Prior to using this syntax, however, the **working directory should be changed** the same folder where the module is saved.\n",
        ">```\n",
        "%cd /content/drive/MyDrive/python_scripts\n",
        "```\n",
        "\n",
        "**This approach is not recommended for two reasons:**\n",
        "- It does not make clear which classes are being imported. This cauld casue confusion, and even errors.\n",
        "- If you need to import many classes from a module, it is better to import the whole module and then use `module_name.ClassName` syntax. Again, in this case, you need to use `%cd` to change the working directory to the folder where the module is located. "
      ],
      "metadata": {
        "id": "NlmKXNxNtU_H"
      }
    },
    {
      "cell_type": "markdown",
      "source": [
        "####<font color='blue'>*Importing a Module into a Module*</font>\n",
        "\n",
        "Sometimes you store classes in several modules to prevent the code from becoming too complex, or to avoid having to put dissimilar classes in the same module. \n",
        "\n",
        "When that happens, a class in one module may need a class in the another module.\n",
        "\n",
        "- For example, lets say we split the `car` module into two -- a 'car1' module and an `electric_car`module. `car1` contains everything that `car` module contained, except the classes `Battery` and `ElectricCar`. Those two classes have been put in the second module `electric_car`. \n",
        "\n",
        "  [ **The book uses the same name for the original `car module` and the new module that has been stripped of the two classes mentoined above**. We want to avoid using a name that has been used before, so we name the new module `car1` instead of `car`]\n",
        "\n",
        "- Now, the `ElectricCar` class needs its parent `Car` class, which is in `car1` module.\n",
        "\n"
      ],
      "metadata": {
        "id": "Tv0ZwtptwBIx"
      }
    },
    {
      "cell_type": "code",
      "source": [
        "%cd /content/drive/MyDrive/python_scripts\n",
        "\n",
        "import car1\n",
        "from car1 import Car\n",
        "\n",
        "import electric_car\n",
        "from electric_car import ElectricCar\n",
        "\n",
        "my_tesla = ElectricCar('tesla', 'roadster', 2019)"
      ],
      "metadata": {
        "colab": {
          "base_uri": "https://localhost:8080/",
          "height": 373
        },
        "id": "f4fU_zojXhqu",
        "outputId": "3fdfe2ab-83cf-4987-eb9e-b41ba57ae4e3"
      },
      "execution_count": null,
      "outputs": [
        {
          "output_type": "stream",
          "name": "stdout",
          "text": [
            "/content/drive/MyDrive/python_scripts\n"
          ]
        },
        {
          "output_type": "error",
          "ename": "NameError",
          "evalue": "ignored",
          "traceback": [
            "\u001b[0;31m---------------------------------------------------------------------------\u001b[0m",
            "\u001b[0;31mNameError\u001b[0m                                 Traceback (most recent call last)",
            "\u001b[0;32m<ipython-input-33-459b595ff1d2>\u001b[0m in \u001b[0;36m<module>\u001b[0;34m\u001b[0m\n\u001b[1;32m      4\u001b[0m \u001b[0;32mfrom\u001b[0m \u001b[0mcar1\u001b[0m \u001b[0;32mimport\u001b[0m \u001b[0mCar\u001b[0m\u001b[0;34m\u001b[0m\u001b[0;34m\u001b[0m\u001b[0m\n\u001b[1;32m      5\u001b[0m \u001b[0;34m\u001b[0m\u001b[0m\n\u001b[0;32m----> 6\u001b[0;31m \u001b[0;32mimport\u001b[0m \u001b[0melectric_car\u001b[0m\u001b[0;34m\u001b[0m\u001b[0;34m\u001b[0m\u001b[0m\n\u001b[0m\u001b[1;32m      7\u001b[0m \u001b[0;32mfrom\u001b[0m \u001b[0melectric_car\u001b[0m \u001b[0;32mimport\u001b[0m \u001b[0mElectricCar\u001b[0m\u001b[0;34m\u001b[0m\u001b[0;34m\u001b[0m\u001b[0m\n\u001b[1;32m      8\u001b[0m \u001b[0;34m\u001b[0m\u001b[0m\n",
            "\u001b[0;32m/content/drive/MyDrive/python_scripts/electric_car.py\u001b[0m in \u001b[0;36m<module>\u001b[0;34m\u001b[0m\n\u001b[1;32m     31\u001b[0m \u001b[0;34m\u001b[0m\u001b[0m\n\u001b[1;32m     32\u001b[0m \u001b[0;31m# Assigning Battery class to an attribute of the ElectricCar class\u001b[0m\u001b[0;34m\u001b[0m\u001b[0;34m\u001b[0m\u001b[0;34m\u001b[0m\u001b[0m\n\u001b[0;32m---> 33\u001b[0;31m \u001b[0;32mclass\u001b[0m \u001b[0mElectricCar\u001b[0m\u001b[0;34m(\u001b[0m\u001b[0mCar\u001b[0m\u001b[0;34m)\u001b[0m\u001b[0;34m:\u001b[0m\u001b[0;34m\u001b[0m\u001b[0;34m\u001b[0m\u001b[0m\n\u001b[0m\u001b[1;32m     34\u001b[0m     \u001b[0;34m\"\"\"Represent aspects of a car, specific to electric vehicles.\"\"\"\u001b[0m\u001b[0;34m\u001b[0m\u001b[0;34m\u001b[0m\u001b[0m\n\u001b[1;32m     35\u001b[0m \u001b[0;34m\u001b[0m\u001b[0m\n",
            "\u001b[0;31mNameError\u001b[0m: name 'Car' is not defined"
          ]
        }
      ]
    },
    {
      "cell_type": "code",
      "source": [
        "# Changing the working directory back to /content\n",
        "%cd /content\n"
      ],
      "metadata": {
        "colab": {
          "base_uri": "https://localhost:8080/"
        },
        "id": "yoEbhOQwF2Jj",
        "outputId": "d7bace34-cabf-4713-8ceb-7df4c5701d9d"
      },
      "execution_count": null,
      "outputs": [
        {
          "output_type": "stream",
          "name": "stdout",
          "text": [
            "/content\n"
          ]
        }
      ]
    },
    {
      "cell_type": "code",
      "source": [
        "# printing th working directory\n",
        "%pwd"
      ],
      "metadata": {
        "colab": {
          "base_uri": "https://localhost:8080/",
          "height": 36
        },
        "id": "-0T8gjrtF2_H",
        "outputId": "6102a91a-719e-4b4e-cbda-a48864786ef3"
      },
      "execution_count": null,
      "outputs": [
        {
          "output_type": "execute_result",
          "data": {
            "text/plain": [
              "'/content'"
            ],
            "application/vnd.google.colaboratory.intrinsic+json": {
              "type": "string"
            }
          },
          "metadata": {},
          "execution_count": 63
        }
      ]
    }
  ]
}